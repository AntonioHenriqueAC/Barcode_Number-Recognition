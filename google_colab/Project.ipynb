{
  "nbformat": 4,
  "nbformat_minor": 0,
  "metadata": {
    "colab": {
      "name": "Project.ipynb",
      "provenance": [],
      "toc_visible": true,
      "authorship_tag": "ABX9TyNk5kEoMCWcczrUR7oVxpVf",
      "include_colab_link": true
    },
    "kernelspec": {
      "name": "python3",
      "display_name": "Python 3"
    }
  },
  "cells": [
    {
      "cell_type": "markdown",
      "metadata": {
        "id": "view-in-github",
        "colab_type": "text"
      },
      "source": [
        "<a href=\"https://colab.research.google.com/github/AntonioHenriqueAC/Barcode_Number-Recognition/blob/master/google_colab/Project.ipynb\" target=\"_parent\"><img src=\"https://colab.research.google.com/assets/colab-badge.svg\" alt=\"Open In Colab\"/></a>"
      ]
    },
    {
      "cell_type": "markdown",
      "metadata": {
        "id": "YwM17itSZ59-",
        "colab_type": "text"
      },
      "source": [
        "# Baixando as bibliotecas necessárias"
      ]
    },
    {
      "cell_type": "code",
      "metadata": {
        "id": "-J-gpbtHZYEr",
        "colab_type": "code",
        "colab": {}
      },
      "source": [
        "# !pip3 install tensorflow-gpu==1.13.1"
      ],
      "execution_count": 0,
      "outputs": []
    },
    {
      "cell_type": "code",
      "metadata": {
        "id": "KsVkPKMSTM9Y",
        "colab_type": "code",
        "colab": {}
      },
      "source": [
        "# !pip3 install imageai --upgrade"
      ],
      "execution_count": 0,
      "outputs": []
    },
    {
      "cell_type": "code",
      "metadata": {
        "id": "HrlqzmpFdSe6",
        "colab_type": "code",
        "colab": {}
      },
      "source": [
        "# !wget https://github.com/AntonioHenriqueAC/tcc/releases/download/1.0/Colab.zip\n",
        "# !unzip \"Colab.zip\"\n",
        "# !rm -rf Colab.zip"
      ],
      "execution_count": 0,
      "outputs": []
    },
    {
      "cell_type": "markdown",
      "metadata": {
        "colab_type": "text",
        "id": "vrORS3j1LJ5m"
      },
      "source": [
        "# Indetificação dos Barcodes\n"
      ]
    },
    {
      "cell_type": "markdown",
      "metadata": {
        "id": "_rlvhItUdl5r",
        "colab_type": "text"
      },
      "source": [
        "## 1. Criando as pastas ##"
      ]
    },
    {
      "cell_type": "code",
      "metadata": {
        "id": "Dj95LnTcyrHl",
        "colab_type": "code",
        "colab": {
          "base_uri": "https://localhost:8080/",
          "height": 312
        },
        "outputId": "76f3b950-9ae4-4ec1-9be5-3abf2bbb6343"
      },
      "source": [
        "import os\n",
        "\n",
        "pathIMG, dirsIMG, filesIMG = next(os.walk(\"Colab/Imagens_Originais\"))\n",
        "path, dirs, files = next(os.walk(\"Colab/Corridas\"))\n",
        "\n",
        "if( len(filesIMG) == len(dirs) ):\n",
        "  print(\"Não há mais imagem para treinar. Por favor insira mais imagens na pasta '/Imagens_Originais'\")\n",
        "else:\n",
        "  file_count_corridas = len(dirs) \n",
        "  if(file_count_corridas == 0):\n",
        "    print(\"Número de corridas na pasta: \", file_count_corridas)\n",
        "    file_count_corridas = 1\n",
        "  else:\n",
        "    print(\"Número de corridas na pasta: \", file_count_corridas)\n",
        "    file_count_corridas = len(dirs) + 1\n",
        "\n",
        "  newFolderCorrida = str(file_count_corridas)\n",
        "  folderCorrida = \"Colab/Corridas/Corrida_\" + newFolderCorrida\n",
        "  print(\"..\")\n",
        "  print(\"..\")\n",
        "  print(\"..\")\n",
        "  !mkdir $folderCorrida\n",
        "  print(\"Criando pasta 'Corrida_\"+newFolderCorrida+\"'\")\n",
        "\n",
        "  folderTagsJson = \"Colab/Corridas/Corrida_\" + newFolderCorrida + \"/tags_json\"\n",
        "  print(\"..\")\n",
        "  print(\"..\")\n",
        "  print(\"..\")\n",
        "  try:\n",
        "    !mkdir $folderTagsJson\n",
        "    print(\"Criando pasta '/tags_json'\")\n",
        "  except:\n",
        "    print(\"Já existe a pasta '/tags_json'\")\n",
        "\n",
        "  folderTagsDetected = \"Colab/Corridas/Corrida_\" + newFolderCorrida + \"/tags_detected\"\n",
        "  print(\"..\")\n",
        "  print(\"..\")\n",
        "  print(\"..\")\n",
        "  try:\n",
        "    !mkdir $folderTagsDetected\n",
        "    print(\"Criando pasta '/tags_detected'\")\n",
        "  except:\n",
        "    print(\"Já existe a pasta '/tags_detected'\")\n",
        "\n",
        "  print(\"..\")\n",
        "  print(\"..\")\n",
        "  print(\"..\")\n",
        "  try:\n",
        "    !mkdir barcode-detected-objects\n",
        "    print(\"Criando pasta '/barcode-detected-objects'\")\n",
        "  except:\n",
        "    print(\"Já existe a pasta '/barcode-detected-objects'\")"
      ],
      "execution_count": 76,
      "outputs": [
        {
          "output_type": "stream",
          "text": [
            "Número de corridas na pasta:  1\n",
            "..\n",
            "..\n",
            "..\n",
            "Criando pasta 'Corrida_2'\n",
            "..\n",
            "..\n",
            "..\n",
            "Criando pasta '/tags_json'\n",
            "..\n",
            "..\n",
            "..\n",
            "Criando pasta '/tags_detected'\n",
            "..\n",
            "..\n",
            "..\n",
            "Criando pasta '/barcode-detected-objects'\n"
          ],
          "name": "stdout"
        }
      ]
    },
    {
      "cell_type": "markdown",
      "metadata": {
        "colab_type": "text",
        "id": "SGJR89WNLLyl"
      },
      "source": [
        "## 2. Setando as variaveis ##\n"
      ]
    },
    {
      "cell_type": "code",
      "metadata": {
        "id": "Ehjz_R1Ixj7a",
        "colab_type": "code",
        "colab": {}
      },
      "source": [
        "modelPath = \"Colab/models/barcode/detection_model-ex-013--loss-0001.995.h5\"\n",
        "JsonPath = \"Colab/json/detection_config_barcode.json\"\n",
        "\n",
        "Image_Number = newFolderCorrida\n",
        "InputImage = \"Colab/Imagens_Originais/img\"+ Image_Number +\".jpg\""
      ],
      "execution_count": 0,
      "outputs": []
    },
    {
      "cell_type": "markdown",
      "metadata": {
        "id": "3OoA0NtvFhtG",
        "colab_type": "text"
      },
      "source": [
        "## 3. Função de interseção sobre união e Função de eliminar quadrados sobrepostos."
      ]
    },
    {
      "cell_type": "code",
      "metadata": {
        "id": "eRVMlsJKBtCn",
        "colab_type": "code",
        "colab": {}
      },
      "source": [
        "def bb_intersection_over_union(boxA, boxB):\n",
        "\t# determine the (x, y)-coordinates of the intersection rectangle\n",
        "\txA = max(boxA[0], boxB[0])\n",
        "\tyA = max(boxA[1], boxB[1])\n",
        "\txB = min(boxA[2], boxB[2])\n",
        "\tyB = min(boxA[3], boxB[3])\n",
        "\t# compute the area of intersection rectangle\n",
        "\tinterArea = max(0, xB - xA + 1) * max(0, yB - yA + 1)\n",
        "\t# compute the area of both the prediction\n",
        "\t# rectangles\n",
        "\tboxAArea = (boxA[2] - boxA[0] + 1) * (boxA[3] - boxA[1] + 1)\n",
        "\tboxBArea = (boxB[2] - boxB[0] + 1) * (boxB[3] - boxB[1] + 1)\n",
        "\t# compute the intersection over union by taking the intersection\n",
        "\t# area and dividing it by the sum of prediction\n",
        "\t# areas - the interesection area\n",
        "\tiou = interArea / float(boxAArea + boxBArea - interArea)\n",
        "\t# return the intersection over union value\n",
        "\treturn iou\n",
        "\n",
        "def boxArea(boxA, boxB):\n",
        "\tboxAArea = (boxA[2] - boxA[0] + 1) * (boxA[3] - boxA[1] + 1)\n",
        "\tboxBArea = (boxB[2] - boxB[0] + 1) * (boxB[3] - boxB[1] + 1)\n",
        "\treturn boxAArea/boxBArea\n",
        "\n",
        "def removeDuplicatesLoop(detections):\n",
        "\ti=0\n",
        "\tk=0\n",
        "\tfor i, detection in enumerate(detections):\n",
        "\t\tfor k, detection in enumerate(detections):\n",
        "\t\t\t\t\tinter = bb_intersection_over_union(detections[i][\"box_points\"] , detections[k][\"box_points\"])\n",
        "\t\t\t\t\tif(inter > float(0.01) and inter < float(1)):\n",
        "\t\t\t\t\t\tif(boxArea(detections[i][\"box_points\"] , detections[k][\"box_points\"]) > 1):\n",
        "\t\t\t\t\t\t\tdetections.pop(k)\n",
        "\t\t\t\t\t\telse:\n",
        "\t\t\t\t\t\t\tdetections.pop(i)\n",
        "\t\t\t\t\t\t\tremoveDuplicatesLoop(detections)"
      ],
      "execution_count": 0,
      "outputs": []
    },
    {
      "cell_type": "markdown",
      "metadata": {
        "id": "y_gJfJgSyLGi",
        "colab_type": "text"
      },
      "source": [
        "## 4. Treinando modelo e recortando os codigos de barras da imagem original ##\n"
      ]
    },
    {
      "cell_type": "code",
      "metadata": {
        "id": "VpWqhmsuw7DR",
        "colab_type": "code",
        "colab": {
          "base_uri": "https://localhost:8080/",
          "height": 1000
        },
        "outputId": "42f251c9-1021-48bd-bfb5-66cda4d06dcc"
      },
      "source": [
        "from imageai.Detection.Custom import CustomObjectDetection\n",
        "from prettytable import PrettyTable\n",
        "\n",
        "if( len(filesIMG) == len(dirs) ):\n",
        "  print(\"Não há mais imagem para treinar. Por favor insira mais imagens na pasta '/Imagens_Originais'\")\n",
        "else:\n",
        "  detector = CustomObjectDetection()\n",
        "  detector.setModelTypeAsYOLOv3()\n",
        "  detector.setModelPath(modelPath)\n",
        "  detector.setJsonPath(JsonPath)\n",
        "  detector.loadModel()\n",
        "\n",
        "  detections = detector.detectObjectsFromImage(input_image = InputImage, \n",
        "                                                            output_image_path=\"barcode-detected-OriginalBoxes.jpg\",\n",
        "                                                            minimum_percentage_probability=30)\n",
        "  for e in detections:\n",
        "    e['box_points'][0] = e['box_points'][0] - 50 ## x1\n",
        "    e['box_points'][1] = e['box_points'][1] - 50 ## y1\n",
        "    e['box_points'][2] = e['box_points'][2] + 50 ## x2\n",
        "    e['box_points'][3] = e['box_points'][3] + 50 ## y2\n",
        "\n",
        "  removeDuplicatesLoop(detections)\n",
        "\n",
        "  header = PrettyTable([\"Nome\", \"Porcentagem \", \"box_points\"])\n",
        "  for detection in detections:\n",
        "    header.add_row([detection[\"name\"], detection[\"percentage_probability\"], detection[\"box_points\"]])\n",
        "\n",
        "  img = PrettyTable([\"                 Barcodes identificados                 \"])\n",
        "  img.add_row([len(detections)])\n",
        "\n",
        "  print(\"\")\n",
        "  print(\"\")\n",
        "  print(header)\n",
        "  print(\"\")\n",
        "  print(img)\n",
        "  print(\"\")"
      ],
      "execution_count": 79,
      "outputs": [
        {
          "output_type": "stream",
          "text": [
            "\n",
            "\n",
            "+---------+--------------------+--------------------------+\n",
            "|   Nome  |    Porcentagem     |        box_points        |\n",
            "+---------+--------------------+--------------------------+\n",
            "| barcode | 35.40835082530975  | [1580, 752, 1771, 1010]  |\n",
            "| barcode | 48.82646203041077  |  [2695, 769, 2921, 968]  |\n",
            "| barcode | 70.38573622703552  |  [1864, 494, 2070, 701]  |\n",
            "| barcode | 67.13752150535583  |  [2754, 479, 2943, 695]  |\n",
            "| barcode | 71.01740837097168  |  [1552, 513, 1759, 728]  |\n",
            "| barcode | 70.18284201622009  |  [2132, 515, 2330, 721]  |\n",
            "| barcode | 67.31690168380737  |  [2369, 523, 2565, 738]  |\n",
            "| barcode | 70.65995931625366  | [1821, 790, 2012, 1001]  |\n",
            "| barcode | 67.02446937561035  | [2117, 801, 2305, 1014]  |\n",
            "| barcode | 72.57766127586365  |  [343, 827, 549, 1042]   |\n",
            "| barcode | 73.01619052886963  |  [628, 821, 833, 1041]   |\n",
            "| barcode | 79.41148281097412  |  [956, 826, 1152, 1040]  |\n",
            "| barcode | 77.83547043800354  | [1243, 823, 1447, 1054]  |\n",
            "| barcode | 71.13211154937744  | [2391, 832, 2596, 1038]  |\n",
            "| barcode | 68.98077726364136  |  [317, 1119, 506, 1321]  |\n",
            "| barcode |  69.5641577243805  |  [608, 1109, 803, 1310]  |\n",
            "| barcode | 63.36030960083008  | [905, 1106, 1097, 1316]  |\n",
            "| barcode |  72.3895251750946  | [1486, 1080, 1681, 1292] |\n",
            "| barcode |  68.0499255657196  | [1778, 1085, 1974, 1301] |\n",
            "| barcode | 60.98277568817139  | [2060, 1107, 2242, 1316] |\n",
            "| barcode | 74.82976913452148  | [2346, 1073, 2544, 1289] |\n",
            "| barcode | 69.59214806556702  | [2626, 1085, 2832, 1289] |\n",
            "| barcode | 73.01064729690552  | [1181, 1136, 1381, 1334] |\n",
            "| barcode | 63.687556982040405 |  [590, 1420, 800, 1621]  |\n",
            "| barcode | 51.05674862861633  | [867, 1411, 1060, 1622]  |\n",
            "| barcode | 59.97117757797241  | [1133, 1420, 1318, 1624] |\n",
            "| barcode | 70.73420286178589  | [1440, 1378, 1632, 1598] |\n",
            "| barcode |  73.2380211353302  | [1711, 1384, 1894, 1598] |\n",
            "| barcode | 77.20010876655579  | [2044, 1381, 2235, 1592] |\n",
            "| barcode | 74.93016123771667  | [2325, 1383, 2527, 1580] |\n",
            "| barcode |  67.2069787979126  | [2591, 1383, 2787, 1598] |\n",
            "| barcode | 62.766480445861816 |  [226, 1438, 429, 1650]  |\n",
            "| barcode | 60.32278537750244  | [1950, 1648, 2133, 1861] |\n",
            "| barcode | 71.98212146759033  | [2275, 1648, 2471, 1851] |\n",
            "| barcode | 52.36515998840332  | [2544, 1638, 2733, 1852] |\n",
            "| barcode | 60.99344491958618  |  [225, 1709, 419, 1926]  |\n",
            "| barcode |  72.5950837135315  |  [495, 1686, 707, 1904]  |\n",
            "| barcode | 62.703412771224976 |  [798, 1707, 986, 1919]  |\n",
            "| barcode | 64.60875272750854  | [1093, 1695, 1275, 1915] |\n",
            "| barcode | 68.81042122840881  | [1409, 1699, 1606, 1905] |\n",
            "| barcode | 73.52890372276306  | [1655, 1682, 1848, 1898] |\n",
            "| barcode | 72.20392227172852  | [2501, 1961, 2700, 2158] |\n",
            "| barcode | 68.72300505638123  |  [146, 2029, 333, 2230]  |\n",
            "| barcode | 67.40633249282837  |  [441, 2005, 640, 2214]  |\n",
            "| barcode | 40.343210101127625 |  [773, 1991, 970, 2184]  |\n",
            "| barcode | 61.376458406448364 | [1056, 1984, 1265, 2181] |\n",
            "| barcode | 62.954890727996826 | [1369, 1999, 1569, 2209] |\n",
            "| barcode | 75.09161829948425  | [1635, 1987, 1834, 2198] |\n",
            "| barcode |  65.2170479297638  | [1928, 2004, 2121, 2204] |\n",
            "| barcode | 62.368595600128174 | [2182, 1977, 2379, 2188] |\n",
            "| barcode | 56.65671229362488  |  [410, 2254, 598, 2466]  |\n",
            "| barcode | 60.523033142089844 |  [769, 2270, 971, 2463]  |\n",
            "| barcode | 54.48484420776367  | [1036, 2236, 1241, 2443] |\n",
            "| barcode | 47.52187430858612  | [1329, 2256, 1515, 2458] |\n",
            "| barcode | 67.86006689071655  | [1596, 2235, 1796, 2446] |\n",
            "| barcode |  70.7116961479187  | [1865, 2222, 2067, 2425] |\n",
            "| barcode | 73.53025674819946  | [2170, 2208, 2368, 2415] |\n",
            "| barcode |  72.3371148109436  | [2460, 2223, 2658, 2435] |\n",
            "| barcode |  64.5984411239624  |  [168, 2309, 354, 2526]  |\n",
            "| barcode | 55.32450079917908  |  [54, 2556, 242, 2772]   |\n",
            "| barcode | 68.51844191551208  |  [423, 2573, 627, 2773]  |\n",
            "| barcode | 59.45046544075012  |  [693, 2535, 886, 2754]  |\n",
            "| barcode | 76.91776156425476  | [1000, 2533, 1200, 2737] |\n",
            "| barcode | 64.92329239845276  | [1260, 2529, 1461, 2740] |\n",
            "| barcode | 54.463088512420654 | [1554, 2545, 1742, 2759] |\n",
            "| barcode | 62.31793761253357  | [1831, 2539, 2027, 2753] |\n",
            "| barcode | 62.76424527168274  | [2120, 2529, 2324, 2737] |\n",
            "| barcode | 63.65486979484558  | [2412, 2518, 2604, 2722] |\n",
            "| barcode |  55.253666639328   | [1546, 2784, 1746, 2992] |\n",
            "| barcode | 65.87210893630981  | [1829, 2767, 2031, 2972] |\n",
            "| barcode | 64.29155468940735  | [2119, 2780, 2315, 2991] |\n",
            "| barcode |  58.1043004989624  | [2409, 2791, 2599, 3001] |\n",
            "| barcode | 70.58330774307251  |  [107, 2828, 299, 3037]  |\n",
            "| barcode | 52.13836431503296  |  [347, 2848, 543, 3054]  |\n",
            "| barcode | 59.28943753242493  |  [678, 2854, 873, 3066]  |\n",
            "| barcode | 70.45191526412964  | [995, 2845, 1201, 3041]  |\n",
            "| barcode |  69.4501519203186  | [1246, 2836, 1444, 3045] |\n",
            "| barcode | 53.29998731613159  | [2387, 3043, 2560, 3227] |\n",
            "| barcode | 66.57015085220337  |  [375, 3105, 573, 3310]  |\n",
            "| barcode | 71.36261463165283  |  [660, 3083, 853, 3291]  |\n",
            "| barcode | 60.253965854644775 | [965, 3108, 1155, 3318]  |\n",
            "| barcode | 55.369555950164795 | [1269, 3108, 1459, 3329] |\n",
            "| barcode |  64.8559033870697  | [1519, 3105, 1718, 3309] |\n",
            "| barcode | 68.36187839508057  | [1806, 3088, 2011, 3295] |\n",
            "| barcode |  65.671306848526   | [2117, 3086, 2306, 3296] |\n",
            "| barcode | 64.19310569763184  |  [44, 3155, 242, 3373]   |\n",
            "| barcode | 60.607653856277466 | [1475, 3333, 1670, 3533] |\n",
            "| barcode | 58.63801836967468  | [1761, 3349, 1953, 3543] |\n",
            "| barcode | 58.981817960739136 | [2009, 3319, 2198, 3522] |\n",
            "| barcode | 62.82278895378113  | [2338, 3328, 2528, 3530] |\n",
            "| barcode | 61.93056106567383  |  [27, 3395, 226, 3595]   |\n",
            "| barcode | 48.523011803627014 |  [301, 3422, 518, 3621]  |\n",
            "| barcode | 72.93516397476196  |  [624, 3373, 821, 3579]  |\n",
            "| barcode | 69.15733814239502  | [904, 3380, 1108, 3586]  |\n",
            "| barcode | 68.17340850830078  | [1192, 3376, 1391, 3592] |\n",
            "| barcode | 62.12267875671387  | [1992, 3572, 2180, 3769] |\n",
            "| barcode | 59.07109975814819  |  [374, 3654, 560, 3850]  |\n",
            "| barcode | 58.66684317588806  |  [617, 3634, 813, 3852]  |\n",
            "| barcode | 68.62375140190125  | [889, 3645, 1086, 3846]  |\n",
            "| barcode | 68.65147352218628  | [1182, 3626, 1376, 3830] |\n",
            "| barcode | 57.16646909713745  | [1440, 3634, 1621, 3848] |\n",
            "| barcode | 61.61848306655884  | [1724, 3598, 1922, 3801] |\n",
            "| barcode | 63.742804527282715 |  [39, 3688, 240, 3893]   |\n",
            "+---------+--------------------+--------------------------+\n",
            "\n",
            "+----------------------------------------------------------+\n",
            "|                  Barcodes identificados                  |\n",
            "+----------------------------------------------------------+\n",
            "|                           103                            |\n",
            "+----------------------------------------------------------+\n",
            "\n"
          ],
          "name": "stdout"
        }
      ]
    },
    {
      "cell_type": "markdown",
      "metadata": {
        "id": "1exgO4CtCSyM",
        "colab_type": "text"
      },
      "source": [
        "## 5. Identificando as novas Bounding Box, recortando da imagem original e exportando os arquivos para pasta \"/tags_images\" "
      ]
    },
    {
      "cell_type": "code",
      "metadata": {
        "id": "AneEx6ffCSBT",
        "colab_type": "code",
        "colab": {
          "base_uri": "https://localhost:8080/",
          "height": 104
        },
        "outputId": "5cb9b620-0c8e-48bf-fb43-4729a747dd1b"
      },
      "source": [
        "%matplotlib inline\n",
        "import numpy as np\n",
        "import skimage.io\n",
        "import matplotlib.pyplot as plt\n",
        "import skimage.segmentation\n",
        "import cv2\n",
        "\n",
        "if( len(filesIMG) == len(dirs) ):\n",
        "  print(\"Não há mais imagem para treinar. Por favor insira mais imagens na pasta '/Imagens_Originais'\")\n",
        "else:\n",
        "  Image_with_boxes = \"barcode-detected-OriginalBoxes.jpg\"\n",
        "\n",
        "  img = skimage.io.imread(InputImage)\n",
        "  bbox = []\n",
        "\n",
        "  for e in detections:\n",
        "      bbox.append(e['box_points'])\n",
        "\n",
        "  for i, (x1,y1,x2,y2) in enumerate(bbox):\n",
        "\n",
        "      if i in {0,1,2,3,4,5,6,7,8,9}:\n",
        "        i = '00' + str(i)\n",
        "      \n",
        "      if(int(i) > 9 and int(i) < 100):\n",
        "        i = '0' + str(i)\n",
        "\n",
        "      img2 = cv2.rectangle(img, (x1,y1), (x2,y2), (0,255,0), 0)\n",
        "      out = img[y1:y2, x1:x2]\n",
        "\n",
        "      cv2.imwrite('barcode-detected-objects/barcode-00'+str(i)+'.jpg', out)\n",
        "\n",
        "  cv2.imwrite('barcode-detected-New.jpg', img)\n",
        "\n",
        "  print(\"Boxes recortados com sucesso!\")\n",
        "  print(\"..\")\n",
        "  print(\"..\")\n",
        "  print(\"..\")\n",
        "  print(\"Imagem = 'barcode-detected-New.jpg' gerada.\")"
      ],
      "execution_count": 80,
      "outputs": [
        {
          "output_type": "stream",
          "text": [
            "Boxes recortados com sucesso!\n",
            "..\n",
            "..\n",
            "..\n",
            "Imagem = 'barcode-detected-New.jpg' gerada.\n"
          ],
          "name": "stdout"
        }
      ]
    },
    {
      "cell_type": "markdown",
      "metadata": {
        "id": "UBueY6086TP4",
        "colab_type": "text"
      },
      "source": [
        "## 6. Movendo as pastas para o diretório correto. ##\n"
      ]
    },
    {
      "cell_type": "code",
      "metadata": {
        "id": "H_Q4bIO56SVM",
        "colab_type": "code",
        "colab": {
          "base_uri": "https://localhost:8080/",
          "height": 34
        },
        "outputId": "5c4588c5-4e36-448a-8307-1cf523dfd68d"
      },
      "source": [
        "if( len(filesIMG) == len(dirs) ):\n",
        "  print(\"Não há mais imagem para treinar. Por favor insira mais imagens na pasta '/Imagens_Originais'\")\n",
        "else:\n",
        "  !mv /content/barcode-detected-OriginalBoxes.jpg $folderCorrida\n",
        "  !mv /content/barcode-detected-New.jpg $folderCorrida\n",
        "  !mv /content/barcode-detected-objects $folderCorrida\n",
        "\n",
        "  barcode = \"Colab/Corridas/Corrida_\" + newFolderCorrida + \"/barcode-detected-objects\"\n",
        "  images = \"Colab/Corridas/Corrida_\" + newFolderCorrida + \"/tags_images\"\n",
        "  !mv  $barcode $images\n",
        "\n",
        "  print(\"Pastas movidas para o drive com sucesso!\")"
      ],
      "execution_count": 81,
      "outputs": [
        {
          "output_type": "stream",
          "text": [
            "Pastas movidas para o drive com sucesso!\n"
          ],
          "name": "stdout"
        }
      ]
    },
    {
      "cell_type": "markdown",
      "metadata": {
        "id": "6w3W9w8Yf3GA",
        "colab_type": "text"
      },
      "source": [
        "# Identificação dos Números\n"
      ]
    },
    {
      "cell_type": "markdown",
      "metadata": {
        "id": "MkniXE6FJ5ce",
        "colab_type": "text"
      },
      "source": [
        "## 1. Contar numero de arquivos nas pastas"
      ]
    },
    {
      "cell_type": "code",
      "metadata": {
        "id": "81JB3JJq5PzZ",
        "colab_type": "code",
        "colab": {
          "base_uri": "https://localhost:8080/",
          "height": 346
        },
        "outputId": "89698f70-3367-46ff-b715-37168110321d"
      },
      "source": [
        "import os\n",
        "from prettytable import PrettyTable\n",
        "\n",
        "pathIMG, dirsIMG, filesIMG = next(os.walk(\"Colab/Imagens_Originais\"))\n",
        "root, dirs, files = next(os.walk(\"Colab/Corridas\"))\n",
        "\n",
        "pasta = PrettyTable([\"Corridas na pasta\", \"Status\"])\n",
        "for i in range(0, len(dirs)):\n",
        "  pathJSON, dirsJSON, filesJSON = next(os.walk(\"Colab/Corridas/Corrida_\"+str(i+1)+\"/tags_json\"))\n",
        "  if(len(filesJSON)>0):\n",
        "    status = \"Treinada\"\n",
        "  else:\n",
        "    status = \"Ainda não treinada\"\n",
        "  pasta.add_row([\"Corrida_\"+str(i+1), status])\n",
        "\n",
        "print(\"\")\n",
        "print(pasta)\n",
        "print(\"\")\n",
        "print(\"\")\n",
        "print(\"Qual corrida deseja identificar os codigos de barras? (Informe o número da pasta)\")\n",
        "corrida = input()\n",
        "print(\"\")\n",
        "\n",
        "path, dirs, files = next(os.walk(\"Colab/Corridas/Corrida_\" + str(corrida) +\"/tags_images\"))\n",
        "file_count_tag = len(files)\n",
        "tags = PrettyTable([\"Treinar\", \"Tags\"])\n",
        "tags.add_row([\"Corrida_\"+str(corrida), str(file_count_tag)])\n",
        "\n",
        "print(\"\")\n",
        "print(tags)\n",
        "print(\"\")"
      ],
      "execution_count": 82,
      "outputs": [
        {
          "output_type": "stream",
          "text": [
            "\n",
            "+-------------------+--------------------+\n",
            "| Corridas na pasta |       Status       |\n",
            "+-------------------+--------------------+\n",
            "|     Corrida_1     | Ainda não treinada |\n",
            "|     Corrida_2     | Ainda não treinada |\n",
            "+-------------------+--------------------+\n",
            "\n",
            "\n",
            "Qual corrida deseja identificar os codigos de barras? (Informe o número da pasta)\n",
            "2\n",
            "\n",
            "\n",
            "+-----------+------+\n",
            "|  Treinar  | Tags |\n",
            "+-----------+------+\n",
            "| Corrida_2 | 103  |\n",
            "+-----------+------+\n",
            "\n"
          ],
          "name": "stdout"
        }
      ]
    },
    {
      "cell_type": "markdown",
      "metadata": {
        "id": "hlFi2WoA7GyV",
        "colab_type": "text"
      },
      "source": [
        "## 2. Função para fazer a diferença entre distancia dos números e deletar o de menor Acurácia"
      ]
    },
    {
      "cell_type": "code",
      "metadata": {
        "id": "At7vsua6DPoR",
        "colab_type": "code",
        "colab": {}
      },
      "source": [
        "def removeDuplicates():\n",
        "    i=0\n",
        "    for detection in detections:\n",
        "      if( i != len(detections)-1 ):\n",
        "          \n",
        "          Xa = (detections[i]['box_points'][0] + detections[i]['box_points'][2])/2\n",
        "          Ya = (detections[i]['box_points'][1] + detections[i]['box_points'][3])/2\n",
        "          Xb = (detections[i+1]['box_points'][0] + detections[i+1]['box_points'][2])/2\n",
        "          Yb = (detections[i+1]['box_points'][1] + detections[i+1]['box_points'][3])/2\n",
        "\n",
        "          Dab = ( (Xb-Xa)**2 + (Yb - Ya)**2 )**1/2\n",
        "          if(Dab < float(10)):\n",
        "              if(detections[i][\"percentage_probability\"] < detections[i+1][\"percentage_probability\"]):\n",
        "                  detections.pop(i)\n",
        "              else:\n",
        "                  detections.pop(i+1)\n",
        "      i=i+1"
      ],
      "execution_count": 0,
      "outputs": []
    },
    {
      "cell_type": "markdown",
      "metadata": {
        "id": "navr6QlOaGQ8",
        "colab_type": "text"
      },
      "source": [
        "## 3. Identificando os numeros."
      ]
    },
    {
      "cell_type": "code",
      "metadata": {
        "id": "CXFVa3mKaGaU",
        "colab_type": "code",
        "colab": {
          "base_uri": "https://localhost:8080/",
          "height": 1000
        },
        "outputId": "fe596371-cdce-448c-8741-5b638a486688"
      },
      "source": [
        "from imageai.Detection.Custom import CustomObjectDetection\n",
        "import json\n",
        "from prettytable import PrettyTable\n",
        "\n",
        "modelPath = \"Colab/models/number/detection_model-ex-034--loss-0012.508.h5\"\n",
        "JsonPath = \"Colab/json/detection_config_number.json\"\n",
        "\n",
        "detector = CustomObjectDetection()\n",
        "detector.setModelTypeAsYOLOv3()\n",
        "detector.setModelPath(modelPath)\n",
        "detector.setJsonPath(JsonPath)\n",
        "detector.loadModel()\n",
        "\n",
        "avgCorrida = 0\n",
        "\n",
        "for x in range(file_count_tag):\n",
        "\n",
        "  i=0\n",
        "  soma=0\n",
        "  numero=''\n",
        "  execucoes = 0\n",
        "\n",
        "  if x in {0,1,2,3,4,5,6,7,8,9}:\n",
        "    x = '00' + str(x)\n",
        "  \n",
        "  if(int(x) > 9 and int(x) < 100):\n",
        "    x = '0' + str(x)\n",
        "\n",
        "  detections = detector.detectObjectsFromImage(input_image=\"Colab/Corridas/Corrida_\"+str(corrida)+\"/tags_images/barcode-00\"+str(x)+\".jpg\", \n",
        "                                          output_image_path=\"Colab/Corridas/Corrida_\"+str(corrida)+\"/tags_detected/digit-detected-\"+str(x)+\".jpg\", \n",
        "                                          display_percentage_probability=False, \n",
        "                                          minimum_percentage_probability=60)\n",
        "  def boxPoints(e):\n",
        "    return e['box_points']\n",
        "\n",
        "  detections.sort(key=boxPoints)\n",
        "\n",
        "  menor = 100\n",
        "  while(len(detections) > 13):\n",
        "    execucoes = execucoes + 1\n",
        "    if(execucoes>10000):\n",
        "      for i, detection in enumerate(detections):\n",
        "        if(menor > detections[i][\"percentage_probability\"]):\n",
        "          menor = detections[i][\"percentage_probability\"]   \n",
        "      for k, detection in enumerate(detections):\n",
        "        if(detections[k][\"percentage_probability\"] == menor):\n",
        "          detections.pop(k)\n",
        "      break\n",
        "    removeDuplicates()\n",
        "\n",
        "  img = PrettyTable([\"                     Imagem                    \"])\n",
        "  img.add_row([x])\n",
        "  header = PrettyTable([\"Número\", \"Porcentagem \", \"box_points\"])\n",
        "\n",
        "  for i in range(len(detections)):\n",
        "    if(detections[i][\"percentage_probability\"] < 99):\n",
        "      detections[i].update({\"alert\" : \"true\"})\n",
        "    else:\n",
        "      detections[i].update({\"alert\" : \"false\"})\n",
        "    header.add_row([detections[i][\"name\"], detections[i][\"percentage_probability\"], detections[i][\"box_points\"]])\n",
        "    soma = soma + detections[i][\"percentage_probability\"]\n",
        "    numero = numero + ''.join(detections[i][\"name\"])\n",
        "\n",
        "  if(len(detections) != 0):\n",
        "    avg = soma/len(detections)\n",
        "  table = PrettyTable([\"Números\", \"Quantidade\", \"Média\"])\n",
        "  table.add_row([numero, len(detections), avg])\n",
        "\n",
        "\n",
        "  print(\"\")\n",
        "  print(\"\")\n",
        "  print(img)\n",
        "  print(\"\")\n",
        "  print(header)\n",
        "  print(\"\")\n",
        "  print(table)\n",
        "  print(\"\")\n",
        "  print(\"\")\n",
        "  print(\"============================================================\")\n",
        "  \n",
        "  avgCorrida = avgCorrida + avg\n",
        "  num=numero\n",
        "  media = {\"media\": avg}\n",
        "  imagem = {\"imagem\": x}\n",
        "  numero = {\"numero\": numero}\n",
        "  detections.append(media)\n",
        "  detections.append(imagem)\n",
        "  detections.append(numero)\n",
        "\n",
        "  with open('Colab/Corridas/Corrida_'+str(corrida)+'/tags_json/tag-'+ str(x) +'.json', 'w', encoding='utf-8') as f:\n",
        "    json.dump(detections, f, ensure_ascii=False, indent=4)"
      ],
      "execution_count": 0,
      "outputs": [
        {
          "output_type": "stream",
          "text": [
            "\n",
            "\n",
            "+-------------------------------------------------+\n",
            "|                      Imagem                     |\n",
            "+-------------------------------------------------+\n",
            "|                       000                       |\n",
            "+-------------------------------------------------+\n",
            "\n",
            "+--------+-------------------+----------------------+\n",
            "| Número |    Porcentagem    |      box_points      |\n",
            "+--------+-------------------+----------------------+\n",
            "|   2    | 99.63975548744202 |  [18, 108, 23, 130]  |\n",
            "|   8    | 99.83317255973816 |  [24, 109, 29, 129]  |\n",
            "|   1    | 99.78340268135071 |  [32, 109, 36, 131]  |\n",
            "|   0    | 99.77819919586182 |  [38, 109, 43, 130]  |\n",
            "|   8    | 99.78927969932556 |  [46, 109, 51, 131]  |\n",
            "|   9    | 99.85966086387634 |  [52, 110, 57, 130]  |\n",
            "|   1    | 99.69313144683838 |  [59, 111, 63, 130]  |\n",
            "|   2    | 99.92882013320923 |  [65, 109, 70, 133]  |\n",
            "|   0    | 99.80316162109375 |  [72, 111, 78, 132]  |\n",
            "|   2    | 99.86541271209717 |  [79, 111, 85, 134]  |\n",
            "|   7    | 99.55506324768066 | [99, 111, 105, 134]  |\n",
            "|   1    | 99.25014972686768 | [107, 112, 111, 134] |\n",
            "|   4    | 98.21082949638367 | [113, 112, 119, 136] |\n",
            "+--------+-------------------+----------------------+\n",
            "\n",
            "+---------------+------------+-------------------+\n",
            "|    Números    | Quantidade |       Média       |\n",
            "+---------------+------------+-------------------+\n",
            "| 2810891202714 |     13     | 99.61461837475116 |\n",
            "+---------------+------------+-------------------+\n",
            "\n",
            "\n",
            "============================================================\n",
            "\n",
            "\n",
            "+-------------------------------------------------+\n",
            "|                      Imagem                     |\n",
            "+-------------------------------------------------+\n",
            "|                       001                       |\n",
            "+-------------------------------------------------+\n",
            "\n",
            "+--------+-------------------+----------------------+\n",
            "| Número |    Porcentagem    |      box_points      |\n",
            "+--------+-------------------+----------------------+\n",
            "|   2    | 99.66241121292114 |  [47, 106, 52, 128]  |\n",
            "|   8    | 99.51096773147583 |  [54, 107, 59, 128]  |\n",
            "|   1    |  99.2250382900238 |  [61, 107, 64, 128]  |\n",
            "|   0    | 99.59432482719421 |  [68, 107, 72, 127]  |\n",
            "|   8    | 99.75472092628479 |  [74, 107, 79, 127]  |\n",
            "|   9    | 99.62114095687866 |  [81, 107, 86, 126]  |\n",
            "|   1    | 99.64436292648315 |  [88, 108, 91, 126]  |\n",
            "|   2    | 99.88925457000732 |  [94, 106, 98, 127]  |\n",
            "|   0    | 99.71382021903992 | [100, 105, 105, 128] |\n",
            "|   2    | 99.88442659378052 | [107, 107, 112, 127] |\n",
            "|   7    |  99.7459888458252 | [126, 105, 132, 127] |\n",
            "|   9    | 99.70628023147583 | [134, 105, 139, 126] |\n",
            "|   1    | 99.62643384933472 | [142, 106, 146, 128] |\n",
            "+--------+-------------------+----------------------+\n",
            "\n",
            "+---------------+------------+-------------------+\n",
            "|    Números    | Quantidade |       Média       |\n",
            "+---------------+------------+-------------------+\n",
            "| 2810891202791 |     13     | 99.65993624467116 |\n",
            "+---------------+------------+-------------------+\n",
            "\n",
            "\n",
            "============================================================\n",
            "\n",
            "\n",
            "+-------------------------------------------------+\n",
            "|                      Imagem                     |\n",
            "+-------------------------------------------------+\n",
            "|                       002                       |\n",
            "+-------------------------------------------------+\n",
            "\n",
            "+--------+-------------------+--------------------+\n",
            "| Número |    Porcentagem    |     box_points     |\n",
            "+--------+-------------------+--------------------+\n",
            "|   2    | 99.79448318481445 |  [53, 63, 58, 86]  |\n",
            "|   8    |  98.2919692993164 |  [60, 64, 65, 85]  |\n",
            "|   1    | 99.59098100662231 |  [67, 65, 70, 87]  |\n",
            "|   0    | 99.78081583976746 |  [74, 66, 78, 86]  |\n",
            "|   8    | 99.26218390464783 |  [81, 66, 85, 87]  |\n",
            "|   9    | 99.60708618164062 |  [87, 65, 92, 87]  |\n",
            "|   1    | 99.82308149337769 |  [94, 67, 97, 88]  |\n",
            "|   2    | 99.50072765350342 | [99, 66, 104, 88]  |\n",
            "|   0    |  99.8189628124237 | [106, 66, 111, 89] |\n",
            "|   2    | 99.80915784835815 | [114, 67, 118, 89] |\n",
            "|   7    |  99.6985137462616 | [133, 68, 138, 91] |\n",
            "|   1    | 99.49502944946289 | [141, 70, 145, 91] |\n",
            "|   0    | 99.56050515174866 | [146, 69, 151, 91] |\n",
            "+--------+-------------------+--------------------+\n",
            "\n",
            "+---------------+------------+-------------------+\n",
            "|    Números    | Quantidade |       Média       |\n",
            "+---------------+------------+-------------------+\n",
            "| 2810891202710 |     13     | 99.54103827476501 |\n",
            "+---------------+------------+-------------------+\n",
            "\n",
            "\n",
            "============================================================\n",
            "\n",
            "\n",
            "+-------------------------------------------------+\n",
            "|                      Imagem                     |\n",
            "+-------------------------------------------------+\n",
            "|                       003                       |\n",
            "+-------------------------------------------------+\n",
            "\n",
            "+--------+-------------------+--------------------+\n",
            "| Número |    Porcentagem    |     box_points     |\n",
            "+--------+-------------------+--------------------+\n",
            "|   2    | 99.36378598213196 |  [51, 59, 57, 81]  |\n",
            "|   8    | 99.12763237953186 |  [59, 61, 63, 80]  |\n",
            "|   1    | 99.80846047401428 |  [66, 61, 69, 81]  |\n",
            "|   0    | 99.87000226974487 |  [72, 60, 77, 82]  |\n",
            "|   8    |  99.8508632183075 |  [79, 60, 83, 82]  |\n",
            "|   9    | 99.94710087776184 |  [85, 61, 90, 82]  |\n",
            "|   1    | 99.74877834320068 |  [93, 62, 96, 83]  |\n",
            "|   2    | 99.79192018508911 | [98, 61, 103, 84]  |\n",
            "|   0    |  99.8612642288208 | [105, 62, 110, 84] |\n",
            "|   2    | 99.92277026176453 | [112, 62, 117, 85] |\n",
            "|   7    | 99.68578815460205 | [130, 63, 136, 84] |\n",
            "|   6    | 96.64362072944641 | [138, 63, 144, 84] |\n",
            "|   6    |  98.048996925354  | [145, 63, 151, 84] |\n",
            "+--------+-------------------+--------------------+\n",
            "\n",
            "+---------------+------------+-------------------+\n",
            "|    Números    | Quantidade |       Média       |\n",
            "+---------------+------------+-------------------+\n",
            "| 2810891202766 |     13     | 99.35930646382846 |\n",
            "+---------------+------------+-------------------+\n",
            "\n",
            "\n",
            "============================================================\n"
          ],
          "name": "stdout"
        }
      ]
    },
    {
      "cell_type": "markdown",
      "metadata": {
        "id": "gJQtjiCwl1O6",
        "colab_type": "text"
      },
      "source": [
        "**Criando o arquivo config.json**"
      ]
    },
    {
      "cell_type": "code",
      "metadata": {
        "id": "XjAI0LD0aTNX",
        "colab_type": "code",
        "colab": {}
      },
      "source": [
        "avgCorrida = avgCorrida/float(file_count_tag)\n",
        "config = {\n",
        "    \"numCorrida\": num,\n",
        "    \"Status\": \"Inadimplente\",\n",
        "    \"acc\": avgCorrida,\n",
        "    \"qte\": file_count_tag\n",
        "}\n",
        "\n",
        "with open('Colab/Corridas/Corrida_'+str(corrida)+'/config_'+str(corrida)+'.json', 'w', encoding='utf-8') as f:\n",
        "    json.dump(config, f, ensure_ascii=False, indent=4)"
      ],
      "execution_count": 0,
      "outputs": []
    },
    {
      "cell_type": "markdown",
      "metadata": {
        "id": "vI91z1FClam9",
        "colab_type": "text"
      },
      "source": [
        "# Validação\n"
      ]
    },
    {
      "cell_type": "code",
      "metadata": {
        "id": "VzEyVi4-lfd-",
        "colab_type": "code",
        "colab": {}
      },
      "source": [
        "print(\"Corrida \"+str(corrida)+\" identificada com sucesso!!!\")"
      ],
      "execution_count": 0,
      "outputs": []
    },
    {
      "cell_type": "markdown",
      "metadata": {
        "id": "8hZN4f2E1Wtq",
        "colab_type": "text"
      },
      "source": [
        "# Zip para download da pasta \"Corridas\""
      ]
    },
    {
      "cell_type": "code",
      "metadata": {
        "id": "rzTgkUYi1da3",
        "colab_type": "code",
        "colab": {}
      },
      "source": [
        "# import os, shutil\n",
        "# config = \"Colab/Corridas/config\"\n",
        "# deleted = \"Colab/Corridas/deleted\"\n",
        "# !mkdir $config \n",
        "# !mkdir $deleted \n",
        "\n",
        "# for i in range(0, len(dirs)):\n",
        "#   check = 'Colab/Corridas/Corrida_'+str(i)+'/config_'+str(i)+'.json'\n",
        "#   !mv $check $config\n",
        "\n",
        "# def make_archive(source, destination):\n",
        "#         base = os.path.basename(destination)\n",
        "#         name = base.split('.')[0]\n",
        "#         format = base.split('.')[1]\n",
        "#         archive_from = os.path.dirname(source)\n",
        "#         archive_to = os.path.basename(source.strip(os.sep))\n",
        "#         print(source, destination, archive_from, archive_to)\n",
        "#         shutil.make_archive(name, format, archive_from, archive_to)\n",
        "#         shutil.move('%s.%s'%(name,format), destination)\n",
        "\n",
        "# make_archive('Colab/Corridas', 'corridas.zip')"
      ],
      "execution_count": 0,
      "outputs": []
    }
  ]
}