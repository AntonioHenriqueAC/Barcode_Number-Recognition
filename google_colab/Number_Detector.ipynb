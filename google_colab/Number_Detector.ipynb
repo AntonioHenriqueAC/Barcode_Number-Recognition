{
  "nbformat": 4,
  "nbformat_minor": 0,
  "metadata": {
    "colab": {
      "name": "Number_Detector.ipynb",
      "provenance": [],
      "collapsed_sections": [
        "YwM17itSZ59-",
        "UzTq8z-bZ8A9",
        "f_7nu0uEZ-EN",
        "qcLFTFisaBIs",
        "G90L6LLuaEiu",
        "YpnmlJF9aFkf",
        "Df9L2iO0amop"
      ],
      "toc_visible": true,
      "include_colab_link": true
    },
    "kernelspec": {
      "name": "python3",
      "display_name": "Python 3"
    },
    "accelerator": "GPU"
  },
  "cells": [
    {
      "cell_type": "markdown",
      "metadata": {
        "id": "view-in-github",
        "colab_type": "text"
      },
      "source": [
        "<a href=\"https://colab.research.google.com/github/AntonioHenriqueAC/tcc/blob/master/google_colab/Number_Detector.ipynb\" target=\"_parent\"><img src=\"https://colab.research.google.com/assets/colab-badge.svg\" alt=\"Open In Colab\"/></a>"
      ]
    },
    {
      "cell_type": "markdown",
      "metadata": {
        "id": "f_7nu0uEZ-EN",
        "colab_type": "text"
      },
      "source": [
        "# Conectando o drive ao colab\n"
      ]
    },
    {
      "cell_type": "code",
      "metadata": {
        "id": "s4BabbtgZyx9",
        "colab_type": "code",
        "colab": {}
      },
      "source": [
        "from google.colab import drive\n",
        "drive.mount('/content/drive')"
      ],
      "execution_count": 0,
      "outputs": []
    },
    {
      "cell_type": "markdown",
      "metadata": {
        "id": "YwM17itSZ59-",
        "colab_type": "text"
      },
      "source": [
        "# Baixando as bibliotecas necessárias"
      ]
    },
    {
      "cell_type": "code",
      "metadata": {
        "id": "-J-gpbtHZYEr",
        "colab_type": "code",
        "colab": {}
      },
      "source": [
        "!pip3 install tensorflow-gpu==1.13.1"
      ],
      "execution_count": 0,
      "outputs": []
    },
    {
      "cell_type": "code",
      "metadata": {
        "id": "HPjp_CeTZxNv",
        "colab_type": "code",
        "colab": {}
      },
      "source": [
        "!pip3 install imageai --upgrade"
      ],
      "execution_count": 0,
      "outputs": []
    },
    {
      "cell_type": "markdown",
      "metadata": {
        "id": "TYezBpvGTyng",
        "colab_type": "text"
      },
      "source": [
        "# Treinar novo Modelo!"
      ]
    },
    {
      "cell_type": "markdown",
      "metadata": {
        "id": "UzTq8z-bZ8A9",
        "colab_type": "text"
      },
      "source": [
        "## 1. Baixando a CNN pré-treinada\n"
      ]
    },
    {
      "cell_type": "code",
      "metadata": {
        "id": "tqXvr6ONZy5c",
        "colab_type": "code",
        "colab": {}
      },
      "source": [
        "!wget https://github.com/OlafenwaMoses/ImageAI/releases/download/essential-v4/pretrained-yolov3.h5"
      ],
      "execution_count": 0,
      "outputs": []
    },
    {
      "cell_type": "markdown",
      "metadata": {
        "id": "qcLFTFisaBIs",
        "colab_type": "text"
      },
      "source": [
        "## 2. Carregando os arquivos do colab e movendo para pasta number\n"
      ]
    },
    {
      "cell_type": "code",
      "metadata": {
        "id": "2EieqUDKZzAT",
        "colab_type": "code",
        "colab": {}
      },
      "source": [
        "!unzip \"/content/drive/My Drive/Colab/number.zip\""
      ],
      "execution_count": 0,
      "outputs": []
    },
    {
      "cell_type": "markdown",
      "metadata": {
        "id": "G90L6LLuaEiu",
        "colab_type": "text"
      },
      "source": [
        "## 3. Treinando o modelo"
      ]
    },
    {
      "cell_type": "code",
      "metadata": {
        "id": "Y6nCTVmiaFOM",
        "colab_type": "code",
        "colab": {}
      },
      "source": [
        "from imageai.Detection.Custom import DetectionModelTrainer\n",
        "\n",
        "trainer = DetectionModelTrainer()\n",
        "trainer.setModelTypeAsYOLOv3()\n",
        "trainer.setDataDirectory(data_directory=\"number\")\n",
        "trainer.setTrainConfig(object_names_array=[\"0\",\"1\", \"2\", \"3\", \"4\", \"5\", \"6\", \"7\", \"8\", \"9\"], batch_size=4, num_experiments=60, train_from_pretrained_model=\"pretrained-yolov3.h5\")\n",
        "trainer.trainModel()"
      ],
      "execution_count": 0,
      "outputs": []
    },
    {
      "cell_type": "markdown",
      "metadata": {
        "id": "YpnmlJF9aFkf",
        "colab_type": "text"
      },
      "source": [
        "## 4. Avaliando o modelo gerado"
      ]
    },
    {
      "cell_type": "code",
      "metadata": {
        "id": "m8LvM6oaaFyq",
        "colab_type": "code",
        "colab": {}
      },
      "source": [
        "metrics = trainer.evaluateModel(model_path=\"number/models\", json_path=\"number/json/detection_config.json\", iou_threshold=0.5, object_threshold=0.3, nms_threshold=0.5)"
      ],
      "execution_count": 0,
      "outputs": []
    },
    {
      "cell_type": "markdown",
      "metadata": {
        "id": "6w3W9w8Yf3GA",
        "colab_type": "text"
      },
      "source": [
        "# Utilizar modelo já treinado."
      ]
    },
    {
      "cell_type": "markdown",
      "metadata": {
        "id": "MkniXE6FJ5ce",
        "colab_type": "text"
      },
      "source": [
        "## 1. Contar numero de arquivos nas pastas"
      ]
    },
    {
      "cell_type": "code",
      "metadata": {
        "id": "81JB3JJq5PzZ",
        "colab_type": "code",
        "colab": {}
      },
      "source": [
        "import os\n",
        "\n",
        "path, dirs, files = next(os.walk(\"/content/drive/My Drive/Colab/Corridas\"))\n",
        "file_count_corridas = len(dirs)\n",
        "file_count_corridas = file_count_corridas -1\n",
        "print(\"Número de corridas na pasta: \", file_count_corridas)\n",
        "print(\"\")\n",
        "corrida = input(\"Qual corrida deseja identificar? : \")\n",
        "\n",
        "path, dirs, files = next(os.walk(\"/content/drive/My Drive/Colab/Corridas/Corrida_\" + str(corrida) +\"/tags_images\"))\n",
        "file_count_tag = len(files)\n",
        "print(\"\")\n",
        "print(\"Treinar Corrida_\"+str(corrida))\n",
        "print(\"Tags: \", str(file_count_tag))\n"
      ],
      "execution_count": 0,
      "outputs": []
    },
    {
      "cell_type": "markdown",
      "metadata": {
        "id": "navr6QlOaGQ8",
        "colab_type": "text"
      },
      "source": [
        "## 2. Testando o modelo treinado"
      ]
    },
    {
      "cell_type": "code",
      "metadata": {
        "id": "Dwt1JgOOF0Is",
        "colab_type": "code",
        "colab": {}
      },
      "source": [
        "# \"/content/drive/My Drive/Colab/models/number/detection_model-ex-053--loss-0012.296.h5\"\n",
        "# \"/content/drive/My Drive/Colab/models/number/detection_model-ex-025--loss-0012.574.h5\"\n",
        "# \"/content/drive/My Drive/Colab/models/number/detection_model-ex-034--loss-0012.508.h5\"\n",
        "\n",
        "modelPath = \"/content/drive/My Drive/Colab/models/number/detection_model-ex-025--loss-0012.574.h5\"\n",
        "JsonPath = \"/content/drive/My Drive/Colab/json/detection_config_number.json\""
      ],
      "execution_count": 0,
      "outputs": []
    },
    {
      "cell_type": "code",
      "metadata": {
        "id": "CXFVa3mKaGaU",
        "colab_type": "code",
        "colab": {}
      },
      "source": [
        "from imageai.Detection.Custom import CustomObjectDetection\n",
        "import json\n",
        "\n",
        "detector = CustomObjectDetection()\n",
        "detector.setModelTypeAsYOLOv3()\n",
        "detector.setModelPath(modelPath)\n",
        "detector.setJsonPath(JsonPath)\n",
        "detector.loadModel()\n",
        "\n",
        "for x in range(file_count_tag):\n",
        "\n",
        "  if x in {0,1,2,3,4,5,6,7,8,9}:\n",
        "    x = '00' + str(x)\n",
        "  \n",
        "  if(int(x) > 9 and int(x) < 100):\n",
        "    x = '0' + str(x)\n",
        "\n",
        "  detections = detector.detectObjectsFromImage(input_image=\"/content/drive/My Drive/Colab/Corridas/Corrida_\"+str(file_count_corridas)+\"/tags_images/barcode-00\"+str(x)+\".jpg\", \n",
        "                                          output_image_path=\"/content/drive/My Drive/Colab/Corridas/Corrida_\"+str(file_count_corridas)+\"/tags_detected/digit-detected-\"+str(x)+\".jpg\", \n",
        "                                          display_percentage_probability=False, \n",
        "                                          minimum_percentage_probability=60)\n",
        "  def boxPoints(e):\n",
        "    return e['box_points']\n",
        "\n",
        "  detections.sort(key=boxPoints)\n",
        "\n",
        "  print(\"Imagem: \", x)\n",
        "  print(\"----------------------------\")\n",
        "  print(\"Número \" , \": \", \"Porcentagem \", \"      :    \", \"box_points\")\n",
        "  print(\"\")\n",
        "\n",
        "  def removeDuplicates():\n",
        "      i=0\n",
        "      for detection in detections:\n",
        "        if( i != len(detections)-1 ):\n",
        "            \n",
        "            Xa = (detections[i]['box_points'][0] + detections[i]['box_points'][2])/2\n",
        "            Ya = (detections[i]['box_points'][1] + detections[i]['box_points'][3])/2\n",
        "            Xb = (detections[i+1]['box_points'][0] + detections[i+1]['box_points'][2])/2\n",
        "            Yb = (detections[i+1]['box_points'][1] + detections[i+1]['box_points'][3])/2\n",
        "\n",
        "            Dab = ( (Xb-Xa)**2 + (Yb - Ya)**2 )**1/2\n",
        "            if(Dab < float(11)):\n",
        "                if(detections[i][\"percentage_probability\"] < detections[i+1][\"percentage_probability\"]):\n",
        "                    detections.pop(i)\n",
        "                else:\n",
        "                    detections.pop(i+1)\n",
        "\n",
        "        i=i+1\n",
        "\n",
        "  while(len(detections) > 14):\n",
        "    removeDuplicates()\n",
        "\n",
        "  num=len(detections)\n",
        "  i=0\n",
        "  soma=0\n",
        "  for i in range(num):\n",
        "    print(detections[i][\"name\"], \"      : \", detections[i][\"percentage_probability\"], \" : \", detections[i][\"box_points\"])\n",
        "    soma = soma + detections[i][\"percentage_probability\"]\n",
        "\n",
        "  # quebra o for ->> continue\n",
        "  # if(len(detections)<int(10)):\n",
        "  #     continue\n",
        "\n",
        "  if(len(detections) != 0):\n",
        "    media = soma/len(detections)\n",
        "\n",
        "  print(\"\")\n",
        "  print(\"media: \", media)\n",
        "  print(\"\")\n",
        "  print(\"Quantidade de números reconhecidos na tag: \", len(detections))\n",
        "  print(\"\")\n",
        "\n",
        "  print(\"----------------------------\")\n",
        "\n",
        "  media = {\"media\": media}\n",
        "  imagem = {\"imagem \": x}\n",
        "  detections.append(media)\n",
        "  detections.append(imagem)\n",
        "\n",
        "  \n",
        "\n",
        "  with open('/content/drive/My Drive/Colab/Corridas/Corrida_'+str(file_count_corridas)+'/tags_json/tag-'+ str(x) +'.json', 'w', encoding='utf-8') as f:\n",
        "      json.dump(detections, f, ensure_ascii=False, indent=4)"
      ],
      "execution_count": 0,
      "outputs": []
    }
  ]
}