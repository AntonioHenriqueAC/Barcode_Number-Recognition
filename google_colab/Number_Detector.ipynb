{
  "nbformat": 4,
  "nbformat_minor": 0,
  "metadata": {
    "colab": {
      "name": "Number_Detector.ipynb",
      "provenance": [],
      "collapsed_sections": [
        "YwM17itSZ59-",
        "UzTq8z-bZ8A9",
        "f_7nu0uEZ-EN",
        "qcLFTFisaBIs",
        "G90L6LLuaEiu",
        "YpnmlJF9aFkf",
        "Df9L2iO0amop"
      ],
      "include_colab_link": true
    },
    "kernelspec": {
      "name": "python3",
      "display_name": "Python 3"
    },
    "accelerator": "GPU"
  },
  "cells": [
    {
      "cell_type": "markdown",
      "metadata": {
        "id": "view-in-github",
        "colab_type": "text"
      },
      "source": [
        "<a href=\"https://colab.research.google.com/github/AntonioHenriqueAC/tcc/blob/master/google_colab/Number_Detector.ipynb\" target=\"_parent\"><img src=\"https://colab.research.google.com/assets/colab-badge.svg\" alt=\"Open In Colab\"/></a>"
      ]
    },
    {
      "cell_type": "markdown",
      "metadata": {
        "id": "YwM17itSZ59-",
        "colab_type": "text"
      },
      "source": [
        "# 1. Baixando as bibliotecas necessárias"
      ]
    },
    {
      "cell_type": "code",
      "metadata": {
        "id": "-J-gpbtHZYEr",
        "colab_type": "code",
        "colab": {}
      },
      "source": [
        "!pip3 install tensorflow-gpu==1.13.1"
      ],
      "execution_count": 0,
      "outputs": []
    },
    {
      "cell_type": "code",
      "metadata": {
        "id": "HPjp_CeTZxNv",
        "colab_type": "code",
        "colab": {}
      },
      "source": [
        "!pip3 install imageai --upgrade"
      ],
      "execution_count": 0,
      "outputs": []
    },
    {
      "cell_type": "markdown",
      "metadata": {
        "id": "UzTq8z-bZ8A9",
        "colab_type": "text"
      },
      "source": [
        "# 2. Baixando a CNN pré-treinada"
      ]
    },
    {
      "cell_type": "code",
      "metadata": {
        "id": "tqXvr6ONZy5c",
        "colab_type": "code",
        "colab": {}
      },
      "source": [
        "!wget https://github.com/OlafenwaMoses/ImageAI/releases/download/essential-v4/pretrained-yolov3.h5"
      ],
      "execution_count": 0,
      "outputs": []
    },
    {
      "cell_type": "markdown",
      "metadata": {
        "id": "f_7nu0uEZ-EN",
        "colab_type": "text"
      },
      "source": [
        "# 3. Conectando o drive ao colab\n"
      ]
    },
    {
      "cell_type": "code",
      "metadata": {
        "id": "s4BabbtgZyx9",
        "colab_type": "code",
        "colab": {}
      },
      "source": [
        "from google.colab import drive\n",
        "drive.mount('/content/drive')"
      ],
      "execution_count": 0,
      "outputs": []
    },
    {
      "cell_type": "markdown",
      "metadata": {
        "id": "qcLFTFisaBIs",
        "colab_type": "text"
      },
      "source": [
        "# 4. Carregando os arquivos do colab e movendo para pasta number\n"
      ]
    },
    {
      "cell_type": "code",
      "metadata": {
        "id": "2EieqUDKZzAT",
        "colab_type": "code",
        "colab": {}
      },
      "source": [
        "!unzip \"/content/drive/My Drive/Colab/number.zip\""
      ],
      "execution_count": 0,
      "outputs": []
    },
    {
      "cell_type": "markdown",
      "metadata": {
        "id": "G90L6LLuaEiu",
        "colab_type": "text"
      },
      "source": [
        "# 5. Treinando o modelo"
      ]
    },
    {
      "cell_type": "code",
      "metadata": {
        "id": "Y6nCTVmiaFOM",
        "colab_type": "code",
        "colab": {}
      },
      "source": [
        "from imageai.Detection.Custom import DetectionModelTrainer\n",
        "\n",
        "trainer = DetectionModelTrainer()\n",
        "trainer.setModelTypeAsYOLOv3()\n",
        "trainer.setDataDirectory(data_directory=\"number\")\n",
        "trainer.setTrainConfig(object_names_array=[\"0\",\"1\", \"2\", \"3\", \"4\", \"5\", \"6\", \"7\", \"8\", \"9\"], batch_size=4, num_experiments=60, train_from_pretrained_model=\"pretrained-yolov3.h5\")\n",
        "trainer.trainModel()"
      ],
      "execution_count": 0,
      "outputs": []
    },
    {
      "cell_type": "markdown",
      "metadata": {
        "id": "YpnmlJF9aFkf",
        "colab_type": "text"
      },
      "source": [
        "# 6. Avaliando o modelo gerado"
      ]
    },
    {
      "cell_type": "code",
      "metadata": {
        "id": "m8LvM6oaaFyq",
        "colab_type": "code",
        "colab": {}
      },
      "source": [
        "metrics = trainer.evaluateModel(model_path=\"number/models\", json_path=\"number/json/detection_config.json\", iou_threshold=0.5, object_threshold=0.3, nms_threshold=0.5)"
      ],
      "execution_count": 0,
      "outputs": []
    },
    {
      "cell_type": "markdown",
      "metadata": {
        "id": "MkniXE6FJ5ce",
        "colab_type": "text"
      },
      "source": [
        "# 7. Contar numero de arquivos na pasta Imagens"
      ]
    },
    {
      "cell_type": "code",
      "metadata": {
        "id": "81JB3JJq5PzZ",
        "colab_type": "code",
        "colab": {}
      },
      "source": [
        "import os\n",
        "\n",
        "path, dirs, files = next(os.walk(\"/content/drive/My Drive/Colab/images\"))\n",
        "file_count = len(files)\n",
        "print(file_count)"
      ],
      "execution_count": 0,
      "outputs": []
    },
    {
      "cell_type": "markdown",
      "metadata": {
        "id": "navr6QlOaGQ8",
        "colab_type": "text"
      },
      "source": [
        "# 8. Testando o modelo treinado"
      ]
    },
    {
      "cell_type": "code",
      "metadata": {
        "id": "CXFVa3mKaGaU",
        "colab_type": "code",
        "colab": {}
      },
      "source": [
        "from imageai.Detection.Custom import CustomObjectDetection\n",
        "import json\n",
        "\n",
        "detector = CustomObjectDetection()\n",
        "detector.setModelTypeAsYOLOv3()\n",
        "detector.setModelPath(\"/content/drive/My Drive/Colab/models/detection_model-76.h5\")\n",
        "detector.setJsonPath(\"/content/drive/My Drive/Colab/json/detection_config.json\")\n",
        "detector.loadModel()\n",
        "\n",
        "for x in range(file_count):\n",
        "\n",
        "  if x in {0,1,2,3,4,5,6,7,8,9}:\n",
        "    x = '0'+str(x)\n",
        "  \n",
        "  detections = detector.detectObjectsFromImage(input_image=\"/content/drive/My Drive/Colab/images/barcode-000\" +str(x)+ \".jpg\", \n",
        "                                          output_image_path=\"/content/drive/My Drive/Colab/images_detected/digit-detected-\" +str(x)+ \".jpg\", \n",
        "                                          display_percentage_probability=False, \n",
        "                                          minimum_percentage_probability=90)\n",
        "  def boxPoints(e):\n",
        "    return e['box_points']\n",
        "\n",
        "  detections.sort(key=boxPoints)\n",
        "\n",
        "  print(\"\")\n",
        "  print(\"Número \" , \": \", \"Porcentagem \", \"      :    \", \"box_points\")\n",
        "  print(\"\")\n",
        "\n",
        "  i=0\n",
        "  soma=0\n",
        "\n",
        "  for detection in detections:\n",
        "        print(detection[\"name\"], \"      : \", detection[\"percentage_probability\"], \" : \", detection[\"box_points\"])\n",
        "        soma = soma + detections[i][\"percentage_probability\"]\n",
        "        i=i+1\n",
        "\n",
        "  media = soma/len(detections)\n",
        "  print(\"\")\n",
        "  print(\"media: \", media)\n",
        "  print(\"\")\n",
        "  print(\"Quantidade de números reconhecidos na tag: \", len(detections))\n",
        "  print(\"\")\n",
        "  print(\"----------------------------\")\n",
        "\n",
        "  media = {\"media\": media}\n",
        "  detections.append(media)\n",
        "\n",
        "  with open('/content/drive/My Drive/Colab/Corridas/Corrida_1/tag-'+ str(x) +'.json', 'w', encoding='utf-8') as f:\n",
        "      json.dump(detections, f, ensure_ascii=False, indent=4)"
      ],
      "execution_count": 0,
      "outputs": []
    },
    {
      "cell_type": "code",
      "metadata": {
        "id": "Nd9Ag44Enqga",
        "colab_type": "code",
        "colab": {}
      },
      "source": [
        "detections[2][\"name\"] == detections[3][\"name\"]"
      ],
      "execution_count": 0,
      "outputs": []
    },
    {
      "cell_type": "markdown",
      "metadata": {
        "id": "Df9L2iO0amop",
        "colab_type": "text"
      },
      "source": [
        "# 8. Baixe o modelo para utilizar em outras ocasiões e reconhecendo os números em uma nova imagem"
      ]
    },
    {
      "cell_type": "code",
      "metadata": {
        "id": "AsbwYg6BZy8q",
        "colab_type": "code",
        "colab": {}
      },
      "source": [
        "from imageai.Detection.Custom import CustomObjectDetection\n",
        "\n",
        "detector = CustomObjectDetection()\n",
        "detector.setModelTypeAsYOLOv3()\n",
        "detector.setModelPath(\"drive/My Drive/Colab/models/-----NOME DO MODELO-----\")\n",
        "detector.setJsonPath(\"drive/My Drive/Colab/json/detection_config.json\")\n",
        "detector.loadModel()\n",
        "detections = detector.detectObjectsFromImage(input_image=\"drive/My Drive/Colab/images/barcode-00015.jpg\", output_image_path=\"drive/My Drive/Colab/images_detected/digit-detected-15.jpg\")\n",
        "for detection in detections:\n",
        "    print(detection[\"name\"], \" : \", detection[\"percentage_probability\"], \" : \", detection[\"box_points\"])"
      ],
      "execution_count": 0,
      "outputs": []
    }
  ]
}