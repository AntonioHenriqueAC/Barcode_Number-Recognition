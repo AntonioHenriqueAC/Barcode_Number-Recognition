{
  "nbformat": 4,
  "nbformat_minor": 0,
  "metadata": {
    "colab": {
      "name": "Barcode_detector.ipynb",
      "provenance": [],
      "collapsed_sections": [],
      "toc_visible": true,
      "include_colab_link": true
    },
    "kernelspec": {
      "name": "python3",
      "display_name": "Python 3"
    },
    "accelerator": "GPU"
  },
  "cells": [
    {
      "cell_type": "markdown",
      "metadata": {
        "id": "view-in-github",
        "colab_type": "text"
      },
      "source": [
        "<a href=\"https://colab.research.google.com/github/AntonioHenriqueAC/tcc/blob/master/google_colab/Barcode_detector.ipynb\" target=\"_parent\"><img src=\"https://colab.research.google.com/assets/colab-badge.svg\" alt=\"Open In Colab\"/></a>"
      ]
    },
    {
      "cell_type": "markdown",
      "metadata": {
        "id": "wg3hqNG_O2oM",
        "colab_type": "text"
      },
      "source": [
        "# 1. Baixando as bibliotecas necessárias"
      ]
    },
    {
      "cell_type": "code",
      "metadata": {
        "id": "DftpArVvN9SK",
        "colab_type": "code",
        "colab": {}
      },
      "source": [
        "!pip3 install tensorflow-gpu==1.13.1"
      ],
      "execution_count": 0,
      "outputs": []
    },
    {
      "cell_type": "code",
      "metadata": {
        "id": "GMwYHpumOky6",
        "colab_type": "code",
        "colab": {}
      },
      "source": [
        "!pip3 install imageai --upgrade"
      ],
      "execution_count": 0,
      "outputs": []
    },
    {
      "cell_type": "markdown",
      "metadata": {
        "id": "uykpeCPPO7Qy",
        "colab_type": "text"
      },
      "source": [
        "# 2. Baixando a CNN pré-treinada"
      ]
    },
    {
      "cell_type": "code",
      "metadata": {
        "id": "IaUgVcHEOvK4",
        "colab_type": "code",
        "colab": {}
      },
      "source": [
        "!wget https://github.com/OlafenwaMoses/ImageAI/releases/download/essential-v4/pretrained-yolov3.h5"
      ],
      "execution_count": 0,
      "outputs": []
    },
    {
      "cell_type": "markdown",
      "metadata": {
        "id": "levsKXkSPD6p",
        "colab_type": "text"
      },
      "source": [
        "# 3. Conectando o drive ao colab\n"
      ]
    },
    {
      "cell_type": "code",
      "metadata": {
        "id": "DFUvpxK-Oq7D",
        "colab_type": "code",
        "colab": {}
      },
      "source": [
        "from google.colab import drive\n",
        "drive.mount('/content/drive')"
      ],
      "execution_count": 0,
      "outputs": []
    },
    {
      "cell_type": "markdown",
      "metadata": {
        "id": "eLEv1PCKPWY4",
        "colab_type": "text"
      },
      "source": [
        "# 4. Carregando os arquivos do colab"
      ]
    },
    {
      "cell_type": "code",
      "metadata": {
        "id": "U350nrD7OtNO",
        "colab_type": "code",
        "colab": {}
      },
      "source": [
        "!unzip \"/content/drive/My Drive/Colab/barcode.zip\" "
      ],
      "execution_count": 0,
      "outputs": []
    },
    {
      "cell_type": "markdown",
      "metadata": {
        "id": "LexuMVp5Pb1v",
        "colab_type": "text"
      },
      "source": [
        "# 5. Treinando o modelo"
      ]
    },
    {
      "cell_type": "code",
      "metadata": {
        "id": "iqWiwq90OxJ2",
        "colab_type": "code",
        "colab": {}
      },
      "source": [
        "from imageai.Detection.Custom import DetectionModelTrainer\n",
        "\n",
        "trainer = DetectionModelTrainer()\n",
        "trainer.setModelTypeAsYOLOv3()\n",
        "trainer.setDataDirectory(data_directory=\"barcode\")\n",
        "trainer.setTrainConfig(object_names_array=[\"barcode\"], batch_size=4, num_experiments=10, train_from_pretrained_model=\"pretrained-yolov3.h5\")\n",
        "trainer.trainModel()"
      ],
      "execution_count": 0,
      "outputs": []
    },
    {
      "cell_type": "markdown",
      "metadata": {
        "id": "msd0qj_DPh3P",
        "colab_type": "text"
      },
      "source": [
        "# 6. Avaliando os modelos gerados"
      ]
    },
    {
      "cell_type": "code",
      "metadata": {
        "id": "1RlpUESXSnfP",
        "colab_type": "code",
        "outputId": "2510da0c-e066-4da1-8164-6c00ec2cfee6",
        "colab": {
          "base_uri": "https://localhost:8080/",
          "height": 1000
        }
      },
      "source": [
        "metrics = trainer.evaluateModel(model_path=\"barcode/models\", json_path=\"barcode/json/detection_config.json\", iou_threshold=0.5, object_threshold=0.3, nms_threshold=0.5)"
      ],
      "execution_count": 0,
      "outputs": [
        {
          "output_type": "stream",
          "text": [
            "Starting Model evaluation....\n"
          ],
          "name": "stdout"
        },
        {
          "output_type": "stream",
          "text": [
            "/usr/local/lib/python3.6/dist-packages/keras/engine/saving.py:310: UserWarning: No training configuration found in save file: the model was *not* compiled. Compile it manually.\n",
            "  warnings.warn('No training configuration found in save file: '\n"
          ],
          "name": "stderr"
        },
        {
          "output_type": "stream",
          "text": [
            "Model File:  toinho/models/detection_model-ex-001--loss-0024.190.h5 \n",
            "\n",
            "Using IoU :  0.5\n",
            "Using Object Threshold :  0.3\n",
            "Using Non-Maximum Suppression :  0.5\n",
            "barcode: 0.0768\n",
            "mAP: 0.0768\n",
            "===============================\n",
            "Model File:  toinho/models/detection_model-ex-002--loss-0005.224.h5 \n",
            "\n",
            "Using IoU :  0.5\n",
            "Using Object Threshold :  0.3\n",
            "Using Non-Maximum Suppression :  0.5\n",
            "barcode: 0.2622\n",
            "mAP: 0.2622\n",
            "===============================\n",
            "Model File:  toinho/models/detection_model-ex-003--loss-0003.973.h5 \n",
            "\n",
            "Using IoU :  0.5\n",
            "Using Object Threshold :  0.3\n",
            "Using Non-Maximum Suppression :  0.5\n",
            "barcode: 0.9334\n",
            "mAP: 0.9334\n",
            "===============================\n",
            "Model File:  toinho/models/detection_model-ex-004--loss-0003.257.h5 \n",
            "\n",
            "Using IoU :  0.5\n",
            "Using Object Threshold :  0.3\n",
            "Using Non-Maximum Suppression :  0.5\n",
            "barcode: 0.5655\n",
            "mAP: 0.5655\n",
            "===============================\n",
            "Model File:  toinho/models/detection_model-ex-005--loss-0002.975.h5 \n",
            "\n",
            "Using IoU :  0.5\n",
            "Using Object Threshold :  0.3\n",
            "Using Non-Maximum Suppression :  0.5\n",
            "barcode: 0.8350\n",
            "mAP: 0.8350\n",
            "===============================\n",
            "Model File:  toinho/models/detection_model-ex-006--loss-0002.623.h5 \n",
            "\n",
            "Using IoU :  0.5\n",
            "Using Object Threshold :  0.3\n",
            "Using Non-Maximum Suppression :  0.5\n",
            "barcode: 0.9630\n",
            "mAP: 0.9630\n",
            "===============================\n",
            "Model File:  toinho/models/detection_model-ex-007--loss-0002.457.h5 \n",
            "\n",
            "Using IoU :  0.5\n",
            "Using Object Threshold :  0.3\n",
            "Using Non-Maximum Suppression :  0.5\n",
            "barcode: 0.9845\n",
            "mAP: 0.9845\n",
            "===============================\n",
            "Model File:  toinho/models/detection_model-ex-008--loss-0002.368.h5 \n",
            "\n",
            "Using IoU :  0.5\n",
            "Using Object Threshold :  0.3\n",
            "Using Non-Maximum Suppression :  0.5\n",
            "barcode: 0.9264\n",
            "mAP: 0.9264\n",
            "===============================\n",
            "Model File:  toinho/models/detection_model-ex-009--loss-0002.253.h5 \n",
            "\n",
            "Using IoU :  0.5\n",
            "Using Object Threshold :  0.3\n",
            "Using Non-Maximum Suppression :  0.5\n",
            "barcode: 0.6013\n",
            "mAP: 0.6013\n",
            "===============================\n",
            "Model File:  toinho/models/detection_model-ex-010--loss-0002.249.h5 \n",
            "\n",
            "Using IoU :  0.5\n",
            "Using Object Threshold :  0.3\n",
            "Using Non-Maximum Suppression :  0.5\n",
            "barcode: 0.9668\n",
            "mAP: 0.9668\n",
            "===============================\n"
          ],
          "name": "stdout"
        }
      ]
    },
    {
      "cell_type": "markdown",
      "metadata": {
        "id": "ho5vZrvFPpl3",
        "colab_type": "text"
      },
      "source": [
        "# 7. Testando o modelo treinado"
      ]
    },
    {
      "cell_type": "code",
      "metadata": {
        "id": "7XjO2TxsW6jU",
        "colab_type": "code",
        "outputId": "0e62870d-a6c8-4e95-b31f-e8b9bafa0b7b",
        "colab": {
          "base_uri": "https://localhost:8080/",
          "height": 850
        }
      },
      "source": [
        "from imageai.Detection.Custom import CustomObjectDetection\n",
        "\n",
        "detector = CustomObjectDetection()\n",
        "detector.setModelTypeAsYOLOv3()\n",
        "detector.setModelPath(\"barcode/models/detection_model-ex-007--loss-0002.457.h5\")\n",
        "detector.setJsonPath(\"barcode/json/detection_config.json\")\n",
        "detector.loadModel()\n",
        "detections = detector.detectObjectsFromImage(input_image=\"img1.jpg\", output_image_path=\"barcode-detected.jpg\")\n",
        "for detection in detections:\n",
        "    print(detection[\"name\"], \" : \", detection[\"percentage_probability\"], \" : \", detection[\"box_points\"])"
      ],
      "execution_count": 0,
      "outputs": [
        {
          "output_type": "stream",
          "text": [
            "barcode  :  52.46580243110657  :  [1012, 2608, 1197, 2780]\n",
            "barcode  :  51.347869634628296  :  [1759, 2599, 1938, 2774]\n",
            "barcode  :  53.176701068878174  :  [1009, 2986, 1180, 3159]\n",
            "barcode  :  51.97243094444275  :  [2786, 3198, 2984, 3378]\n",
            "barcode  :  58.54182839393616  :  [1537, 1944, 1693, 2063]\n",
            "barcode  :  59.1326117515564  :  [728, 2293, 875, 2413]\n",
            "barcode  :  51.98236703872681  :  [1452, 2310, 1586, 2413]\n",
            "barcode  :  59.56333875656128  :  [2151, 2254, 2269, 2392]\n",
            "barcode  :  52.919572591781616  :  [2590, 2260, 2711, 2369]\n",
            "barcode  :  67.47114062309265  :  [265, 2347, 411, 2455]\n",
            "barcode  :  61.78871989250183  :  [1402, 2598, 1534, 2730]\n",
            "barcode  :  52.16687321662903  :  [3248, 2591, 3384, 2712]\n",
            "barcode  :  63.53941559791565  :  [294, 2646, 412, 2776]\n",
            "barcode  :  53.743976354599  :  [3171, 2873, 3304, 3009]\n",
            "barcode  :  59.57975387573242  :  [282, 2989, 423, 3126]\n",
            "barcode  :  77.24733352661133  :  [1017, 2948, 1155, 3063]\n",
            "barcode  :  61.43640875816345  :  [1771, 2954, 1888, 3096]\n",
            "barcode  :  68.52806210517883  :  [2795, 2956, 2938, 3070]\n",
            "barcode  :  56.22752904891968  :  [1336, 3270, 1470, 3420]\n",
            "barcode  :  60.836970806121826  :  [1743, 3263, 1880, 3383]\n",
            "barcode  :  65.6760573387146  :  [2075, 3273, 2211, 3418]\n",
            "barcode  :  50.394630432128906  :  [2807, 3272, 2943, 3413]\n",
            "barcode  :  75.4659116268158  :  [956, 3346, 1095, 3476]\n",
            "barcode  :  57.27359056472778  :  [2422, 3364, 2553, 3497]\n",
            "barcode  :  57.07613229751587  :  [3173, 3353, 3303, 3486]\n",
            "barcode  :  56.30297064781189  :  [2721, 3590, 2850, 3711]\n",
            "barcode  :  72.37869501113892  :  [215, 3700, 347, 3818]\n",
            "barcode  :  63.96002173423767  :  [609, 3656, 754, 3759]\n",
            "barcode  :  67.93038845062256  :  [943, 3650, 1064, 3785]\n",
            "barcode  :  55.00098466873169  :  [1288, 3698, 1423, 3814]\n",
            "barcode  :  60.254067182540894  :  [2376, 3661, 2500, 3803]\n",
            "barcode  :  66.67290329933167  :  [3081, 3650, 3222, 3762]\n",
            "barcode  :  55.74445128440857  :  [556, 3981, 691, 4102]\n",
            "barcode  :  53.306037187576294  :  [935, 3965, 1058, 4107]\n",
            "barcode  :  53.4065306186676  :  [1293, 3984, 1424, 4104]\n",
            "barcode  :  57.22973346710205  :  [1675, 3989, 1802, 4114]\n",
            "barcode  :  50.75605511665344  :  [1976, 3961, 2095, 4100]\n",
            "barcode  :  69.64306831359863  :  [2344, 3952, 2485, 4073]\n",
            "barcode  :  59.58284139633179  :  [2741, 3987, 2872, 4120]\n",
            "barcode  :  53.854525089263916  :  [3041, 3941, 3146, 4092]\n",
            "barcode  :  72.36686944961548  :  [186, 4042, 321, 4166]\n",
            "barcode  :  61.73838973045349  :  [932, 4286, 1059, 4402]\n",
            "barcode  :  58.80391597747803  :  [1969, 4311, 2089, 4424]\n",
            "barcode  :  63.0204975605011  :  [2282, 4238, 2406, 4378]\n",
            "barcode  :  69.4464921951294  :  [2615, 4251, 2726, 4373]\n",
            "barcode  :  77.66064405441284  :  [219, 4334, 350, 4471]\n",
            "barcode  :  86.85330152511597  :  [526, 4332, 651, 4450]\n",
            "barcode  :  75.36033987998962  :  [1244, 4337, 1372, 4443]\n",
            "barcode  :  77.29460597038269  :  [1625, 4336, 1743, 4446]\n"
          ],
          "name": "stdout"
        }
      ]
    },
    {
      "cell_type": "code",
      "metadata": {
        "id": "6HpJg3uPlV0q",
        "colab_type": "code",
        "outputId": "046eaa35-fd9f-4bed-8d54-3e743c04220b",
        "colab": {
          "base_uri": "https://localhost:8080/",
          "height": 34
        }
      },
      "source": [
        "len(detections)"
      ],
      "execution_count": 0,
      "outputs": [
        {
          "output_type": "execute_result",
          "data": {
            "text/plain": [
              "49"
            ]
          },
          "metadata": {
            "tags": []
          },
          "execution_count": 12
        }
      ]
    }
  ]
}