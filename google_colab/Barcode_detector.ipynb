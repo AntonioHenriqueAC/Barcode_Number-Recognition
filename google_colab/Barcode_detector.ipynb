{
  "nbformat": 4,
  "nbformat_minor": 0,
  "metadata": {
    "colab": {
      "name": "Barcode_detector.ipynb",
      "provenance": [],
      "collapsed_sections": [],
      "toc_visible": true,
      "include_colab_link": true
    },
    "kernelspec": {
      "name": "python3",
      "display_name": "Python 3"
    },
    "accelerator": "GPU"
  },
  "cells": [
    {
      "cell_type": "markdown",
      "metadata": {
        "id": "view-in-github",
        "colab_type": "text"
      },
      "source": [
        "<a href=\"https://colab.research.google.com/github/AntonioHenriqueAC/tcc/blob/master/google_colab/Barcode_detector.ipynb\" target=\"_parent\"><img src=\"https://colab.research.google.com/assets/colab-badge.svg\" alt=\"Open In Colab\"/></a>"
      ]
    },
    {
      "cell_type": "markdown",
      "metadata": {
        "id": "LggdEb32cFhl",
        "colab_type": "text"
      },
      "source": [
        "# Conectando o drive ao colab #"
      ]
    },
    {
      "cell_type": "code",
      "metadata": {
        "id": "DFUvpxK-Oq7D",
        "colab_type": "code",
        "colab": {}
      },
      "source": [
        "from google.colab import drive\n",
        "drive.mount('/content/drive')"
      ],
      "execution_count": 0,
      "outputs": []
    },
    {
      "cell_type": "markdown",
      "metadata": {
        "id": "wg3hqNG_O2oM",
        "colab_type": "text"
      },
      "source": [
        "# Baixando as bibliotecas necessárias"
      ]
    },
    {
      "cell_type": "code",
      "metadata": {
        "id": "DftpArVvN9SK",
        "colab_type": "code",
        "colab": {}
      },
      "source": [
        "!pip3 install tensorflow-gpu==1.13.1"
      ],
      "execution_count": 0,
      "outputs": []
    },
    {
      "cell_type": "code",
      "metadata": {
        "id": "GMwYHpumOky6",
        "colab_type": "code",
        "colab": {}
      },
      "source": [
        "!pip3 install imageai --upgrade"
      ],
      "execution_count": 0,
      "outputs": []
    },
    {
      "cell_type": "markdown",
      "metadata": {
        "id": "Ed6srdT6aj-D",
        "colab_type": "text"
      },
      "source": [
        "# Treinar novo Modelo !"
      ]
    },
    {
      "cell_type": "markdown",
      "metadata": {
        "id": "uykpeCPPO7Qy",
        "colab_type": "text"
      },
      "source": [
        "## 1. Baixando a CNN pré-treinada ##\n"
      ]
    },
    {
      "cell_type": "code",
      "metadata": {
        "id": "IaUgVcHEOvK4",
        "colab_type": "code",
        "colab": {}
      },
      "source": [
        "!wget https://github.com/OlafenwaMoses/ImageAI/releases/download/essential-v4/pretrained-yolov3.h5"
      ],
      "execution_count": 0,
      "outputs": []
    },
    {
      "cell_type": "markdown",
      "metadata": {
        "colab_type": "text",
        "id": "YSHLvTmscjE_"
      },
      "source": [
        "## 2. Carregando os arquivos do drive no colab ##"
      ]
    },
    {
      "cell_type": "code",
      "metadata": {
        "colab_type": "code",
        "id": "erqyxh9rcoYO",
        "colab": {}
      },
      "source": [
        "!unzip \"/content/drive/My Drive/Colab/datasets/barcode3.zip\""
      ],
      "execution_count": 0,
      "outputs": []
    },
    {
      "cell_type": "markdown",
      "metadata": {
        "id": "LexuMVp5Pb1v",
        "colab_type": "text"
      },
      "source": [
        "## 3. Treinando o modelo ##"
      ]
    },
    {
      "cell_type": "code",
      "metadata": {
        "id": "iqWiwq90OxJ2",
        "colab_type": "code",
        "colab": {}
      },
      "source": [
        "from imageai.Detection.Custom import DetectionModelTrainer\n",
        "\n",
        "trainer = DetectionModelTrainer()\n",
        "trainer.setModelTypeAsYOLOv3()\n",
        "trainer.setDataDirectory(data_directory=\"barcode\")\n",
        "trainer.setTrainConfig(object_names_array=[\"barcode\"], batch_size=4, num_experiments=11, train_from_pretrained_model=\"pretrained-yolov3.h5\")\n",
        "trainer.trainModel()"
      ],
      "execution_count": 0,
      "outputs": []
    },
    {
      "cell_type": "markdown",
      "metadata": {
        "id": "msd0qj_DPh3P",
        "colab_type": "text"
      },
      "source": [
        "## 4. Avaliando os modelos gerados ##"
      ]
    },
    {
      "cell_type": "code",
      "metadata": {
        "id": "1RlpUESXSnfP",
        "colab_type": "code",
        "colab": {}
      },
      "source": [
        "metrics = trainer.evaluateModel(model_path=\"barcode/models\", json_path=\"/content/drive/My Drive/Colab/json/detection_config_barcode.json\", iou_threshold=0.5, object_threshold=0.3, nms_threshold=0.5)"
      ],
      "execution_count": 0,
      "outputs": []
    },
    {
      "cell_type": "markdown",
      "metadata": {
        "id": "2zl70cEqOyL0",
        "colab_type": "text"
      },
      "source": [
        "**Avaliar modelo indivualmente.**"
      ]
    },
    {
      "cell_type": "code",
      "metadata": {
        "id": "jVCEEvdqO2fO",
        "colab_type": "code",
        "colab": {}
      },
      "source": [
        "from imageai.Detection.Custom import DetectionModelTrainer\n",
        "\n",
        "model =\"/content/drive/My Drive/Colab/a/detection_model-ex-013--loss-0001.995.h5\"\n",
        "models= \"barcode/models\"\n",
        "\n",
        "trainer = DetectionModelTrainer()\n",
        "trainer.setModelTypeAsYOLOv3()\n",
        "trainer.setDataDirectory(data_directory=\"barcode\")\n",
        "metrics = trainer.evaluateModel(model_path=models, json_path=\"/content/drive/My Drive/Colab/json/detection_config_barcode.json\", iou_threshold=0.5, object_threshold=0.3, nms_threshold=0.5)"
      ],
      "execution_count": 0,
      "outputs": []
    },
    {
      "cell_type": "markdown",
      "metadata": {
        "colab_type": "text",
        "id": "vrORS3j1LJ5m"
      },
      "source": [
        "# Utilizar modelo já treinado."
      ]
    },
    {
      "cell_type": "markdown",
      "metadata": {
        "id": "_rlvhItUdl5r",
        "colab_type": "text"
      },
      "source": [
        "## 1. Criando as pastas ##"
      ]
    },
    {
      "cell_type": "code",
      "metadata": {
        "id": "Dj95LnTcyrHl",
        "colab_type": "code",
        "colab": {
          "base_uri": "https://localhost:8080/",
          "height": 293
        },
        "outputId": "39d0a9e2-80f7-464f-e355-afdd6ef83490"
      },
      "source": [
        "import os\n",
        "\n",
        "path, dirs, files = next(os.walk(\"/content/drive/My Drive/Colab/Corridas\"))\n",
        "file_count_corridas = len(dirs)\n",
        "print(\"Número de corridas na pasta: \", file_count_corridas - 1)\n",
        "\n",
        "\n",
        "newFolderCorrida = str(file_count_corridas)\n",
        "folderCorrida = \"/content/drive/My\\ Drive/Colab/Corridas/Corrida_\" + newFolderCorrida\n",
        "print(\"..\")\n",
        "print(\"..\")\n",
        "print(\"..\")\n",
        "!mkdir $folderCorrida\n",
        "print(\"Criando pasta 'Corrida_\"+newFolderCorrida+\"'\")\n",
        "\n",
        "folderTagsJson = \"/content/drive/My\\ Drive/Colab/Corridas/Corrida_\" + newFolderCorrida + \"/tags_json\"\n",
        "print(\"..\")\n",
        "print(\"..\")\n",
        "print(\"..\")\n",
        "try:\n",
        "  !mkdir $folderTagsJson\n",
        "  print(\"Criando pasta '/tags_json'\")\n",
        "except:\n",
        "  print(\"Já existe a pasta '/tags_json'\")\n",
        "\n",
        "folderTagsDetected = \"/content/drive/My\\ Drive/Colab/Corridas/Corrida_\" + newFolderCorrida + \"/tags_detected\"\n",
        "print(\"..\")\n",
        "print(\"..\")\n",
        "print(\"..\")\n",
        "try:\n",
        "  !mkdir $folderTagsDetected\n",
        "  print(\"Criando pasta '/tags_detected'\")\n",
        "except:\n",
        "  print(\"Já existe a pasta '/tags_detected'\")\n",
        "\n",
        "print(\"..\")\n",
        "print(\"..\")\n",
        "print(\"..\")\n",
        "try:\n",
        "  !mkdir barcode-detected-objects\n",
        "  print(\"Criando pasta '/barcode-detected-objects'\")\n",
        "except:\n",
        "  print(\"Já existe a pasta '/barcode-detected-objects'\")"
      ],
      "execution_count": 92,
      "outputs": [
        {
          "output_type": "stream",
          "text": [
            "Número de corridas na pasta:  0\n",
            "..\n",
            "..\n",
            "..\n",
            "Criando pasta 'Corrida_1'\n",
            "..\n",
            "..\n",
            "..\n",
            "Criando pasta '/tags_json'\n",
            "..\n",
            "..\n",
            "..\n",
            "Criando pasta '/tags_detected'\n",
            "..\n",
            "..\n",
            "..\n",
            "Criando pasta '/barcode-detected-objects'\n"
          ],
          "name": "stdout"
        }
      ]
    },
    {
      "cell_type": "markdown",
      "metadata": {
        "colab_type": "text",
        "id": "SGJR89WNLLyl"
      },
      "source": [
        "## 2. Setando as variaveis ##\n"
      ]
    },
    {
      "cell_type": "code",
      "metadata": {
        "id": "Ehjz_R1Ixj7a",
        "colab_type": "code",
        "colab": {}
      },
      "source": [
        "modelPath = \"/content/drive/My Drive/Colab/models/barcode/detection_model-ex-007--loss-0003.066.h5\"\n",
        "JsonPath = \"drive/My Drive/Colab/json/detection_config_barcode.json\"\n",
        "InputImage = \"drive/My Drive/Colab/Imagens_Originais/img1.jpg\""
      ],
      "execution_count": 0,
      "outputs": []
    },
    {
      "cell_type": "markdown",
      "metadata": {
        "id": "3OoA0NtvFhtG",
        "colab_type": "text"
      },
      "source": [
        "## 3. Função de interseção sobre união e Função de eliminar quadrados sobrepostos."
      ]
    },
    {
      "cell_type": "code",
      "metadata": {
        "id": "eRVMlsJKBtCn",
        "colab_type": "code",
        "colab": {}
      },
      "source": [
        "def bb_intersection_over_union(boxA, boxB):\n",
        "\t# determine the (x, y)-coordinates of the intersection rectangle\n",
        "\txA = max(boxA[0], boxB[0])\n",
        "\tyA = max(boxA[1], boxB[1])\n",
        "\txB = min(boxA[2], boxB[2])\n",
        "\tyB = min(boxA[3], boxB[3])\n",
        "\t# compute the area of intersection rectangle\n",
        "\tinterArea = max(0, xB - xA + 1) * max(0, yB - yA + 1)\n",
        "\t# compute the area of both the prediction\n",
        "\t# rectangles\n",
        "\tboxAArea = (boxA[2] - boxA[0] + 1) * (boxA[3] - boxA[1] + 1)\n",
        "\tboxBArea = (boxB[2] - boxB[0] + 1) * (boxB[3] - boxB[1] + 1)\n",
        "\t# compute the intersection over union by taking the intersection\n",
        "\t# area and dividing it by the sum of prediction\n",
        "\t# areas - the interesection area\n",
        "\tiou = interArea / float(boxAArea + boxBArea - interArea)\n",
        "\t# return the intersection over union value\n",
        "\treturn iou\n",
        "\n",
        "def boxArea(boxA, boxB):\n",
        "\tboxAArea = (boxA[2] - boxA[0] + 1) * (boxA[3] - boxA[1] + 1)\n",
        "\tboxBArea = (boxB[2] - boxB[0] + 1) * (boxB[3] - boxB[1] + 1)\n",
        "\treturn boxAArea/boxBArea\n",
        "\n",
        "def removeDuplicatesLoop(detections):\n",
        "\ti=0\n",
        "\tk=0\n",
        "\tfor i, detection in enumerate(detections):\n",
        "\t\tfor k, detection in enumerate(detections):\n",
        "\t\t\t\t\tinter = bb_intersection_over_union(detections[i][\"box_points\"] , detections[k][\"box_points\"])\n",
        "\t\t\t\t\tif(inter > float(0.1) and inter < float(1)):\n",
        "\t\t\t\t\t\tif(boxArea(detections[i][\"box_points\"] , detections[k][\"box_points\"]) > 1):\n",
        "\t\t\t\t\t\t\tdetections.pop(k)\n",
        "\t\t\t\t\t\telse:\n",
        "\t\t\t\t\t\t\tdetections.pop(i)\n",
        "\t\t\t\t\t\t\tremoveDuplicatesLoop(detections)"
      ],
      "execution_count": 0,
      "outputs": []
    },
    {
      "cell_type": "markdown",
      "metadata": {
        "id": "y_gJfJgSyLGi",
        "colab_type": "text"
      },
      "source": [
        "## 4. Treinando modelo e recortando os codigos de barras da imagem original ##\n"
      ]
    },
    {
      "cell_type": "code",
      "metadata": {
        "id": "VpWqhmsuw7DR",
        "colab_type": "code",
        "colab": {
          "base_uri": "https://localhost:8080/",
          "height": 1000
        },
        "outputId": "8b1774f9-8df7-47dd-ffc9-8a5708e82429"
      },
      "source": [
        "from imageai.Detection.Custom import CustomObjectDetection\n",
        "\n",
        "detector = CustomObjectDetection()\n",
        "detector.setModelTypeAsYOLOv3()\n",
        "detector.setModelPath(modelPath)\n",
        "detector.setJsonPath(JsonPath)\n",
        "detector.loadModel()\n",
        "\n",
        "detections = detector.detectObjectsFromImage(input_image = InputImage, \n",
        "                                                           output_image_path=\"barcode-detected-OriginalBoxes.jpg\",\n",
        "                                                           minimum_percentage_probability=20)\n",
        "\n",
        "print(\"Número       \" , \": \", \"Porcentagem \", \"      :    \", \"box_points\")\n",
        "print(\"----------------------------------------------------------------\")\n",
        "print(\"\")\n",
        "\n",
        "for e in detections:\n",
        "  e['box_points'][0] = e['box_points'][0] - 50 ## x1\n",
        "  e['box_points'][1] = e['box_points'][1] - 50 ## y1\n",
        "  e['box_points'][2] = e['box_points'][2] + 50 ## x2\n",
        "  e['box_points'][3] = e['box_points'][3] + 50 ## y2\n",
        "\n",
        "removeDuplicatesLoop(detections)\n",
        "\n",
        "for detection in detections:\n",
        "  print(detection[\"name\"], \"      : \", detection[\"percentage_probability\"], \" : \", detection[\"box_points\"])\n",
        "\n",
        "print(\"----------------------------------------------------------------\")\n",
        "print(\"Quantidade de código de barras detectados na imagem: \", len(detections))"
      ],
      "execution_count": 99,
      "outputs": [
        {
          "output_type": "stream",
          "text": [
            "Número        :  Porcentagem        :     box_points\n",
            "----------------------------------------------------------------\n",
            "\n",
            "barcode       :  57.23978877067566  :  [3328, 583, 3655, 820]\n",
            "barcode       :  31.595543026924133  :  [2122, 946, 2530, 1326]\n",
            "barcode       :  45.35054564476013  :  [2579, 955, 2932, 1278]\n",
            "barcode       :  22.706034779548645  :  [3014, 1051, 3319, 1260]\n",
            "barcode       :  31.375962495803833  :  [3339, 960, 3687, 1254]\n",
            "barcode       :  56.83613419532776  :  [934, 1364, 1324, 1682]\n",
            "barcode       :  49.271160364151  :  [1385, 1345, 1756, 1697]\n",
            "barcode       :  41.60623550415039  :  [2568, 1333, 2931, 1654]\n",
            "barcode       :  30.831488966941833  :  [2884, 1353, 3247, 1679]\n",
            "barcode       :  52.50357389450073  :  [3339, 1320, 3689, 1664]\n",
            "barcode       :  37.52295672893524  :  [72, 1517, 389, 1770]\n",
            "barcode       :  40.25477468967438  :  [211, 1748, 560, 2074]\n",
            "barcode       :  21.697892248630524  :  [1816, 1767, 2185, 2057]\n",
            "barcode       :  40.55114686489105  :  [2125, 1734, 2514, 2075]\n",
            "barcode       :  42.86460876464844  :  [2891, 1728, 3230, 2057]\n",
            "barcode       :  45.45605182647705  :  [3315, 1737, 3697, 2057]\n",
            "barcode       :  25.328928232192993  :  [1349, 1898, 1792, 2212]\n",
            "barcode       :  26.58678889274597  :  [175, 2145, 576, 2486]\n",
            "barcode       :  31.692978739738464  :  [631, 2134, 992, 2480]\n",
            "barcode       :  50.660908222198486  :  [959, 2136, 1292, 2462]\n",
            "barcode       :  35.636451840400696  :  [1705, 2137, 2037, 2467]\n",
            "barcode       :  50.96086859703064  :  [2454, 2140, 2787, 2458]\n",
            "barcode       :  21.990996599197388  :  [2875, 2121, 3209, 2445]\n",
            "barcode       :  56.6206157207489  :  [3226, 2159, 3524, 2409]\n",
            "barcode       :  40.63551127910614  :  [2744, 2513, 3081, 2845]\n",
            "barcode       :  35.58168411254883  :  [3031, 2702, 3392, 3068]\n",
            "barcode       :  28.24881672859192  :  [179, 2917, 554, 3228]\n",
            "barcode       :  21.6964453458786  :  [2908, 3892, 3216, 4246]\n",
            "barcode       :  30.011728405952454  :  [324, 1160, 600, 1375]\n",
            "barcode       :  32.84485638141632  :  [701, 1129, 964, 1377]\n",
            "barcode       :  27.7418315410614  :  [1114, 1127, 1350, 1357]\n",
            "barcode       :  58.12302827835083  :  [1437, 1134, 1780, 1338]\n",
            "barcode       :  50.84943175315857  :  [1785, 1157, 2145, 1352]\n",
            "barcode       :  31.540265679359436  :  [1706, 1496, 2097, 1654]\n",
            "barcode       :  35.6224000453949  :  [549, 1523, 827, 1755]\n",
            "barcode       :  27.81899869441986  :  [2148, 1565, 2506, 1743]\n",
            "barcode       :  51.661163568496704  :  [2533, 1837, 2905, 2040]\n",
            "barcode       :  37.456709146499634  :  [718, 1924, 954, 2114]\n",
            "barcode       :  54.220980405807495  :  [1097, 1904, 1342, 2125]\n",
            "barcode       :  46.78230583667755  :  [1345, 2270, 1675, 2458]\n",
            "barcode       :  47.92894721031189  :  [2094, 2222, 2319, 2432]\n",
            "barcode       :  51.42579674720764  :  [1336, 2543, 1577, 2755]\n",
            "barcode       :  54.68250513076782  :  [1732, 2557, 2027, 2772]\n",
            "barcode       :  57.99083113670349  :  [2083, 2527, 2318, 2742]\n",
            "barcode       :  44.00556981563568  :  [2395, 2561, 2706, 2753]\n",
            "barcode       :  43.42350661754608  :  [3206, 2527, 3427, 2757]\n",
            "barcode       :  43.11880171298981  :  [152, 2646, 536, 2840]\n",
            "barcode       :  48.12661409378052  :  [570, 2651, 877, 2846]\n",
            "barcode       :  46.870213747024536  :  [1018, 2620, 1264, 2835]\n",
            "barcode       :  57.544100284576416  :  [2405, 2862, 2712, 3068]\n",
            "barcode       :  49.629685282707214  :  [605, 2952, 924, 3152]\n",
            "barcode       :  59.08088684082031  :  [869, 2937, 1301, 3121]\n",
            "barcode       :  50.99213719367981  :  [1334, 2925, 1568, 3136]\n",
            "barcode       :  56.91195726394653  :  [1700, 2936, 1965, 3131]\n",
            "barcode       :  50.5987823009491  :  [2025, 2939, 2334, 3138]\n",
            "barcode       :  62.51338720321655  :  [2689, 2928, 3051, 3130]\n",
            "barcode       :  48.037853837013245  :  [1235, 3268, 1558, 3452]\n",
            "barcode       :  50.78164339065552  :  [1661, 3240, 1970, 3435]\n",
            "barcode       :  52.5437593460083  :  [1991, 3256, 2290, 3448]\n",
            "barcode       :  53.2260537147522  :  [2747, 3229, 2988, 3447]\n",
            "barcode       :  46.70417308807373  :  [139, 3316, 384, 3530]\n",
            "barcode       :  54.286372661590576  :  [541, 3336, 860, 3535]\n",
            "barcode       :  56.934696435928345  :  [864, 3326, 1176, 3533]\n",
            "barcode       :  58.94482731819153  :  [2322, 3332, 2655, 3543]\n",
            "barcode       :  53.67456078529358  :  [3074, 3328, 3397, 3531]\n",
            "barcode       :  43.756768107414246  :  [2675, 3540, 2906, 3750]\n",
            "barcode       :  51.6854465007782  :  [122, 3664, 423, 3860]\n",
            "barcode       :  48.086532950401306  :  [518, 3638, 859, 3824]\n",
            "barcode       :  52.45721936225891  :  [842, 3632, 1175, 3826]\n",
            "barcode       :  43.96753907203674  :  [1206, 3660, 1514, 3855]\n",
            "barcode       :  49.107950925827026  :  [1597, 3644, 1887, 3850]\n",
            "barcode       :  48.891809582710266  :  [1905, 3660, 2223, 3854]\n",
            "barcode       :  35.65715849399567  :  [2269, 3658, 2608, 3841]\n",
            "barcode       :  36.10672950744629  :  [3055, 3587, 3283, 3861]\n",
            "barcode       :  26.956316828727722  :  [419, 3956, 822, 4133]\n",
            "barcode       :  54.10025715827942  :  [862, 3939, 1145, 4133]\n",
            "barcode       :  49.289971590042114  :  [1251, 3937, 1492, 4144]\n",
            "barcode       :  46.36227786540985  :  [1607, 3953, 1875, 4143]\n",
            "barcode       :  47.946563363075256  :  [1893, 3940, 2189, 4134]\n",
            "barcode       :  48.729345202445984  :  [2292, 3919, 2540, 4126]\n",
            "barcode       :  55.348408222198486  :  [2648, 3955, 2961, 4153]\n",
            "barcode       :  35.53217947483063  :  [154, 3978, 386, 4257]\n",
            "barcode       :  33.68062674999237  :  [425, 4285, 718, 4467]\n",
            "barcode       :  46.14847004413605  :  [906, 4242, 1103, 4453]\n",
            "barcode       :  44.83370780944824  :  [1580, 4255, 1801, 4472]\n",
            "barcode       :  42.636945843696594  :  [1929, 4244, 2137, 4471]\n",
            "barcode       :  59.69969630241394  :  [2197, 4214, 2506, 4429]\n",
            "barcode       :  39.83186185359955  :  [2494, 4234, 2827, 4442]\n",
            "barcode       :  51.816534996032715  :  [113, 4317, 441, 4534]\n",
            "barcode       :  27.255594730377197  :  [1187, 4302, 1428, 4505]\n",
            "barcode       :  43.2563453912735  :  [3001, 4426, 3311, 4641]\n",
            "----------------------------------------------------------------\n",
            "Quantidade de código de barras detectados na imagem:  91\n"
          ],
          "name": "stdout"
        }
      ]
    },
    {
      "cell_type": "markdown",
      "metadata": {
        "id": "1exgO4CtCSyM",
        "colab_type": "text"
      },
      "source": [
        "## 5. Identificando os Bounding Box e recortandando as imagens. "
      ]
    },
    {
      "cell_type": "code",
      "metadata": {
        "id": "AneEx6ffCSBT",
        "colab_type": "code",
        "colab": {
          "base_uri": "https://localhost:8080/",
          "height": 98
        },
        "outputId": "bcc25bb5-65f8-474b-b58c-dae6039eab1a"
      },
      "source": [
        "%matplotlib inline\n",
        "import numpy as np\n",
        "import skimage.io\n",
        "import matplotlib.pyplot as plt\n",
        "import skimage.segmentation\n",
        "import cv2\n",
        "\n",
        "Image_with_boxes = \"barcode-detected-OriginalBoxes.jpg\"\n",
        "\n",
        "img = skimage.io.imread(InputImage)\n",
        "bbox = []\n",
        "\n",
        "for e in detections:\n",
        "    bbox.append(e['box_points'])\n",
        "\n",
        "for i, (x1,y1,x2,y2) in enumerate(bbox):\n",
        "\n",
        "    if i in {0,1,2,3,4,5,6,7,8,9}:\n",
        "      i = '00' + str(i)\n",
        "    \n",
        "    if(int(i) > 9 and int(i) < 100):\n",
        "      i = '0' + str(i)\n",
        "\n",
        "    img2 = cv2.rectangle(img, (x1,y1), (x2,y2), (0,255,0), 0)\n",
        "    out = img[y1:y2, x1:x2]\n",
        "\n",
        "    cv2.imwrite('barcode-detected-objects/barcode-00'+str(i)+'.jpg', out)\n",
        "\n",
        "cv2.imwrite('barcode-detected-New.jpg', img)\n",
        "\n",
        "print(\"Boxes recortados com sucesso!\")\n",
        "print(\"..\")\n",
        "print(\"..\")\n",
        "print(\"..\")\n",
        "print(\"Imagem = 'barcode-detected-New.jpg' gerada.\")"
      ],
      "execution_count": 100,
      "outputs": [
        {
          "output_type": "stream",
          "text": [
            "Boxes recortados com sucesso!\n",
            "..\n",
            "..\n",
            "..\n",
            "Imagem = 'barcode-detected-New.jpg' gerada.\n"
          ],
          "name": "stdout"
        }
      ]
    },
    {
      "cell_type": "markdown",
      "metadata": {
        "id": "vGGoaT-Y4hxq",
        "colab_type": "text"
      },
      "source": [
        "**Visualizando nova a imagem gerada a partir das novas Bounding Boxes.**"
      ]
    },
    {
      "cell_type": "code",
      "metadata": {
        "id": "2S46QSPm3qd3",
        "colab_type": "code",
        "colab": {}
      },
      "source": [
        "from google.colab.patches import cv2_imshow\n",
        "cv2_imshow(img)"
      ],
      "execution_count": 0,
      "outputs": []
    },
    {
      "cell_type": "markdown",
      "metadata": {
        "id": "UBueY6086TP4",
        "colab_type": "text"
      },
      "source": [
        "## 6. Movendo as pastas para o diretório correto. ##\n"
      ]
    },
    {
      "cell_type": "code",
      "metadata": {
        "id": "H_Q4bIO56SVM",
        "colab_type": "code",
        "colab": {
          "base_uri": "https://localhost:8080/",
          "height": 33
        },
        "outputId": "0dad6e06-709d-4836-a915-ff82c537d187"
      },
      "source": [
        "!mv /content/barcode-detected-OriginalBoxes.jpg $folderCorrida\n",
        "!mv /content/barcode-detected-New.jpg $folderCorrida\n",
        "!mv /content/barcode-detected-objects $folderCorrida\n",
        "\n",
        "barcode = \"/content/drive/My\\ Drive/Colab/Corridas/Corrida_\" + newFolderCorrida + \"/barcode-detected-objects\"\n",
        "images = \"/content/drive/My\\ Drive/Colab/Corridas/Corrida_\" + newFolderCorrida + \"/tags_images\"\n",
        "!mv  $barcode $images\n",
        "\n",
        "print(\"Pastas movidas para o drive com sucesso!\")"
      ],
      "execution_count": 49,
      "outputs": [
        {
          "output_type": "stream",
          "text": [
            "Pastas movidas para o drive com sucesso!\n"
          ],
          "name": "stdout"
        }
      ]
    }
  ]
}