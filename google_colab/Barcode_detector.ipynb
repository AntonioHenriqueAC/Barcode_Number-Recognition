{
  "nbformat": 4,
  "nbformat_minor": 0,
  "metadata": {
    "colab": {
      "name": "Barcode_detector.ipynb",
      "provenance": [],
      "collapsed_sections": [],
      "toc_visible": true,
      "include_colab_link": true
    },
    "kernelspec": {
      "name": "python3",
      "display_name": "Python 3"
    },
    "accelerator": "GPU"
  },
  "cells": [
    {
      "cell_type": "markdown",
      "metadata": {
        "id": "view-in-github",
        "colab_type": "text"
      },
      "source": [
        "<a href=\"https://colab.research.google.com/github/AntonioHenriqueAC/tcc/blob/master/google_colab/Barcode_detector.ipynb\" target=\"_parent\"><img src=\"https://colab.research.google.com/assets/colab-badge.svg\" alt=\"Open In Colab\"/></a>"
      ]
    },
    {
      "cell_type": "markdown",
      "metadata": {
        "id": "wg3hqNG_O2oM",
        "colab_type": "text"
      },
      "source": [
        "# 1. Baixando as bibliotecas necessárias"
      ]
    },
    {
      "cell_type": "code",
      "metadata": {
        "id": "DftpArVvN9SK",
        "colab_type": "code",
        "colab": {}
      },
      "source": [
        "!pip3 install tensorflow-gpu==1.13.1"
      ],
      "execution_count": 0,
      "outputs": []
    },
    {
      "cell_type": "code",
      "metadata": {
        "id": "GMwYHpumOky6",
        "colab_type": "code",
        "colab": {}
      },
      "source": [
        "!pip3 install imageai --upgrade"
      ],
      "execution_count": 0,
      "outputs": []
    },
    {
      "cell_type": "markdown",
      "metadata": {
        "id": "LggdEb32cFhl",
        "colab_type": "text"
      },
      "source": [
        "# Conectando o drive ao colab #"
      ]
    },
    {
      "cell_type": "code",
      "metadata": {
        "id": "DFUvpxK-Oq7D",
        "colab_type": "code",
        "outputId": "5a761ff2-eef0-46f0-c09e-0a3902ef00ef",
        "colab": {
          "base_uri": "https://localhost:8080/",
          "height": 124
        }
      },
      "source": [
        "from google.colab import drive\n",
        "drive.mount('/content/drive')"
      ],
      "execution_count": 5,
      "outputs": [
        {
          "output_type": "stream",
          "text": [
            "Go to this URL in a browser: https://accounts.google.com/o/oauth2/auth?client_id=947318989803-6bn6qk8qdgf4n4g3pfee6491hc0brc4i.apps.googleusercontent.com&redirect_uri=urn%3aietf%3awg%3aoauth%3a2.0%3aoob&response_type=code&scope=email%20https%3a%2f%2fwww.googleapis.com%2fauth%2fdocs.test%20https%3a%2f%2fwww.googleapis.com%2fauth%2fdrive%20https%3a%2f%2fwww.googleapis.com%2fauth%2fdrive.photos.readonly%20https%3a%2f%2fwww.googleapis.com%2fauth%2fpeopleapi.readonly\n",
            "\n",
            "Enter your authorization code:\n",
            "··········\n",
            "Mounted at /content/drive\n"
          ],
          "name": "stdout"
        }
      ]
    },
    {
      "cell_type": "markdown",
      "metadata": {
        "id": "Ed6srdT6aj-D",
        "colab_type": "text"
      },
      "source": [
        "# Treinar novo Modelo !"
      ]
    },
    {
      "cell_type": "markdown",
      "metadata": {
        "id": "uykpeCPPO7Qy",
        "colab_type": "text"
      },
      "source": [
        "## Baixando a CNN pré-treinada ##\n"
      ]
    },
    {
      "cell_type": "code",
      "metadata": {
        "id": "IaUgVcHEOvK4",
        "colab_type": "code",
        "colab": {}
      },
      "source": [
        "!wget https://github.com/OlafenwaMoses/ImageAI/releases/download/essential-v4/pretrained-yolov3.h5"
      ],
      "execution_count": 0,
      "outputs": []
    },
    {
      "cell_type": "markdown",
      "metadata": {
        "colab_type": "text",
        "id": "YSHLvTmscjE_"
      },
      "source": [
        "## Carregando os arquivos do drive no colab ##"
      ]
    },
    {
      "cell_type": "code",
      "metadata": {
        "colab_type": "code",
        "id": "erqyxh9rcoYO",
        "colab": {}
      },
      "source": [
        "!unzip \"/content/drive/My Drive/Colab/datasets/barcode4.zip\" "
      ],
      "execution_count": 0,
      "outputs": []
    },
    {
      "cell_type": "markdown",
      "metadata": {
        "id": "LexuMVp5Pb1v",
        "colab_type": "text"
      },
      "source": [
        "## 5. Treinando o modelo ##"
      ]
    },
    {
      "cell_type": "code",
      "metadata": {
        "id": "iqWiwq90OxJ2",
        "colab_type": "code",
        "colab": {}
      },
      "source": [
        "from imageai.Detection.Custom import DetectionModelTrainer\n",
        "\n",
        "trainer = DetectionModelTrainer()\n",
        "trainer.setModelTypeAsYOLOv3()\n",
        "trainer.setDataDirectory(data_directory=\"barcode\")\n",
        "trainer.setTrainConfig(object_names_array=[\"barcode\"], batch_size=4, num_experiments=11, train_from_pretrained_model=\"pretrained-yolov3.h5\")\n",
        "trainer.trainModel()"
      ],
      "execution_count": 0,
      "outputs": []
    },
    {
      "cell_type": "markdown",
      "metadata": {
        "id": "msd0qj_DPh3P",
        "colab_type": "text"
      },
      "source": [
        "## 6. Avaliando os modelos gerados ##"
      ]
    },
    {
      "cell_type": "code",
      "metadata": {
        "id": "1RlpUESXSnfP",
        "colab_type": "code",
        "colab": {}
      },
      "source": [
        "metrics = trainer.evaluateModel(model_path=\"barcode/models\", json_path=\"barcode/json/detection_config.json\", iou_threshold=0.5, object_threshold=0.3, nms_threshold=0.5)"
      ],
      "execution_count": 0,
      "outputs": []
    },
    {
      "cell_type": "markdown",
      "metadata": {
        "colab_type": "text",
        "id": "vrORS3j1LJ5m"
      },
      "source": [
        "# Utilizar modelo já treinado."
      ]
    },
    {
      "cell_type": "markdown",
      "metadata": {
        "id": "_rlvhItUdl5r",
        "colab_type": "text"
      },
      "source": [
        "## Criando as pastas ##"
      ]
    },
    {
      "cell_type": "code",
      "metadata": {
        "id": "Dj95LnTcyrHl",
        "colab_type": "code",
        "outputId": "b73f2f69-cfce-44c9-b014-775fefe56e1b",
        "colab": {
          "base_uri": "https://localhost:8080/",
          "height": 52
        }
      },
      "source": [
        "import os\n",
        "\n",
        "path, dirs, files = next(os.walk(\"/content/drive/My Drive/Colab/Corridas\"))\n",
        "file_count_corridas = len(dirs)\n",
        "file_count_corridas = file_count_corridas - 1\n",
        "print(\"Número de corridas na pasta: \", file_count_corridas)\n",
        "\n",
        "\n",
        "newFolderCorrida = str(file_count_corridas)\n",
        "folder = \"/content/drive/My\\ Drive/Colab/Corridas/Corrida_\" + newFolderCorrida\n",
        "!mkdir $folder\n"
      ],
      "execution_count": 0,
      "outputs": [
        {
          "output_type": "stream",
          "text": [
            "Número de corridas na pasta:  4\n",
            "mkdir: cannot create directory ‘/content/drive/My Drive/Colab/Corridas/Corrida_4’: File exists\n"
          ],
          "name": "stdout"
        }
      ]
    },
    {
      "cell_type": "markdown",
      "metadata": {
        "colab_type": "text",
        "id": "SGJR89WNLLyl"
      },
      "source": [
        "## 8. Setando as variaveis ##\n"
      ]
    },
    {
      "cell_type": "code",
      "metadata": {
        "id": "Ehjz_R1Ixj7a",
        "colab_type": "code",
        "colab": {}
      },
      "source": [
        "modelPath = \"/content/drive/My Drive/Colab/models/barcode/detection_model-ex-007--loss-0003.066.h5\"\n",
        "JsonPath = \"drive/My Drive/Colab/json/detection_config_barcode.json\"\n",
        "InputImage = \"drive/My Drive/Colab/Imagens_Originais/img1.jpg\""
      ],
      "execution_count": 0,
      "outputs": []
    },
    {
      "cell_type": "markdown",
      "metadata": {
        "id": "y_gJfJgSyLGi",
        "colab_type": "text"
      },
      "source": [
        "## 9. Treinando modelo e recortando os codigos de barras da imagem original ##\n"
      ]
    },
    {
      "cell_type": "code",
      "metadata": {
        "id": "VpWqhmsuw7DR",
        "colab_type": "code",
        "colab": {}
      },
      "source": [
        "from imageai.Detection.Custom import CustomObjectDetection\n",
        "import cv2\n",
        "\n",
        "detector = CustomObjectDetection()\n",
        "detector.setModelTypeAsYOLOv3()\n",
        "detector.setModelPath(modelPath)\n",
        "detector.setJsonPath(JsonPath)\n",
        "detector.loadModel()\n",
        "\n",
        "InputImage = cv2.imread(InputImage, cv2.IMREAD_GRAYSCALE)\n",
        "\n",
        "detections, extracted_objects_array = detector.detectObjectsFromImage(input_image = InputImage, \n",
        "                                                                      output_image_path=\"barcode-detected.jpg\",\n",
        "                                                                      minimum_percentage_probability=30,\n",
        "                                                                      extract_detected_objects=True)\n",
        "def boxPoints(e):\n",
        "  return e['box_points']\n",
        "\n",
        "detections.sort(key=boxPoints)\n",
        "\n",
        "print(\"Número       \" , \": \", \"Porcentagem \", \"      :    \", \"box_points\")\n",
        "print(\"----------------------------------------------------------------\")\n",
        "\n",
        "print(\"\")\n",
        "\n",
        "for detection, object_path in zip(detections, extracted_objects_array):\n",
        "    print(detection[\"name\"], \"      : \", detection[\"percentage_probability\"], \" : \", detection[\"box_points\"])\n",
        "\n",
        "\n",
        "print(\"----------------------------------------------------------------\")\n",
        "print(\"Quantidade de código de barras detectados na imagem: \", len(detections))"
      ],
      "execution_count": 0,
      "outputs": []
    },
    {
      "cell_type": "code",
      "metadata": {
        "id": "h4IqY96pDW4e",
        "colab_type": "code",
        "colab": {}
      },
      "source": [
        "  def removeDuplicates():\n",
        "      i=0\n",
        "      soma=0\n",
        "      for detection in detections:\n",
        "        if( i != len(detections)-1 ):\n",
        "            \n",
        "            Xa = (detections[i]['box_points'][0] + detections[i]['box_points'][2])/2\n",
        "            Ya = (detections[i]['box_points'][1] + detections[i]['box_points'][3])/2\n",
        "            Xb = (detections[i+1]['box_points'][0] + detections[i+1]['box_points'][2])/2\n",
        "            Yb = (detections[i+1]['box_points'][1] + detections[i+1]['box_points'][3])/2\n",
        "\n",
        "            Dab = ( (Xb-Xa)**2 + (Yb - Ya)**2 )**1/2\n",
        "            if(Dab < float(10)):\n",
        "                if(detections[i][\"percentage_probability\"] < detections[i+1][\"percentage_probability\"]):\n",
        "                    detections.pop(i)\n",
        "                else:\n",
        "                    detections.pop(i+1)\n",
        "\n",
        "        soma = soma + detections[i][\"percentage_probability\"]\n",
        "        i=i+1"
      ],
      "execution_count": 0,
      "outputs": []
    },
    {
      "cell_type": "markdown",
      "metadata": {
        "id": "UBueY6086TP4",
        "colab_type": "text"
      },
      "source": [
        "## 10. Movendo as pastas para o diretório correto. ##\n"
      ]
    },
    {
      "cell_type": "code",
      "metadata": {
        "id": "H_Q4bIO56SVM",
        "colab_type": "code",
        "colab": {}
      },
      "source": [
        "!mv /content/barcode-detected.jpg $folder\n",
        "!mv /content/barcode-detected-objects $folder\n",
        "\n",
        "barcode = \"/content/drive/My\\ Drive/Colab/Corridas/Corrida_\" + newFolderCorrida + \"/barcode-detected-objects\"\n",
        "images = \"/content/drive/My\\ Drive/Colab/Corridas/Corrida_\" + newFolderCorrida + \"/tags_images\"\n",
        "!mv  $barcode $images"
      ],
      "execution_count": 0,
      "outputs": []
    }
  ]
}