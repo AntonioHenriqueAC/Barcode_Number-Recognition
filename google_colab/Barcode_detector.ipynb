{
  "nbformat": 4,
  "nbformat_minor": 0,
  "metadata": {
    "colab": {
      "name": "Barcode_detector.ipynb",
      "provenance": [],
      "collapsed_sections": [],
      "toc_visible": true,
      "include_colab_link": true
    },
    "kernelspec": {
      "name": "python3",
      "display_name": "Python 3"
    },
    "accelerator": "GPU"
  },
  "cells": [
    {
      "cell_type": "markdown",
      "metadata": {
        "id": "view-in-github",
        "colab_type": "text"
      },
      "source": [
        "<a href=\"https://colab.research.google.com/github/AntonioHenriqueAC/tcc/blob/master/google_colab/Barcode_detector.ipynb\" target=\"_parent\"><img src=\"https://colab.research.google.com/assets/colab-badge.svg\" alt=\"Open In Colab\"/></a>"
      ]
    },
    {
      "cell_type": "markdown",
      "metadata": {
        "id": "wg3hqNG_O2oM",
        "colab_type": "text"
      },
      "source": [
        "# 1. Baixando as bibliotecas necessárias"
      ]
    },
    {
      "cell_type": "code",
      "metadata": {
        "id": "DftpArVvN9SK",
        "colab_type": "code",
        "colab": {}
      },
      "source": [
        "!pip3 install tensorflow-gpu==1.13.1"
      ],
      "execution_count": 0,
      "outputs": []
    },
    {
      "cell_type": "code",
      "metadata": {
        "id": "GMwYHpumOky6",
        "colab_type": "code",
        "colab": {}
      },
      "source": [
        "!pip3 install imageai --upgrade"
      ],
      "execution_count": 0,
      "outputs": []
    },
    {
      "cell_type": "markdown",
      "metadata": {
        "id": "uykpeCPPO7Qy",
        "colab_type": "text"
      },
      "source": [
        "# 2. Baixando a CNN pré-treinada"
      ]
    },
    {
      "cell_type": "code",
      "metadata": {
        "id": "IaUgVcHEOvK4",
        "colab_type": "code",
        "colab": {}
      },
      "source": [
        "!wget https://github.com/OlafenwaMoses/ImageAI/releases/download/essential-v4/pretrained-yolov3.h5"
      ],
      "execution_count": 0,
      "outputs": []
    },
    {
      "cell_type": "markdown",
      "metadata": {
        "id": "levsKXkSPD6p",
        "colab_type": "text"
      },
      "source": [
        "# 3. Conectando o drive ao colab\n"
      ]
    },
    {
      "cell_type": "code",
      "metadata": {
        "id": "DFUvpxK-Oq7D",
        "colab_type": "code",
        "colab": {}
      },
      "source": [
        "from google.colab import drive\n",
        "drive.mount('/content/drive')"
      ],
      "execution_count": 0,
      "outputs": []
    },
    {
      "cell_type": "markdown",
      "metadata": {
        "id": "eLEv1PCKPWY4",
        "colab_type": "text"
      },
      "source": [
        "# 4. Carregando os arquivos do colab"
      ]
    },
    {
      "cell_type": "code",
      "metadata": {
        "id": "U350nrD7OtNO",
        "colab_type": "code",
        "colab": {}
      },
      "source": [
        "!unzip \"/content/drive/My Drive/Colab/barcode2.zip\" "
      ],
      "execution_count": 0,
      "outputs": []
    },
    {
      "cell_type": "markdown",
      "metadata": {
        "id": "LexuMVp5Pb1v",
        "colab_type": "text"
      },
      "source": [
        "# 5. Treinando o modelo"
      ]
    },
    {
      "cell_type": "code",
      "metadata": {
        "id": "iqWiwq90OxJ2",
        "colab_type": "code",
        "colab": {
          "base_uri": "https://localhost:8080/",
          "height": 730
        },
        "outputId": "26b96c98-7061-44f8-b8a8-5881ff2ef64a"
      },
      "source": [
        "from imageai.Detection.Custom import DetectionModelTrainer\n",
        "\n",
        "trainer = DetectionModelTrainer()\n",
        "trainer.setModelTypeAsYOLOv3()\n",
        "trainer.setDataDirectory(data_directory=\"barcode\")\n",
        "trainer.setTrainConfig(object_names_array=[\"barcode\"], batch_size=4, num_experiments=10, train_from_pretrained_model=\"pretrained-yolov3.h5\")\n",
        "trainer.trainModel()"
      ],
      "execution_count": 8,
      "outputs": [
        {
          "output_type": "stream",
          "text": [
            "Generating anchor boxes for training images and annotation...\n",
            "Average IOU for 9 anchors: 0.85\n",
            "Anchor Boxes generated.\n",
            "Detection configuration saved in  barcode/json/detection_config.json\n",
            "Training on: \t['barcode']\n",
            "Training with Batch Size:  4\n",
            "Number of Experiments:  10\n",
            "WARNING:tensorflow:From /usr/local/lib/python3.6/dist-packages/tensorflow/python/framework/op_def_library.py:263: colocate_with (from tensorflow.python.framework.ops) is deprecated and will be removed in a future version.\n",
            "Instructions for updating:\n",
            "Colocations handled automatically by placer.\n",
            "WARNING:tensorflow:From /usr/local/lib/python3.6/dist-packages/imageai/Detection/Custom/yolo.py:24: to_float (from tensorflow.python.ops.math_ops) is deprecated and will be removed in a future version.\n",
            "Instructions for updating:\n",
            "Use tf.cast instead.\n",
            "Training with transfer learning from pretrained Model\n"
          ],
          "name": "stdout"
        },
        {
          "output_type": "stream",
          "text": [
            "/usr/local/lib/python3.6/dist-packages/keras/callbacks.py:1335: UserWarning: `epsilon` argument is deprecated and will be removed, use `min_delta` instead.\n",
            "  warnings.warn('`epsilon` argument is deprecated and '\n"
          ],
          "name": "stderr"
        },
        {
          "output_type": "stream",
          "text": [
            "WARNING:tensorflow:From /usr/local/lib/python3.6/dist-packages/tensorflow/python/ops/math_ops.py:3066: to_int32 (from tensorflow.python.ops.math_ops) is deprecated and will be removed in a future version.\n",
            "Instructions for updating:\n",
            "Use tf.cast instead.\n",
            "Epoch 1/10\n",
            "952/952 [==============================] - 978s 1s/step - loss: 23.0772 - yolo_layer_1_loss: 2.4024 - yolo_layer_2_loss: 7.4251 - yolo_layer_3_loss: 13.2497 - val_loss: 8.4703 - val_yolo_layer_1_loss: 1.0759 - val_yolo_layer_2_loss: 3.2490 - val_yolo_layer_3_loss: 4.1453\n",
            "Epoch 2/10\n",
            "952/952 [==============================] - 949s 997ms/step - loss: 7.4169 - yolo_layer_1_loss: 1.3553 - yolo_layer_2_loss: 2.7237 - yolo_layer_3_loss: 3.3379 - val_loss: 7.0363 - val_yolo_layer_1_loss: 0.9503 - val_yolo_layer_2_loss: 2.3636 - val_yolo_layer_3_loss: 3.7223\n",
            "Epoch 3/10\n",
            "952/952 [==============================] - 927s 974ms/step - loss: 6.0915 - yolo_layer_1_loss: 0.9024 - yolo_layer_2_loss: 2.3319 - yolo_layer_3_loss: 2.8572 - val_loss: 6.9369 - val_yolo_layer_1_loss: 0.8217 - val_yolo_layer_2_loss: 2.1768 - val_yolo_layer_3_loss: 3.9384\n",
            "Epoch 4/10\n",
            "952/952 [==============================] - 980s 1s/step - loss: 5.7154 - yolo_layer_1_loss: 0.9038 - yolo_layer_2_loss: 2.1759 - yolo_layer_3_loss: 2.6357 - val_loss: 7.0128 - val_yolo_layer_1_loss: 0.6146 - val_yolo_layer_2_loss: 2.5738 - val_yolo_layer_3_loss: 3.8244\n",
            "Epoch 5/10\n",
            "952/952 [==============================] - 973s 1s/step - loss: 5.4778 - yolo_layer_1_loss: 1.0458 - yolo_layer_2_loss: 2.0960 - yolo_layer_3_loss: 2.3359 - val_loss: 8.0191 - val_yolo_layer_1_loss: 1.6773 - val_yolo_layer_2_loss: 2.1784 - val_yolo_layer_3_loss: 4.1635\n",
            "Epoch 6/10\n",
            "952/952 [==============================] - 954s 1s/step - loss: 5.0683 - yolo_layer_1_loss: 0.8137 - yolo_layer_2_loss: 1.8985 - yolo_layer_3_loss: 2.3560 - val_loss: 8.9936 - val_yolo_layer_1_loss: 0.7558 - val_yolo_layer_2_loss: 2.4654 - val_yolo_layer_3_loss: 5.7724\n",
            "Epoch 7/10\n",
            "952/952 [==============================] - 945s 992ms/step - loss: 4.8056 - yolo_layer_1_loss: 0.8632 - yolo_layer_2_loss: 1.8287 - yolo_layer_3_loss: 2.1136 - val_loss: 6.7147 - val_yolo_layer_1_loss: 0.6103 - val_yolo_layer_2_loss: 2.1282 - val_yolo_layer_3_loss: 3.9763\n",
            "Epoch 8/10\n",
            "952/952 [==============================] - 991s 1s/step - loss: 4.6816 - yolo_layer_1_loss: 0.7626 - yolo_layer_2_loss: 1.8013 - yolo_layer_3_loss: 2.1177 - val_loss: 8.6717 - val_yolo_layer_1_loss: 0.7319 - val_yolo_layer_2_loss: 2.3103 - val_yolo_layer_3_loss: 5.6295\n",
            "Epoch 9/10\n",
            "952/952 [==============================] - 966s 1s/step - loss: 4.7198 - yolo_layer_1_loss: 0.7865 - yolo_layer_2_loss: 1.8185 - yolo_layer_3_loss: 2.1148 - val_loss: 7.6448 - val_yolo_layer_1_loss: 0.5831 - val_yolo_layer_2_loss: 2.1900 - val_yolo_layer_3_loss: 4.8716\n",
            "Epoch 10/10\n",
            "952/952 [==============================] - 954s 1s/step - loss: 4.5200 - yolo_layer_1_loss: 0.7888 - yolo_layer_2_loss: 1.7840 - yolo_layer_3_loss: 1.9473 - val_loss: 8.1674 - val_yolo_layer_1_loss: 0.5438 - val_yolo_layer_2_loss: 2.1739 - val_yolo_layer_3_loss: 5.4497\n"
          ],
          "name": "stdout"
        }
      ]
    },
    {
      "cell_type": "markdown",
      "metadata": {
        "id": "msd0qj_DPh3P",
        "colab_type": "text"
      },
      "source": [
        "# 6. Avaliando os modelos gerados"
      ]
    },
    {
      "cell_type": "code",
      "metadata": {
        "id": "1RlpUESXSnfP",
        "colab_type": "code",
        "colab": {
          "base_uri": "https://localhost:8080/",
          "height": 1000
        },
        "outputId": "03811f57-e4d1-4ff5-dc08-6c536fa8bd83"
      },
      "source": [
        "metrics = trainer.evaluateModel(model_path=\"barcode/models\", json_path=\"barcode/json/detection_config.json\", iou_threshold=0.5, object_threshold=0.3, nms_threshold=0.5)"
      ],
      "execution_count": 9,
      "outputs": [
        {
          "output_type": "stream",
          "text": [
            "Starting Model evaluation....\n"
          ],
          "name": "stdout"
        },
        {
          "output_type": "stream",
          "text": [
            "/usr/local/lib/python3.6/dist-packages/keras/engine/saving.py:310: UserWarning: No training configuration found in save file: the model was *not* compiled. Compile it manually.\n",
            "  warnings.warn('No training configuration found in save file: '\n"
          ],
          "name": "stderr"
        },
        {
          "output_type": "stream",
          "text": [
            "Model File:  barcode/models/detection_model-ex-001--loss-0023.077.h5 \n",
            "\n",
            "Using IoU :  0.5\n",
            "Using Object Threshold :  0.3\n",
            "Using Non-Maximum Suppression :  0.5\n",
            "barcode: 0.5444\n",
            "mAP: 0.5444\n",
            "===============================\n",
            "Model File:  barcode/models/detection_model-ex-002--loss-0007.417.h5 \n",
            "\n",
            "Using IoU :  0.5\n",
            "Using Object Threshold :  0.3\n",
            "Using Non-Maximum Suppression :  0.5\n",
            "barcode: 0.8148\n",
            "mAP: 0.8148\n",
            "===============================\n",
            "Model File:  barcode/models/detection_model-ex-003--loss-0006.091.h5 \n",
            "\n",
            "Using IoU :  0.5\n",
            "Using Object Threshold :  0.3\n",
            "Using Non-Maximum Suppression :  0.5\n",
            "barcode: 0.7886\n",
            "mAP: 0.7886\n",
            "===============================\n",
            "Model File:  barcode/models/detection_model-ex-004--loss-0005.715.h5 \n",
            "\n",
            "Using IoU :  0.5\n",
            "Using Object Threshold :  0.3\n",
            "Using Non-Maximum Suppression :  0.5\n",
            "barcode: 0.8770\n",
            "mAP: 0.8770\n",
            "===============================\n",
            "Model File:  barcode/models/detection_model-ex-005--loss-0005.478.h5 \n",
            "\n",
            "Using IoU :  0.5\n",
            "Using Object Threshold :  0.3\n",
            "Using Non-Maximum Suppression :  0.5\n",
            "barcode: 0.6657\n",
            "mAP: 0.6657\n",
            "===============================\n",
            "Model File:  barcode/models/detection_model-ex-006--loss-0005.068.h5 \n",
            "\n",
            "Using IoU :  0.5\n",
            "Using Object Threshold :  0.3\n",
            "Using Non-Maximum Suppression :  0.5\n",
            "barcode: 0.4331\n",
            "mAP: 0.4331\n",
            "===============================\n",
            "Model File:  barcode/models/detection_model-ex-007--loss-0004.806.h5 \n",
            "\n",
            "Using IoU :  0.5\n",
            "Using Object Threshold :  0.3\n",
            "Using Non-Maximum Suppression :  0.5\n",
            "barcode: 0.8991\n",
            "mAP: 0.8991\n",
            "===============================\n",
            "Model File:  barcode/models/detection_model-ex-008--loss-0004.682.h5 \n",
            "\n",
            "Using IoU :  0.5\n",
            "Using Object Threshold :  0.3\n",
            "Using Non-Maximum Suppression :  0.5\n",
            "barcode: 0.4140\n",
            "mAP: 0.4140\n",
            "===============================\n",
            "Model File:  barcode/models/detection_model-ex-010--loss-0004.520.h5 \n",
            "\n",
            "Using IoU :  0.5\n",
            "Using Object Threshold :  0.3\n",
            "Using Non-Maximum Suppression :  0.5\n",
            "barcode: 0.5357\n",
            "mAP: 0.5357\n",
            "===============================\n"
          ],
          "name": "stdout"
        }
      ]
    },
    {
      "cell_type": "markdown",
      "metadata": {
        "colab_type": "text",
        "id": "vrORS3j1LJ5m"
      },
      "source": [
        "# 7. Criando pastas\n"
      ]
    },
    {
      "cell_type": "code",
      "metadata": {
        "id": "Dj95LnTcyrHl",
        "colab_type": "code",
        "colab": {
          "base_uri": "https://localhost:8080/",
          "height": 34
        },
        "outputId": "15aba94b-71a2-4617-efec-1f6197a448aa"
      },
      "source": [
        "import os\n",
        "\n",
        "path, dirs, files = next(os.walk(\"/content/drive/My Drive/Colab/Corridas\"))\n",
        "file_count_corridas = len(files)\n",
        "print(\"Corridas: \", file_count_corridas + 1)\n",
        "\n",
        "file_count_corridas = file_count_corridas+1\n",
        "newFolderCorrida = file_count_corridas + 1\n",
        "newFolderCorrida = str(newFolderCorrida)\n",
        "folder = \"/content/drive/My\\ Drive/Colab/Corridas/Corrida_\" + newFolderCorrida\n",
        "!mkdir $folder\n"
      ],
      "execution_count": 10,
      "outputs": [
        {
          "output_type": "stream",
          "text": [
            "Corridas:  1\n"
          ],
          "name": "stdout"
        }
      ]
    },
    {
      "cell_type": "markdown",
      "metadata": {
        "colab_type": "text",
        "id": "SGJR89WNLLyl"
      },
      "source": [
        "# 8. Setando as variaveis\n"
      ]
    },
    {
      "cell_type": "code",
      "metadata": {
        "id": "Ehjz_R1Ixj7a",
        "colab_type": "code",
        "colab": {}
      },
      "source": [
        "modelPath = \"/content/drive/My Drive/Colab/models/barcode/detection_model-ex-004--loss-0005.715-1.h5\"\n",
        "JsonPath = \"drive/My Drive/Colab/json/detection_config_barcode.json\"\n",
        "InputImage = \"drive/My Drive/Colab/Imagens_Originais/img1.jpg\""
      ],
      "execution_count": 0,
      "outputs": []
    },
    {
      "cell_type": "markdown",
      "metadata": {
        "id": "y_gJfJgSyLGi",
        "colab_type": "text"
      },
      "source": [
        "# 9. Treinando modelo e recortando os codigos de barras da imagem original\n"
      ]
    },
    {
      "cell_type": "code",
      "metadata": {
        "id": "VpWqhmsuw7DR",
        "colab_type": "code",
        "colab": {
          "base_uri": "https://localhost:8080/",
          "height": 1000
        },
        "outputId": "f4341f64-7c9f-4e87-bd01-011e69ef93e8"
      },
      "source": [
        "from imageai.Detection.Custom import CustomObjectDetection\n",
        "\n",
        "detector = CustomObjectDetection()\n",
        "detector.setModelTypeAsYOLOv3()\n",
        "detector.setModelPath(modelPath)\n",
        "detector.setJsonPath(JsonPath)\n",
        "detector.loadModel()\n",
        "detections, extracted_objects_array = detector.detectObjectsFromImage(input_image = InputImage, \n",
        "                                                                      output_image_path=\"barcode-detected.jpg\",\n",
        "                                                                      minimum_percentage_probability=40,\n",
        "                                                                      extract_detected_objects=True)\n",
        "def boxPoints(e):\n",
        "  return e['box_points']\n",
        "\n",
        "detections.sort(key=boxPoints)\n",
        "\n",
        "print(\"Número       \" , \": \", \"Porcentagem \", \"      :    \", \"box_points\")\n",
        "print(\"----------------------------------------------------------------\")\n",
        "\n",
        "print(\"\")\n",
        "\n",
        "for detection, object_path in zip(detections, extracted_objects_array):\n",
        "    print(detection[\"name\"], \"      : \", detection[\"percentage_probability\"], \" : \", detection[\"box_points\"])\n",
        "\n",
        "\n",
        "print(\"----------------------------------------------------------------\")\n",
        "print(\"Quantidade de código de barras detectados na imagem: \", len(detections))"
      ],
      "execution_count": 41,
      "outputs": [
        {
          "output_type": "stream",
          "text": [
            "Número        :  Porcentagem        :     box_points\n",
            "----------------------------------------------------------------\n",
            "\n",
            "barcode       :  67.15813279151917  :  [181, 1564, 303, 1674]\n",
            "barcode       :  64.76048827171326  :  [206, 4054, 297, 4158]\n",
            "barcode       :  67.07512140274048  :  [208, 3368, 313, 3480]\n",
            "barcode       :  78.62685918807983  :  [231, 3712, 329, 3813]\n",
            "barcode       :  70.12013792991638  :  [240, 4338, 326, 4465]\n",
            "barcode       :  64.25415873527527  :  [287, 2349, 394, 2467]\n",
            "barcode       :  48.5990047454834  :  [299, 2646, 399, 2780]\n",
            "barcode       :  65.86588025093079  :  [307, 3003, 403, 3108]\n",
            "barcode       :  40.08749723434448  :  [369, 1936, 476, 2081]\n",
            "barcode       :  72.16693758964539  :  [392, 1209, 478, 1317]\n",
            "barcode       :  40.238481760025024  :  [425, 4750, 503, 4854]\n",
            "barcode       :  64.54731822013855  :  [545, 4329, 627, 4458]\n",
            "barcode       :  71.56190276145935  :  [576, 3993, 682, 4091]\n",
            "barcode       :  70.40954828262329  :  [597, 1597, 718, 1690]\n",
            "barcode       :  67.71036982536316  :  [626, 3655, 737, 3764]\n",
            "barcode       :  70.17415761947632  :  [652, 3377, 753, 3483]\n",
            "barcode       :  66.2071168422699  :  [683, 2663, 770, 2782]\n",
            "barcode       :  71.29856944084167  :  [711, 2994, 818, 3105]\n",
            "barcode       :  73.90535473823547  :  [748, 1200, 866, 1301]\n",
            "barcode       :  78.42409610748291  :  [749, 2314, 855, 2405]\n",
            "barcode       :  65.8462405204773  :  [751, 1938, 867, 2069]\n",
            "barcode       :  70.00536322593689  :  [960, 3661, 1050, 3767]\n",
            "barcode       :  78.772634267807  :  [965, 4304, 1046, 4404]\n",
            "barcode       :  70.03703713417053  :  [969, 3970, 1051, 4088]\n",
            "barcode       :  70.82470059394836  :  [976, 3355, 1066, 3467]\n",
            "barcode       :  71.75731062889099  :  [1037, 2952, 1140, 3071]\n",
            "barcode       :  69.65522766113281  :  [1072, 2307, 1193, 2408]\n",
            "barcode       :  68.48700046539307  :  [1081, 2671, 1192, 2774]\n",
            "barcode       :  77.69258618354797  :  [1083, 1507, 1195, 1669]\n",
            "barcode       :  66.40061140060425  :  [1155, 1946, 1274, 2077]\n",
            "barcode       :  42.77130961418152  :  [1187, 1031, 1260, 1095]\n",
            "barcode       :  71.45381569862366  :  [1194, 1182, 1303, 1297]\n",
            "barcode       :  81.14203214645386  :  [1281, 4318, 1355, 4433]\n",
            "barcode       :  81.11459612846375  :  [1290, 3705, 1381, 3813]\n",
            "barcode       :  72.6345956325531  :  [1314, 3992, 1406, 4092]\n",
            "barcode       :  78.5273790359497  :  [1357, 3295, 1455, 3401]\n",
            "barcode       :  71.32083773612976  :  [1396, 2968, 1499, 3081]\n",
            "barcode       :  85.20376086235046  :  [1424, 2624, 1517, 2733]\n",
            "barcode       :  81.26292824745178  :  [1459, 2327, 1571, 2432]\n",
            "barcode       :  66.48110151290894  :  [1521, 1525, 1600, 1630]\n",
            "barcode       :  82.00015425682068  :  [1524, 1497, 1636, 1676]\n",
            "barcode       :  42.945706844329834  :  [1529, 1581, 1644, 1635]\n",
            "barcode       :  66.41831398010254  :  [1559, 1152, 1686, 1275]\n",
            "barcode       :  74.75544810295105  :  [1577, 1903, 1655, 2070]\n",
            "barcode       :  47.24060297012329  :  [1583, 1026, 1638, 1098]\n",
            "barcode       :  80.94719052314758  :  [1657, 4318, 1729, 4431]\n",
            "barcode       :  73.72481226921082  :  [1696, 3686, 1787, 3802]\n",
            "barcode       :  75.8947491645813  :  [1699, 3995, 1786, 4111]\n",
            "barcode       :  72.53677248954773  :  [1767, 3265, 1859, 3374]\n",
            "barcode       :  73.05991053581238  :  [1794, 2957, 1876, 3082]\n",
            "barcode       :  84.37858819961548  :  [1809, 2607, 1907, 2725]\n",
            "barcode       :  40.22344946861267  :  [1811, 2316, 1973, 2378]\n",
            "barcode       :  76.01456642150879  :  [1853, 2300, 1942, 2412]\n",
            "barcode       :  46.74425423145294  :  [1870, 1217, 2051, 1280]\n",
            "barcode       :  82.50046372413635  :  [1876, 1518, 1979, 1642]\n",
            "barcode       :  70.4488754272461  :  [1902, 1194, 2015, 1319]\n",
            "barcode       :  82.12375044822693  :  [1916, 1930, 2026, 2038]\n",
            "barcode       :  71.99137210845947  :  [1973, 4327, 2036, 4409]\n",
            "barcode       :  78.53253483772278  :  [1986, 4315, 2077, 4427]\n",
            "barcode       :  71.22122645378113  :  [2003, 3978, 2089, 4093]\n",
            "barcode       :  74.73520040512085  :  [2030, 3683, 2123, 3796]\n",
            "barcode       :  75.83808898925781  :  [2100, 3280, 2187, 3399]\n",
            "barcode       :  68.832927942276  :  [2106, 2968, 2197, 3066]\n",
            "barcode       :  72.94065356254578  :  [2156, 2268, 2254, 2371]\n",
            "barcode       :  75.66038966178894  :  [2158, 2586, 2259, 2696]\n",
            "barcode       :  43.09925734996796  :  [2221, 1597, 2429, 1658]\n",
            "barcode       :  75.11669397354126  :  [2247, 1567, 2356, 1675]\n",
            "barcode       :  72.79539108276367  :  [2293, 1899, 2408, 2015]\n",
            "barcode       :  68.9998209476471  :  [2312, 4246, 2389, 4365]\n",
            "barcode       :  41.543036699295044  :  [2330, 1181, 2460, 1235]\n",
            "barcode       :  72.96280264854431  :  [2334, 1112, 2416, 1253]\n",
            "barcode       :  69.53254342079163  :  [2368, 3954, 2465, 4067]\n",
            "barcode       :  75.95527768135071  :  [2401, 3679, 2493, 3792]\n",
            "barcode       :  67.93461441993713  :  [2431, 3369, 2542, 3486]\n",
            "barcode       :  77.78238654136658  :  [2477, 2601, 2569, 2694]\n",
            "barcode       :  76.92024111747742  :  [2509, 2918, 2612, 3027]\n",
            "barcode       :  72.33465909957886  :  [2589, 2254, 2697, 2364]\n",
            "barcode       :  78.71155142784119  :  [2631, 4266, 2711, 4367]\n",
            "barcode       :  75.55239796638489  :  [2664, 1493, 2768, 1613]\n",
            "barcode       :  70.23735046386719  :  [2665, 1849, 2775, 1978]\n",
            "barcode       :  81.88153505325317  :  [2696, 1129, 2795, 1233]\n",
            "barcode       :  75.58236122131348  :  [2738, 3611, 2832, 3705]\n",
            "barcode       :  77.27351188659668  :  [2766, 3980, 2861, 4120]\n",
            "barcode       :  71.08696103096008  :  [2816, 2963, 2916, 3073]\n",
            "barcode       :  73.2720136642456  :  [2828, 3300, 2928, 3403]\n",
            "barcode       :  70.27743458747864  :  [2888, 2605, 3006, 2704]\n",
            "barcode       :  74.51390027999878  :  [2943, 2210, 3061, 2311]\n",
            "barcode       :  69.97143030166626  :  [3000, 1527, 3092, 1632]\n",
            "barcode       :  63.827210664749146  :  [3005, 1874, 3137, 1987]\n",
            "barcode       :  71.36112451553345  :  [3056, 3940, 3141, 4086]\n",
            "barcode       :  40.797969698905945  :  [3063, 4499, 3248, 4566]\n",
            "barcode       :  70.02341747283936  :  [3088, 1158, 3203, 1268]\n",
            "barcode       :  67.33558773994446  :  [3098, 3647, 3193, 3769]\n",
            "barcode       :  67.48347878456116  :  [3107, 4461, 3212, 4593]\n",
            "barcode       :  69.53375339508057  :  [3186, 3362, 3290, 3479]\n",
            "barcode       :  69.62078809738159  :  [3187, 2894, 3298, 2992]\n",
            "barcode       :  73.60630631446838  :  [3260, 2606, 3381, 2711]\n",
            "barcode       :  72.98014163970947  :  [3307, 2224, 3445, 2326]\n",
            "barcode       :  40.514785051345825  :  [3347, 715, 3580, 786]\n",
            "barcode       :  69.70020532608032  :  [3376, 1031, 3430, 1097]\n",
            "barcode       :  70.57762742042542  :  [3394, 1874, 3515, 1989]\n",
            "barcode       :  65.7593846321106  :  [3403, 680, 3539, 819]\n",
            "barcode       :  69.384104013443  :  [3416, 1157, 3517, 1272]\n",
            "barcode       :  61.53419613838196  :  [3457, 1466, 3581, 1599]\n",
            "----------------------------------------------------------------\n",
            "Quantidade de código de barras detectados na imagem:  104\n"
          ],
          "name": "stdout"
        }
      ]
    },
    {
      "cell_type": "markdown",
      "metadata": {
        "id": "UBueY6086TP4",
        "colab_type": "text"
      },
      "source": [
        "# 10. Movendo as pastas para o diretório correto.\n"
      ]
    },
    {
      "cell_type": "code",
      "metadata": {
        "id": "H_Q4bIO56SVM",
        "colab_type": "code",
        "colab": {}
      },
      "source": [
        "!mv /content/barcode-detected.jpg $folder\n",
        "!mv /content/barcode-detected-objects $folder\n",
        "\n",
        "barcode = \"/content/drive/My\\ Drive/Colab/Corridas/Corrida_\" + newFolderCorrida + \"/barcode-detected-objects\"\n",
        "images = \"/content/drive/My\\ Drive/Colab/Corridas/Corrida_\" + newFolderCorrida + \"/images_tags\"\n",
        "!mv  $barcode $images"
      ],
      "execution_count": 0,
      "outputs": []
    }
  ]
}