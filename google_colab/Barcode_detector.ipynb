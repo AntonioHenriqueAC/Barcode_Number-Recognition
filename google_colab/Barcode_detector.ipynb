{
  "nbformat": 4,
  "nbformat_minor": 0,
  "metadata": {
    "colab": {
      "name": "Barcode_detector.ipynb",
      "provenance": [],
      "collapsed_sections": [],
      "toc_visible": true,
      "include_colab_link": true
    },
    "kernelspec": {
      "name": "python3",
      "display_name": "Python 3"
    },
    "accelerator": "GPU"
  },
  "cells": [
    {
      "cell_type": "markdown",
      "metadata": {
        "id": "view-in-github",
        "colab_type": "text"
      },
      "source": [
        "<a href=\"https://colab.research.google.com/github/AntonioHenriqueAC/tcc/blob/master/google_colab/Barcode_detector.ipynb\" target=\"_parent\"><img src=\"https://colab.research.google.com/assets/colab-badge.svg\" alt=\"Open In Colab\"/></a>"
      ]
    },
    {
      "cell_type": "markdown",
      "metadata": {
        "id": "wg3hqNG_O2oM",
        "colab_type": "text"
      },
      "source": [
        "# 1. Baixando as bibliotecas necessárias"
      ]
    },
    {
      "cell_type": "code",
      "metadata": {
        "id": "DftpArVvN9SK",
        "colab_type": "code",
        "colab": {}
      },
      "source": [
        "!pip3 install tensorflow-gpu==1.13.1"
      ],
      "execution_count": 0,
      "outputs": []
    },
    {
      "cell_type": "code",
      "metadata": {
        "id": "GMwYHpumOky6",
        "colab_type": "code",
        "colab": {}
      },
      "source": [
        "!pip3 install imageai --upgrade"
      ],
      "execution_count": 0,
      "outputs": []
    },
    {
      "cell_type": "markdown",
      "metadata": {
        "id": "uykpeCPPO7Qy",
        "colab_type": "text"
      },
      "source": [
        "# 2. Baixando a CNN pré-treinada"
      ]
    },
    {
      "cell_type": "code",
      "metadata": {
        "id": "IaUgVcHEOvK4",
        "colab_type": "code",
        "colab": {}
      },
      "source": [
        "!wget https://github.com/OlafenwaMoses/ImageAI/releases/download/essential-v4/pretrained-yolov3.h5"
      ],
      "execution_count": 0,
      "outputs": []
    },
    {
      "cell_type": "markdown",
      "metadata": {
        "id": "levsKXkSPD6p",
        "colab_type": "text"
      },
      "source": [
        "# 3. Conectando o drive ao colab\n"
      ]
    },
    {
      "cell_type": "code",
      "metadata": {
        "id": "DFUvpxK-Oq7D",
        "colab_type": "code",
        "colab": {}
      },
      "source": [
        "from google.colab import drive\n",
        "drive.mount('/content/drive')"
      ],
      "execution_count": 0,
      "outputs": []
    },
    {
      "cell_type": "markdown",
      "metadata": {
        "id": "eLEv1PCKPWY4",
        "colab_type": "text"
      },
      "source": [
        "# 4. Carregando os arquivos do colab"
      ]
    },
    {
      "cell_type": "code",
      "metadata": {
        "id": "U350nrD7OtNO",
        "colab_type": "code",
        "colab": {}
      },
      "source": [
        "!unzip \"/content/drive/My Drive/Colab/barcode.zip\" "
      ],
      "execution_count": 0,
      "outputs": []
    },
    {
      "cell_type": "markdown",
      "metadata": {
        "id": "LexuMVp5Pb1v",
        "colab_type": "text"
      },
      "source": [
        "# 5. Treinando o modelo"
      ]
    },
    {
      "cell_type": "code",
      "metadata": {
        "id": "iqWiwq90OxJ2",
        "colab_type": "code",
        "colab": {}
      },
      "source": [
        "from imageai.Detection.Custom import DetectionModelTrainer\n",
        "\n",
        "trainer = DetectionModelTrainer()\n",
        "trainer.setModelTypeAsYOLOv3()\n",
        "trainer.setDataDirectory(data_directory=\"barcode\")\n",
        "trainer.setTrainConfig(object_names_array=[\"barcode\"], batch_size=4, num_experiments=20, train_from_pretrained_model=\"pretrained-yolov3.h5\")\n",
        "trainer.trainModel()"
      ],
      "execution_count": 0,
      "outputs": []
    },
    {
      "cell_type": "markdown",
      "metadata": {
        "id": "msd0qj_DPh3P",
        "colab_type": "text"
      },
      "source": [
        "# 6. Avaliando os modelos gerados"
      ]
    },
    {
      "cell_type": "code",
      "metadata": {
        "id": "1RlpUESXSnfP",
        "colab_type": "code",
        "colab": {}
      },
      "source": [
        "metrics = trainer.evaluateModel(model_path=\"barcode/models\", json_path=\"barcode/json/detection_config.json\", iou_threshold=0.5, object_threshold=0.3, nms_threshold=0.5)"
      ],
      "execution_count": 0,
      "outputs": []
    },
    {
      "cell_type": "code",
      "metadata": {
        "id": "mOv0ewqGxiDs",
        "colab_type": "code",
        "colab": {}
      },
      "source": [
        ""
      ],
      "execution_count": 0,
      "outputs": []
    },
    {
      "cell_type": "markdown",
      "metadata": {
        "id": "ho5vZrvFPpl3",
        "colab_type": "text"
      },
      "source": [
        "# 7. Testando o modelo treinado"
      ]
    },
    {
      "cell_type": "code",
      "metadata": {
        "id": "Ehjz_R1Ixj7a",
        "colab_type": "code",
        "colab": {}
      },
      "source": [
        "#Setando as variáveis\n",
        "\n",
        "modelPath = \"/content/barcode/models/detection_model-ex-006--loss-0004.966.h5\"\n",
        "JsonPath = \"barcode/json/detection_config.json\"\n",
        "InputImage = \"/content/drive/My Drive/Colab/Imagens_Originais/img6.jpeg\""
      ],
      "execution_count": 0,
      "outputs": []
    },
    {
      "cell_type": "code",
      "metadata": {
        "id": "7XjO2TxsW6jU",
        "colab_type": "code",
        "colab": {}
      },
      "source": [
        "from imageai.Detection.Custom import CustomObjectDetection\n",
        "\n",
        "detector = CustomObjectDetection()\n",
        "detector.setModelTypeAsYOLOv3()\n",
        "detector.setModelPath(modelPath)\n",
        "detector.setJsonPath(JsonPath)\n",
        "detector.loadModel()\n",
        "detections = detector.detectObjectsFromImage(input_image = InputImage, \n",
        "                                             output_image_path=\"barcode-detected.jpg\")\n",
        "\n",
        "print(\"----------------------------\")\n",
        "print(\"Número \" , \": \", \"Porcentagem \", \"      :    \", \"box_points\")\n",
        "print(\"\")\n",
        "\n",
        "\n",
        "for detection in detections:\n",
        "    print(detection[\"name\"], \"      : \", detection[\"percentage_probability\"], \" : \", detection[\"box_points\"])"
      ],
      "execution_count": 0,
      "outputs": []
    },
    {
      "cell_type": "markdown",
      "metadata": {
        "id": "y_gJfJgSyLGi",
        "colab_type": "text"
      },
      "source": [
        "# 8. Treinando modelo e recortando a imagem"
      ]
    },
    {
      "cell_type": "code",
      "metadata": {
        "id": "VpWqhmsuw7DR",
        "colab_type": "code",
        "colab": {}
      },
      "source": [
        "from imageai.Detection.Custom import CustomObjectDetection\n",
        "\n",
        "detector = CustomObjectDetection()\n",
        "detector.setModelTypeAsYOLOv3()\n",
        "detector.setModelPath(modelPath)\n",
        "detector.setJsonPath(JsonPath)\n",
        "detector.loadModel()\n",
        "detections, extracted_objects_array = detector.detectObjectsFromImage(input_image = InputImage, \n",
        "                                                                      output_image_path=\"barcode-detected.jpg\",\n",
        "                                                                      extract_detected_objects=True)\n",
        "\n",
        "print(\"----------------------------\")\n",
        "print(\"Número \" , \": \", \"Porcentagem \", \"      :    \", \"box_points\")\n",
        "print(\"\")\n",
        "\n",
        "for detection, object_path in zip(detections, extracted_objects_array):\n",
        "    print(object_path)\n",
        "    print(detection[\"name\"], \"      : \", detection[\"percentage_probability\"], \" : \", detection[\"box_points\"])\n",
        "    print(\"----------------------------\")"
      ],
      "execution_count": 0,
      "outputs": []
    },
    {
      "cell_type": "code",
      "metadata": {
        "id": "6HpJg3uPlV0q",
        "colab_type": "code",
        "colab": {}
      },
      "source": [
        "#Numero de tag na img6: 63\n",
        "\n",
        "len(detections)"
      ],
      "execution_count": 0,
      "outputs": []
    },
    {
      "cell_type": "code",
      "metadata": {
        "id": "Dj95LnTcyrHl",
        "colab_type": "code",
        "colab": {}
      },
      "source": [
        "import os\n",
        "\n",
        "path, dirs, files = next(os.walk(\"/content/drive/My Drive/Colab/Corridas\"))\n",
        "file_count_corridas = len(files)\n",
        "print(\"Corridas: \", file_count_corridas)\n",
        "\n",
        "path, dirs, files = next(os.walk(\"/content/drive/My Drive/Colab/Corridas/Corrida_\" + str(file_count_corridas) +\"/images_tags\"))\n",
        "file_count_tag = len(files)\n",
        "print(\"tags: \", file_count_tag)\n",
        "\n",
        "newFolderCorrida = file_count_corridas + 1\n",
        "\n",
        "!mkdir \"/content/drive/My Drive/Colab/Corridas/Corrida_\" + newFolder\n"
      ],
      "execution_count": 0,
      "outputs": []
    }
  ]
}