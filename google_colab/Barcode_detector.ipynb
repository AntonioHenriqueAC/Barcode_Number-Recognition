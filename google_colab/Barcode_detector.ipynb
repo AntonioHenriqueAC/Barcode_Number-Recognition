{
  "nbformat": 4,
  "nbformat_minor": 0,
  "metadata": {
    "colab": {
      "name": "Barcode_detector.ipynb",
      "provenance": [],
      "collapsed_sections": [],
      "toc_visible": true,
      "include_colab_link": true
    },
    "kernelspec": {
      "name": "python3",
      "display_name": "Python 3"
    },
    "accelerator": "GPU"
  },
  "cells": [
    {
      "cell_type": "markdown",
      "metadata": {
        "id": "view-in-github",
        "colab_type": "text"
      },
      "source": [
        "<a href=\"https://colab.research.google.com/github/AntonioHenriqueAC/tcc/blob/master/google_colab/Barcode_detector.ipynb\" target=\"_parent\"><img src=\"https://colab.research.google.com/assets/colab-badge.svg\" alt=\"Open In Colab\"/></a>"
      ]
    },
    {
      "cell_type": "markdown",
      "metadata": {
        "id": "LggdEb32cFhl",
        "colab_type": "text"
      },
      "source": [
        "# Conectando o drive ao colab #"
      ]
    },
    {
      "cell_type": "code",
      "metadata": {
        "id": "DFUvpxK-Oq7D",
        "colab_type": "code",
        "colab": {}
      },
      "source": [
        "from google.colab import drive\n",
        "drive.mount('/content/drive')"
      ],
      "execution_count": 0,
      "outputs": []
    },
    {
      "cell_type": "markdown",
      "metadata": {
        "id": "wg3hqNG_O2oM",
        "colab_type": "text"
      },
      "source": [
        "# Baixando as bibliotecas necessárias"
      ]
    },
    {
      "cell_type": "code",
      "metadata": {
        "id": "DftpArVvN9SK",
        "colab_type": "code",
        "colab": {}
      },
      "source": [
        "!pip3 install tensorflow-gpu==1.13.1"
      ],
      "execution_count": 0,
      "outputs": []
    },
    {
      "cell_type": "code",
      "metadata": {
        "id": "GMwYHpumOky6",
        "colab_type": "code",
        "colab": {}
      },
      "source": [
        "!pip3 install imageai --upgrade"
      ],
      "execution_count": 0,
      "outputs": []
    },
    {
      "cell_type": "markdown",
      "metadata": {
        "id": "Ed6srdT6aj-D",
        "colab_type": "text"
      },
      "source": [
        "# Treinar novo Modelo !"
      ]
    },
    {
      "cell_type": "markdown",
      "metadata": {
        "id": "uykpeCPPO7Qy",
        "colab_type": "text"
      },
      "source": [
        "## 1. Baixando a CNN pré-treinada ##\n"
      ]
    },
    {
      "cell_type": "code",
      "metadata": {
        "id": "IaUgVcHEOvK4",
        "colab_type": "code",
        "colab": {}
      },
      "source": [
        "!wget https://github.com/OlafenwaMoses/ImageAI/releases/download/essential-v4/pretrained-yolov3.h5"
      ],
      "execution_count": 0,
      "outputs": []
    },
    {
      "cell_type": "markdown",
      "metadata": {
        "colab_type": "text",
        "id": "YSHLvTmscjE_"
      },
      "source": [
        "## 2. Carregando os arquivos do drive no colab ##"
      ]
    },
    {
      "cell_type": "code",
      "metadata": {
        "colab_type": "code",
        "id": "erqyxh9rcoYO",
        "colab": {}
      },
      "source": [
        "!unzip \"/content/drive/My Drive/Colab/datasets/barcode3.zip\""
      ],
      "execution_count": 0,
      "outputs": []
    },
    {
      "cell_type": "markdown",
      "metadata": {
        "id": "LexuMVp5Pb1v",
        "colab_type": "text"
      },
      "source": [
        "## 3. Treinando o modelo ##"
      ]
    },
    {
      "cell_type": "code",
      "metadata": {
        "id": "iqWiwq90OxJ2",
        "colab_type": "code",
        "colab": {}
      },
      "source": [
        "from imageai.Detection.Custom import DetectionModelTrainer\n",
        "\n",
        "trainer = DetectionModelTrainer()\n",
        "trainer.setModelTypeAsYOLOv3()\n",
        "trainer.setDataDirectory(data_directory=\"barcode\")\n",
        "trainer.setTrainConfig(object_names_array=[\"barcode\"], batch_size=4, num_experiments=11, train_from_pretrained_model=\"pretrained-yolov3.h5\")\n",
        "trainer.trainModel()"
      ],
      "execution_count": 0,
      "outputs": []
    },
    {
      "cell_type": "markdown",
      "metadata": {
        "id": "msd0qj_DPh3P",
        "colab_type": "text"
      },
      "source": [
        "## 4. Avaliando os modelos gerados ##"
      ]
    },
    {
      "cell_type": "code",
      "metadata": {
        "id": "1RlpUESXSnfP",
        "colab_type": "code",
        "colab": {}
      },
      "source": [
        "metrics = trainer.evaluateModel(model_path=\"barcode/models\", json_path=\"/content/drive/My Drive/Colab/json/detection_config_barcode.json\", iou_threshold=0.5, object_threshold=0.3, nms_threshold=0.5)"
      ],
      "execution_count": 0,
      "outputs": []
    },
    {
      "cell_type": "markdown",
      "metadata": {
        "id": "2zl70cEqOyL0",
        "colab_type": "text"
      },
      "source": [
        "**Avaliar modelo indivualmente.**"
      ]
    },
    {
      "cell_type": "code",
      "metadata": {
        "id": "jVCEEvdqO2fO",
        "colab_type": "code",
        "colab": {}
      },
      "source": [
        "from imageai.Detection.Custom import DetectionModelTrainer\n",
        "\n",
        "model =\"/content/drive/My Drive/Colab/a/detection_model-ex-013--loss-0001.995.h5\"\n",
        "models= \"barcode/models\"\n",
        "\n",
        "trainer = DetectionModelTrainer()\n",
        "trainer.setModelTypeAsYOLOv3()\n",
        "trainer.setDataDirectory(data_directory=\"barcode\")\n",
        "metrics = trainer.evaluateModel(model_path=models, json_path=\"/content/drive/My Drive/Colab/json/detection_config_barcode.json\", iou_threshold=0.5, object_threshold=0.3, nms_threshold=0.5)"
      ],
      "execution_count": 0,
      "outputs": []
    },
    {
      "cell_type": "markdown",
      "metadata": {
        "colab_type": "text",
        "id": "vrORS3j1LJ5m"
      },
      "source": [
        "# Utilizar modelo já treinado."
      ]
    },
    {
      "cell_type": "markdown",
      "metadata": {
        "id": "_rlvhItUdl5r",
        "colab_type": "text"
      },
      "source": [
        "## 1. Criando as pastas ##"
      ]
    },
    {
      "cell_type": "code",
      "metadata": {
        "id": "Dj95LnTcyrHl",
        "colab_type": "code",
        "colab": {}
      },
      "source": [
        "import os\n",
        "\n",
        "path, dirs, files = next(os.walk(\"/content/drive/My Drive/Colab/Corridas\"))\n",
        "file_count_corridas = len(dirs)\n",
        "print(\"Número de corridas na pasta: \", file_count_corridas - 1)\n",
        "\n",
        "\n",
        "newFolderCorrida = str(file_count_corridas)\n",
        "folderCorrida = \"/content/drive/My\\ Drive/Colab/Corridas/Corrida_\" + newFolderCorrida\n",
        "print(\"..\")\n",
        "print(\"..\")\n",
        "print(\"..\")\n",
        "!mkdir $folderCorrida\n",
        "print(\"Criando pasta 'Corrida_\"+newFolderCorrida+\"'\")\n",
        "\n",
        "folderTagsJson = \"/content/drive/My\\ Drive/Colab/Corridas/Corrida_\" + newFolderCorrida + \"/tags_json\"\n",
        "print(\"..\")\n",
        "print(\"..\")\n",
        "print(\"..\")\n",
        "try:\n",
        "  !mkdir $folderTagsJson\n",
        "  print(\"Criando pasta '/tags_json'\")\n",
        "except:\n",
        "  print(\"Já existe a pasta '/tags_json'\")\n",
        "\n",
        "folderTagsDetected = \"/content/drive/My\\ Drive/Colab/Corridas/Corrida_\" + newFolderCorrida + \"/tags_detected\"\n",
        "print(\"..\")\n",
        "print(\"..\")\n",
        "print(\"..\")\n",
        "try:\n",
        "  !mkdir $folderTagsDetected\n",
        "  print(\"Criando pasta '/tags_detected'\")\n",
        "except:\n",
        "  print(\"Já existe a pasta '/tags_detected'\")\n",
        "\n",
        "print(\"..\")\n",
        "print(\"..\")\n",
        "print(\"..\")\n",
        "try:\n",
        "  !mkdir barcode-detected-objects\n",
        "  print(\"Criando pasta '/barcode-detected-objects'\")\n",
        "except:\n",
        "  print(\"Já existe a pasta '/barcode-detected-objects'\")"
      ],
      "execution_count": 0,
      "outputs": []
    },
    {
      "cell_type": "markdown",
      "metadata": {
        "colab_type": "text",
        "id": "SGJR89WNLLyl"
      },
      "source": [
        "## 2. Setando as variaveis ##\n"
      ]
    },
    {
      "cell_type": "code",
      "metadata": {
        "id": "Ehjz_R1Ixj7a",
        "colab_type": "code",
        "colab": {}
      },
      "source": [
        "modelPath = \"/content/drive/My Drive/Colab/models/barcode/detection_model-ex-013--loss-0001.995.h5\"\n",
        "JsonPath = \"drive/My Drive/Colab/json/detection_config_barcode.json\"\n",
        "\n",
        "Image_Number = newFolderCorrida\n",
        "InputImage = \"drive/My Drive/Colab/Imagens_Originais/img\"+ Image_Number +\".jpg\""
      ],
      "execution_count": 0,
      "outputs": []
    },
    {
      "cell_type": "markdown",
      "metadata": {
        "id": "3OoA0NtvFhtG",
        "colab_type": "text"
      },
      "source": [
        "## 3. Função de interseção sobre união e Função de eliminar quadrados sobrepostos."
      ]
    },
    {
      "cell_type": "code",
      "metadata": {
        "id": "eRVMlsJKBtCn",
        "colab_type": "code",
        "colab": {}
      },
      "source": [
        "def bb_intersection_over_union(boxA, boxB):\n",
        "\t# determine the (x, y)-coordinates of the intersection rectangle\n",
        "\txA = max(boxA[0], boxB[0])\n",
        "\tyA = max(boxA[1], boxB[1])\n",
        "\txB = min(boxA[2], boxB[2])\n",
        "\tyB = min(boxA[3], boxB[3])\n",
        "\t# compute the area of intersection rectangle\n",
        "\tinterArea = max(0, xB - xA + 1) * max(0, yB - yA + 1)\n",
        "\t# compute the area of both the prediction\n",
        "\t# rectangles\n",
        "\tboxAArea = (boxA[2] - boxA[0] + 1) * (boxA[3] - boxA[1] + 1)\n",
        "\tboxBArea = (boxB[2] - boxB[0] + 1) * (boxB[3] - boxB[1] + 1)\n",
        "\t# compute the intersection over union by taking the intersection\n",
        "\t# area and dividing it by the sum of prediction\n",
        "\t# areas - the interesection area\n",
        "\tiou = interArea / float(boxAArea + boxBArea - interArea)\n",
        "\t# return the intersection over union value\n",
        "\treturn iou\n",
        "\n",
        "def boxArea(boxA, boxB):\n",
        "\tboxAArea = (boxA[2] - boxA[0] + 1) * (boxA[3] - boxA[1] + 1)\n",
        "\tboxBArea = (boxB[2] - boxB[0] + 1) * (boxB[3] - boxB[1] + 1)\n",
        "\treturn boxAArea/boxBArea\n",
        "\n",
        "def removeDuplicatesLoop(detections):\n",
        "\ti=0\n",
        "\tk=0\n",
        "\tfor i, detection in enumerate(detections):\n",
        "\t\tfor k, detection in enumerate(detections):\n",
        "\t\t\t\t\tinter = bb_intersection_over_union(detections[i][\"box_points\"] , detections[k][\"box_points\"])\n",
        "\t\t\t\t\tif(inter > float(0.01) and inter < float(1)):\n",
        "\t\t\t\t\t\tif(boxArea(detections[i][\"box_points\"] , detections[k][\"box_points\"]) > 1):\n",
        "\t\t\t\t\t\t\tdetections.pop(k)\n",
        "\t\t\t\t\t\telse:\n",
        "\t\t\t\t\t\t\tdetections.pop(i)\n",
        "\t\t\t\t\t\t\tremoveDuplicatesLoop(detections)"
      ],
      "execution_count": 0,
      "outputs": []
    },
    {
      "cell_type": "markdown",
      "metadata": {
        "id": "y_gJfJgSyLGi",
        "colab_type": "text"
      },
      "source": [
        "## 4. Treinando modelo e recortando os codigos de barras da imagem original ##\n"
      ]
    },
    {
      "cell_type": "code",
      "metadata": {
        "id": "VpWqhmsuw7DR",
        "colab_type": "code",
        "colab": {}
      },
      "source": [
        "from imageai.Detection.Custom import CustomObjectDetection\n",
        "from prettytable import PrettyTable\n",
        "\n",
        "detector = CustomObjectDetection()\n",
        "detector.setModelTypeAsYOLOv3()\n",
        "detector.setModelPath(modelPath)\n",
        "detector.setJsonPath(JsonPath)\n",
        "detector.loadModel()\n",
        "\n",
        "detections = detector.detectObjectsFromImage(input_image = InputImage, \n",
        "                                                           output_image_path=\"barcode-detected-OriginalBoxes.jpg\",\n",
        "                                                           minimum_percentage_probability=30)\n",
        "for e in detections:\n",
        "  e['box_points'][0] = e['box_points'][0] - 50 ## x1\n",
        "  e['box_points'][1] = e['box_points'][1] - 50 ## y1\n",
        "  e['box_points'][2] = e['box_points'][2] + 50 ## x2\n",
        "  e['box_points'][3] = e['box_points'][3] + 50 ## y2\n",
        "\n",
        "removeDuplicatesLoop(detections)\n",
        "\n",
        "header = PrettyTable([\"Nome\", \"Porcentagem \", \"box_points\"])\n",
        "for detection in detections:\n",
        "  header.add_row([detection[\"name\"], detection[\"percentage_probability\"], detection[\"box_points\"]])\n",
        "\n",
        "img = PrettyTable([\"                 Barcodes identificados                 \"])\n",
        "img.add_row([len(detections)])\n",
        "\n",
        "print(\"\")\n",
        "print(\"\")\n",
        "print(header)\n",
        "print(\"\")\n",
        "print(img)\n",
        "print(\"\")"
      ],
      "execution_count": 0,
      "outputs": []
    },
    {
      "cell_type": "markdown",
      "metadata": {
        "id": "1exgO4CtCSyM",
        "colab_type": "text"
      },
      "source": [
        "## 5. Identificando os Bounding Box e recortandando as imagens. "
      ]
    },
    {
      "cell_type": "code",
      "metadata": {
        "id": "AneEx6ffCSBT",
        "colab_type": "code",
        "colab": {}
      },
      "source": [
        "%matplotlib inline\n",
        "import numpy as np\n",
        "import skimage.io\n",
        "import matplotlib.pyplot as plt\n",
        "import skimage.segmentation\n",
        "import cv2\n",
        "\n",
        "Image_with_boxes = \"barcode-detected-OriginalBoxes.jpg\"\n",
        "\n",
        "img = skimage.io.imread(InputImage)\n",
        "bbox = []\n",
        "\n",
        "for e in detections:\n",
        "    bbox.append(e['box_points'])\n",
        "\n",
        "for i, (x1,y1,x2,y2) in enumerate(bbox):\n",
        "\n",
        "    if i in {0,1,2,3,4,5,6,7,8,9}:\n",
        "      i = '00' + str(i)\n",
        "    \n",
        "    if(int(i) > 9 and int(i) < 100):\n",
        "      i = '0' + str(i)\n",
        "\n",
        "    img2 = cv2.rectangle(img, (x1,y1), (x2,y2), (0,255,0), 0)\n",
        "    out = img[y1:y2, x1:x2]\n",
        "\n",
        "    cv2.imwrite('barcode-detected-objects/barcode-00'+str(i)+'.jpg', out)\n",
        "\n",
        "cv2.imwrite('barcode-detected-New.jpg', img)\n",
        "\n",
        "print(\"Boxes recortados com sucesso!\")\n",
        "print(\"..\")\n",
        "print(\"..\")\n",
        "print(\"..\")\n",
        "print(\"Imagem = 'barcode-detected-New.jpg' gerada.\")"
      ],
      "execution_count": 0,
      "outputs": []
    },
    {
      "cell_type": "markdown",
      "metadata": {
        "id": "UBueY6086TP4",
        "colab_type": "text"
      },
      "source": [
        "## 6. Movendo as pastas para o diretório correto. ##\n"
      ]
    },
    {
      "cell_type": "code",
      "metadata": {
        "id": "H_Q4bIO56SVM",
        "colab_type": "code",
        "colab": {}
      },
      "source": [
        "!mv /content/barcode-detected-OriginalBoxes.jpg $folderCorrida\n",
        "!mv /content/barcode-detected-New.jpg $folderCorrida\n",
        "!mv /content/barcode-detected-objects $folderCorrida\n",
        "\n",
        "barcode = \"/content/drive/My\\ Drive/Colab/Corridas/Corrida_\" + newFolderCorrida + \"/barcode-detected-objects\"\n",
        "images = \"/content/drive/My\\ Drive/Colab/Corridas/Corrida_\" + newFolderCorrida + \"/tags_images\"\n",
        "!mv  $barcode $images\n",
        "\n",
        "print(\"Pastas movidas para o drive com sucesso!\")"
      ],
      "execution_count": 0,
      "outputs": []
    }
  ]
}