{
  "nbformat": 4,
  "nbformat_minor": 0,
  "metadata": {
    "colab": {
      "name": "Barcode_detector.ipynb",
      "provenance": [],
      "collapsed_sections": [],
      "toc_visible": true,
      "include_colab_link": true
    },
    "kernelspec": {
      "name": "python3",
      "display_name": "Python 3"
    },
    "accelerator": "GPU"
  },
  "cells": [
    {
      "cell_type": "markdown",
      "metadata": {
        "id": "view-in-github",
        "colab_type": "text"
      },
      "source": [
        "<a href=\"https://colab.research.google.com/github/AntonioHenriqueAC/tcc/blob/master/google_colab/Barcode_detector.ipynb\" target=\"_parent\"><img src=\"https://colab.research.google.com/assets/colab-badge.svg\" alt=\"Open In Colab\"/></a>"
      ]
    },
    {
      "cell_type": "markdown",
      "metadata": {
        "id": "LggdEb32cFhl",
        "colab_type": "text"
      },
      "source": [
        "# Conectando o drive ao colab #"
      ]
    },
    {
      "cell_type": "code",
      "metadata": {
        "id": "DFUvpxK-Oq7D",
        "colab_type": "code",
        "colab": {
          "base_uri": "https://localhost:8080/",
          "height": 124
        },
        "outputId": "66a31644-98cc-4be9-d028-29b189c3163f"
      },
      "source": [
        "from google.colab import drive\n",
        "drive.mount('/content/drive')"
      ],
      "execution_count": 1,
      "outputs": [
        {
          "output_type": "stream",
          "text": [
            "Go to this URL in a browser: https://accounts.google.com/o/oauth2/auth?client_id=947318989803-6bn6qk8qdgf4n4g3pfee6491hc0brc4i.apps.googleusercontent.com&redirect_uri=urn%3aietf%3awg%3aoauth%3a2.0%3aoob&response_type=code&scope=email%20https%3a%2f%2fwww.googleapis.com%2fauth%2fdocs.test%20https%3a%2f%2fwww.googleapis.com%2fauth%2fdrive%20https%3a%2f%2fwww.googleapis.com%2fauth%2fdrive.photos.readonly%20https%3a%2f%2fwww.googleapis.com%2fauth%2fpeopleapi.readonly\n",
            "\n",
            "Enter your authorization code:\n",
            "··········\n",
            "Mounted at /content/drive\n"
          ],
          "name": "stdout"
        }
      ]
    },
    {
      "cell_type": "markdown",
      "metadata": {
        "id": "wg3hqNG_O2oM",
        "colab_type": "text"
      },
      "source": [
        "# Baixando as bibliotecas necessárias"
      ]
    },
    {
      "cell_type": "code",
      "metadata": {
        "id": "DftpArVvN9SK",
        "colab_type": "code",
        "colab": {
          "base_uri": "https://localhost:8080/",
          "height": 0
        },
        "outputId": "55506e88-696e-4828-d128-46b8d460bd2b"
      },
      "source": [
        "!pip3 install tensorflow-gpu==1.13.1"
      ],
      "execution_count": 2,
      "outputs": [
        {
          "output_type": "stream",
          "text": [
            "Collecting tensorflow-gpu==1.13.1\n",
            "\u001b[?25l  Downloading https://files.pythonhosted.org/packages/7b/b1/0ad4ae02e17ddd62109cd54c291e311c4b5fd09b4d0678d3d6ce4159b0f0/tensorflow_gpu-1.13.1-cp36-cp36m-manylinux1_x86_64.whl (345.2MB)\n",
            "\u001b[K     |████████████████████████████████| 345.2MB 48kB/s \n",
            "\u001b[?25hRequirement already satisfied: grpcio>=1.8.6 in /usr/local/lib/python3.6/dist-packages (from tensorflow-gpu==1.13.1) (1.27.2)\n",
            "Collecting tensorflow-estimator<1.14.0rc0,>=1.13.0\n",
            "\u001b[?25l  Downloading https://files.pythonhosted.org/packages/bb/48/13f49fc3fa0fdf916aa1419013bb8f2ad09674c275b4046d5ee669a46873/tensorflow_estimator-1.13.0-py2.py3-none-any.whl (367kB)\n",
            "\u001b[K     |████████████████████████████████| 368kB 33.0MB/s \n",
            "\u001b[?25hRequirement already satisfied: protobuf>=3.6.1 in /usr/local/lib/python3.6/dist-packages (from tensorflow-gpu==1.13.1) (3.10.0)\n",
            "Requirement already satisfied: wheel>=0.26 in /usr/local/lib/python3.6/dist-packages (from tensorflow-gpu==1.13.1) (0.34.2)\n",
            "Requirement already satisfied: astor>=0.6.0 in /usr/local/lib/python3.6/dist-packages (from tensorflow-gpu==1.13.1) (0.8.1)\n",
            "Requirement already satisfied: six>=1.10.0 in /usr/local/lib/python3.6/dist-packages (from tensorflow-gpu==1.13.1) (1.12.0)\n",
            "Requirement already satisfied: termcolor>=1.1.0 in /usr/local/lib/python3.6/dist-packages (from tensorflow-gpu==1.13.1) (1.1.0)\n",
            "Requirement already satisfied: absl-py>=0.1.6 in /usr/local/lib/python3.6/dist-packages (from tensorflow-gpu==1.13.1) (0.9.0)\n",
            "Requirement already satisfied: keras-applications>=1.0.6 in /usr/local/lib/python3.6/dist-packages (from tensorflow-gpu==1.13.1) (1.0.8)\n",
            "Requirement already satisfied: gast>=0.2.0 in /usr/local/lib/python3.6/dist-packages (from tensorflow-gpu==1.13.1) (0.3.3)\n",
            "Collecting tensorboard<1.14.0,>=1.13.0\n",
            "\u001b[?25l  Downloading https://files.pythonhosted.org/packages/0f/39/bdd75b08a6fba41f098b6cb091b9e8c7a80e1b4d679a581a0ccd17b10373/tensorboard-1.13.1-py3-none-any.whl (3.2MB)\n",
            "\u001b[K     |████████████████████████████████| 3.2MB 36.1MB/s \n",
            "\u001b[?25hRequirement already satisfied: numpy>=1.13.3 in /usr/local/lib/python3.6/dist-packages (from tensorflow-gpu==1.13.1) (1.18.2)\n",
            "Requirement already satisfied: keras-preprocessing>=1.0.5 in /usr/local/lib/python3.6/dist-packages (from tensorflow-gpu==1.13.1) (1.1.0)\n",
            "Collecting mock>=2.0.0\n",
            "  Downloading https://files.pythonhosted.org/packages/cd/74/d72daf8dff5b6566db857cfd088907bb0355f5dd2914c4b3ef065c790735/mock-4.0.2-py3-none-any.whl\n",
            "Requirement already satisfied: setuptools in /usr/local/lib/python3.6/dist-packages (from protobuf>=3.6.1->tensorflow-gpu==1.13.1) (46.1.3)\n",
            "Requirement already satisfied: h5py in /usr/local/lib/python3.6/dist-packages (from keras-applications>=1.0.6->tensorflow-gpu==1.13.1) (2.10.0)\n",
            "Requirement already satisfied: werkzeug>=0.11.15 in /usr/local/lib/python3.6/dist-packages (from tensorboard<1.14.0,>=1.13.0->tensorflow-gpu==1.13.1) (1.0.1)\n",
            "Requirement already satisfied: markdown>=2.6.8 in /usr/local/lib/python3.6/dist-packages (from tensorboard<1.14.0,>=1.13.0->tensorflow-gpu==1.13.1) (3.2.1)\n",
            "\u001b[31mERROR: tensorflow 2.2.0rc2 has requirement tensorboard<2.3.0,>=2.2.0, but you'll have tensorboard 1.13.1 which is incompatible.\u001b[0m\n",
            "\u001b[31mERROR: tensorflow 2.2.0rc2 has requirement tensorflow-estimator<2.3.0,>=2.2.0rc0, but you'll have tensorflow-estimator 1.13.0 which is incompatible.\u001b[0m\n",
            "Installing collected packages: mock, tensorflow-estimator, tensorboard, tensorflow-gpu\n",
            "  Found existing installation: tensorflow-estimator 2.2.0rc0\n",
            "    Uninstalling tensorflow-estimator-2.2.0rc0:\n",
            "      Successfully uninstalled tensorflow-estimator-2.2.0rc0\n",
            "  Found existing installation: tensorboard 2.2.0\n",
            "    Uninstalling tensorboard-2.2.0:\n",
            "      Successfully uninstalled tensorboard-2.2.0\n",
            "Successfully installed mock-4.0.2 tensorboard-1.13.1 tensorflow-estimator-1.13.0 tensorflow-gpu-1.13.1\n"
          ],
          "name": "stdout"
        }
      ]
    },
    {
      "cell_type": "code",
      "metadata": {
        "id": "GMwYHpumOky6",
        "colab_type": "code",
        "colab": {
          "base_uri": "https://localhost:8080/",
          "height": 0
        },
        "outputId": "025af897-6639-42e4-873a-04115b5a0dac"
      },
      "source": [
        "!pip3 install imageai --upgrade"
      ],
      "execution_count": 3,
      "outputs": [
        {
          "output_type": "stream",
          "text": [
            "Collecting imageai\n",
            "\u001b[?25l  Downloading https://files.pythonhosted.org/packages/09/99/4023e191a343fb23f01ae02ac57a5ca58037c310e8d8c62f87638a3bafc7/imageai-2.1.5-py3-none-any.whl (180kB)\n",
            "\u001b[K     |████████████████████████████████| 184kB 1.4MB/s \n",
            "\u001b[?25hRequirement already satisfied, skipping upgrade: pillow in /usr/local/lib/python3.6/dist-packages (from imageai) (7.0.0)\n",
            "Requirement already satisfied, skipping upgrade: h5py in /usr/local/lib/python3.6/dist-packages (from imageai) (2.10.0)\n",
            "Requirement already satisfied, skipping upgrade: matplotlib in /usr/local/lib/python3.6/dist-packages (from imageai) (3.2.1)\n",
            "Requirement already satisfied, skipping upgrade: numpy in /usr/local/lib/python3.6/dist-packages (from imageai) (1.18.2)\n",
            "Requirement already satisfied, skipping upgrade: scipy in /usr/local/lib/python3.6/dist-packages (from imageai) (1.4.1)\n",
            "Requirement already satisfied, skipping upgrade: six in /usr/local/lib/python3.6/dist-packages (from h5py->imageai) (1.12.0)\n",
            "Requirement already satisfied, skipping upgrade: python-dateutil>=2.1 in /usr/local/lib/python3.6/dist-packages (from matplotlib->imageai) (2.8.1)\n",
            "Requirement already satisfied, skipping upgrade: pyparsing!=2.0.4,!=2.1.2,!=2.1.6,>=2.0.1 in /usr/local/lib/python3.6/dist-packages (from matplotlib->imageai) (2.4.6)\n",
            "Requirement already satisfied, skipping upgrade: cycler>=0.10 in /usr/local/lib/python3.6/dist-packages (from matplotlib->imageai) (0.10.0)\n",
            "Requirement already satisfied, skipping upgrade: kiwisolver>=1.0.1 in /usr/local/lib/python3.6/dist-packages (from matplotlib->imageai) (1.2.0)\n",
            "Installing collected packages: imageai\n",
            "Successfully installed imageai-2.1.5\n"
          ],
          "name": "stdout"
        }
      ]
    },
    {
      "cell_type": "markdown",
      "metadata": {
        "id": "Ed6srdT6aj-D",
        "colab_type": "text"
      },
      "source": [
        "# Treinar novo Modelo !"
      ]
    },
    {
      "cell_type": "markdown",
      "metadata": {
        "id": "uykpeCPPO7Qy",
        "colab_type": "text"
      },
      "source": [
        "## 1. Baixando a CNN pré-treinada ##\n"
      ]
    },
    {
      "cell_type": "code",
      "metadata": {
        "id": "IaUgVcHEOvK4",
        "colab_type": "code",
        "colab": {}
      },
      "source": [
        "!wget https://github.com/OlafenwaMoses/ImageAI/releases/download/essential-v4/pretrained-yolov3.h5"
      ],
      "execution_count": 0,
      "outputs": []
    },
    {
      "cell_type": "markdown",
      "metadata": {
        "colab_type": "text",
        "id": "YSHLvTmscjE_"
      },
      "source": [
        "## 2. Carregando os arquivos do drive no colab ##"
      ]
    },
    {
      "cell_type": "code",
      "metadata": {
        "colab_type": "code",
        "id": "erqyxh9rcoYO",
        "colab": {}
      },
      "source": [
        "!unzip \"/content/drive/My Drive/Colab/datasets/barcode4.zip\" "
      ],
      "execution_count": 0,
      "outputs": []
    },
    {
      "cell_type": "markdown",
      "metadata": {
        "id": "LexuMVp5Pb1v",
        "colab_type": "text"
      },
      "source": [
        "## 3. Treinando o modelo ##"
      ]
    },
    {
      "cell_type": "code",
      "metadata": {
        "id": "iqWiwq90OxJ2",
        "colab_type": "code",
        "colab": {}
      },
      "source": [
        "from imageai.Detection.Custom import DetectionModelTrainer\n",
        "\n",
        "trainer = DetectionModelTrainer()\n",
        "trainer.setModelTypeAsYOLOv3()\n",
        "trainer.setDataDirectory(data_directory=\"barcode\")\n",
        "trainer.setTrainConfig(object_names_array=[\"barcode\"], batch_size=4, num_experiments=11, train_from_pretrained_model=\"pretrained-yolov3.h5\")\n",
        "trainer.trainModel()"
      ],
      "execution_count": 0,
      "outputs": []
    },
    {
      "cell_type": "markdown",
      "metadata": {
        "id": "msd0qj_DPh3P",
        "colab_type": "text"
      },
      "source": [
        "## 4. Avaliando os modelos gerados ##"
      ]
    },
    {
      "cell_type": "code",
      "metadata": {
        "id": "1RlpUESXSnfP",
        "colab_type": "code",
        "colab": {}
      },
      "source": [
        "metrics = trainer.evaluateModel(model_path=\"barcode/models\", json_path=\"barcode/json/detection_config.json\", iou_threshold=0.5, object_threshold=0.3, nms_threshold=0.5)"
      ],
      "execution_count": 0,
      "outputs": []
    },
    {
      "cell_type": "markdown",
      "metadata": {
        "colab_type": "text",
        "id": "vrORS3j1LJ5m"
      },
      "source": [
        "# Utilizar modelo já treinado."
      ]
    },
    {
      "cell_type": "markdown",
      "metadata": {
        "id": "_rlvhItUdl5r",
        "colab_type": "text"
      },
      "source": [
        "## 1. Criando as pastas ##"
      ]
    },
    {
      "cell_type": "code",
      "metadata": {
        "id": "Dj95LnTcyrHl",
        "colab_type": "code",
        "colab": {}
      },
      "source": [
        "import os\n",
        "\n",
        "path, dirs, files = next(os.walk(\"/content/drive/My Drive/Colab/Corridas\"))\n",
        "file_count_corridas = len(dirs)\n",
        "print(\"Número de corridas na pasta: \", file_count_corridas - 1)\n",
        "\n",
        "\n",
        "newFolderCorrida = str(file_count_corridas)\n",
        "folderCorrida = \"/content/drive/My\\ Drive/Colab/Corridas/Corrida_\" + newFolderCorrida\n",
        "print(\"..\")\n",
        "print(\"..\")\n",
        "print(\"..\")\n",
        "!mkdir $folderCorrida\n",
        "print(\"Criando pastas Corrida_\"+newFolderCorrida)\n",
        "\n",
        "folderTagsJson = \"/content/drive/My\\ Drive/Colab/Corridas/Corrida_\" + newFolderCorrida + \"/tags_json\"\n",
        "print(\"..\")\n",
        "print(\"..\")\n",
        "print(\"..\")\n",
        "try:\n",
        "  !mkdir $folderTagsJson\n",
        "  print(\"Criando pastas /tags_json\")\n",
        "except:\n",
        "  print(\"Já existe a pasta /tags_json\")\n",
        "\n",
        "folderTagsDetected = \"/content/drive/My\\ Drive/Colab/Corridas/Corrida_\" + newFolderCorrida + \"/tags_detected\"\n",
        "print(\"..\")\n",
        "print(\"..\")\n",
        "print(\"..\")\n",
        "try:\n",
        "  !mkdir $folderTagsDetected\n",
        "  print(\"Criando pastas /tags_detected\")\n",
        "except:\n",
        "  print(\"Já existe a pasta /tags_detected\")\n",
        "\n",
        "print(\"..\")\n",
        "print(\"..\")\n",
        "print(\"..\")\n",
        "try:\n",
        "  !mkdir barcode-detected-objects\n",
        "  print(\"Criando pastas /barcode-detected-objects\")\n",
        "except:\n",
        "  print(\"Já existe a pasta /barcode-detected-objects\")"
      ],
      "execution_count": 0,
      "outputs": []
    },
    {
      "cell_type": "markdown",
      "metadata": {
        "colab_type": "text",
        "id": "SGJR89WNLLyl"
      },
      "source": [
        "## 2. Setando as variaveis ##\n"
      ]
    },
    {
      "cell_type": "code",
      "metadata": {
        "id": "Ehjz_R1Ixj7a",
        "colab_type": "code",
        "colab": {}
      },
      "source": [
        "modelPath = \"/content/drive/My Drive/Colab/models/barcode/detection_model-ex-007--loss-0003.066.h5\"\n",
        "JsonPath = \"drive/My Drive/Colab/json/detection_config_barcode.json\"\n",
        "InputImage = \"drive/My Drive/Colab/Imagens_Originais/img10.jpeg\""
      ],
      "execution_count": 0,
      "outputs": []
    },
    {
      "cell_type": "markdown",
      "metadata": {
        "id": "y_gJfJgSyLGi",
        "colab_type": "text"
      },
      "source": [
        "## 3. Treinando modelo e recortando os codigos de barras da imagem original ##\n"
      ]
    },
    {
      "cell_type": "code",
      "metadata": {
        "id": "VpWqhmsuw7DR",
        "colab_type": "code",
        "colab": {}
      },
      "source": [
        "from imageai.Detection.Custom import CustomObjectDetection\n",
        "\n",
        "detector = CustomObjectDetection()\n",
        "detector.setModelTypeAsYOLOv3()\n",
        "detector.setModelPath(modelPath)\n",
        "detector.setJsonPath(JsonPath)\n",
        "detector.loadModel()\n",
        "\n",
        "detections = detector.detectObjectsFromImage(input_image = InputImage, \n",
        "                                                           output_image_path=\"barcode-detected-OriginalBoxes.jpg\",\n",
        "                                                           minimum_percentage_probability=25)\n",
        "\n",
        "def boxPoints(e):\n",
        "  return e['box_points']  \n",
        "detections.sort(key=boxPoints)\n",
        "\n",
        "for e in detections:\n",
        "  e['box_points'][0] = e['box_points'][0] - 28 ## x1\n",
        "  e['box_points'][1] = e['box_points'][1] - 55 ## y1\n",
        "  e['box_points'][2] = e['box_points'][2] + 30 ## x2\n",
        "  e['box_points'][3] = e['box_points'][3] + 50 ## y2\n",
        "\n",
        "print(\"Número       \" , \": \", \"Porcentagem \", \"      :    \", \"box_points\")\n",
        "print(\"----------------------------------------------------------------\")\n",
        "\n",
        "print(\"\")\n",
        "\n",
        "for detection in detections:\n",
        "    print(detection[\"name\"], \"      : \", detection[\"percentage_probability\"], \" : \", detection[\"box_points\"])\n",
        "\n",
        "\n",
        "print(\"----------------------------------------------------------------\")\n",
        "print(\"Quantidade de código de barras detectados na imagem: \", len(detections))"
      ],
      "execution_count": 0,
      "outputs": []
    },
    {
      "cell_type": "markdown",
      "metadata": {
        "id": "1exgO4CtCSyM",
        "colab_type": "text"
      },
      "source": [
        "## 4. Identificando os Bounding Box e recortandando as imagens. "
      ]
    },
    {
      "cell_type": "code",
      "metadata": {
        "id": "AneEx6ffCSBT",
        "colab_type": "code",
        "colab": {}
      },
      "source": [
        "%matplotlib inline\n",
        "import numpy as np\n",
        "import skimage.io\n",
        "import matplotlib.pyplot as plt\n",
        "import skimage.segmentation\n",
        "import cv2\n",
        "\n",
        "img = skimage.io.imread(InputImage)\n",
        "bbox = []\n",
        "\n",
        "for e in detections:\n",
        "    bbox.append(e['box_points'])\n",
        "\n",
        "for i, (x1,y1,x2,y2) in enumerate(bbox):\n",
        "\n",
        "    if i in {0,1,2,3,4,5,6,7,8,9}:\n",
        "      i = '00' + str(i)\n",
        "    \n",
        "    if(int(i) > 9 and int(i) < 100):\n",
        "      i = '0' + str(i)\n",
        "\n",
        "    img2 = cv2.rectangle(img, (x1,y1), (x2,y2), (0,255,0), 0)\n",
        "    out = img[y1:y2, x1:x2]\n",
        "\n",
        "    cv2.imwrite('barcode-detected-objects/barcode-00'+str(i)+'.jpg', out)\n",
        "\n",
        "cv2.imwrite('barcode-detected-New.jpg', img)\n",
        "\n",
        "print(\"Boxes recortados com sucesso!\")"
      ],
      "execution_count": 0,
      "outputs": []
    },
    {
      "cell_type": "markdown",
      "metadata": {
        "id": "vGGoaT-Y4hxq",
        "colab_type": "text"
      },
      "source": [
        "**Visualizando nova a imagem gerada a partir das novas Bounding Boxes.**"
      ]
    },
    {
      "cell_type": "code",
      "metadata": {
        "id": "2S46QSPm3qd3",
        "colab_type": "code",
        "colab": {}
      },
      "source": [
        "from google.colab.patches import cv2_imshow\n",
        "cv2_imshow(img)"
      ],
      "execution_count": 0,
      "outputs": []
    },
    {
      "cell_type": "markdown",
      "metadata": {
        "id": "UBueY6086TP4",
        "colab_type": "text"
      },
      "source": [
        "## 4. Movendo as pastas para o diretório correto. ##\n"
      ]
    },
    {
      "cell_type": "code",
      "metadata": {
        "id": "H_Q4bIO56SVM",
        "colab_type": "code",
        "colab": {}
      },
      "source": [
        "!mv /content/barcode-detected-OriginalBoxes.jpg $folderCorrida\n",
        "!mv /content/barcode-detected-New.jpg $folderCorrida\n",
        "!mv /content/barcode-detected-objects $folderCorrida\n",
        "\n",
        "barcode = \"/content/drive/My\\ Drive/Colab/Corridas/Corrida_\" + newFolderCorrida + \"/barcode-detected-objects\"\n",
        "images = \"/content/drive/My\\ Drive/Colab/Corridas/Corrida_\" + newFolderCorrida + \"/tags_images\"\n",
        "!mv  $barcode $images\n",
        "\n",
        "print(\"Pastas movidas para o drive com sucesso!\")"
      ],
      "execution_count": 0,
      "outputs": []
    }
  ]
}