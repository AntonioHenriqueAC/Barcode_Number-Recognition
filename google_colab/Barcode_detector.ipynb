{
  "nbformat": 4,
  "nbformat_minor": 0,
  "metadata": {
    "colab": {
      "name": "Barcode_detector.ipynb",
      "provenance": [],
      "collapsed_sections": [],
      "toc_visible": true,
      "include_colab_link": true
    },
    "kernelspec": {
      "name": "python3",
      "display_name": "Python 3"
    },
    "accelerator": "GPU"
  },
  "cells": [
    {
      "cell_type": "markdown",
      "metadata": {
        "id": "view-in-github",
        "colab_type": "text"
      },
      "source": [
        "<a href=\"https://colab.research.google.com/github/AntonioHenriqueAC/tcc/blob/master/google_colab/Barcode_detector.ipynb\" target=\"_parent\"><img src=\"https://colab.research.google.com/assets/colab-badge.svg\" alt=\"Open In Colab\"/></a>"
      ]
    },
    {
      "cell_type": "markdown",
      "metadata": {
        "id": "LggdEb32cFhl",
        "colab_type": "text"
      },
      "source": [
        "# Conectando o drive ao colab #"
      ]
    },
    {
      "cell_type": "code",
      "metadata": {
        "id": "DFUvpxK-Oq7D",
        "colab_type": "code",
        "colab": {
          "base_uri": "https://localhost:8080/",
          "height": 124
        },
        "outputId": "0cc1bd43-ed42-4a16-d16d-b392f83ac325"
      },
      "source": [
        "from google.colab import drive\n",
        "drive.mount('/content/drive')"
      ],
      "execution_count": 1,
      "outputs": [
        {
          "output_type": "stream",
          "text": [
            "Go to this URL in a browser: https://accounts.google.com/o/oauth2/auth?client_id=947318989803-6bn6qk8qdgf4n4g3pfee6491hc0brc4i.apps.googleusercontent.com&redirect_uri=urn%3aietf%3awg%3aoauth%3a2.0%3aoob&response_type=code&scope=email%20https%3a%2f%2fwww.googleapis.com%2fauth%2fdocs.test%20https%3a%2f%2fwww.googleapis.com%2fauth%2fdrive%20https%3a%2f%2fwww.googleapis.com%2fauth%2fdrive.photos.readonly%20https%3a%2f%2fwww.googleapis.com%2fauth%2fpeopleapi.readonly\n",
            "\n",
            "Enter your authorization code:\n",
            "··········\n",
            "Mounted at /content/drive\n"
          ],
          "name": "stdout"
        }
      ]
    },
    {
      "cell_type": "markdown",
      "metadata": {
        "id": "wg3hqNG_O2oM",
        "colab_type": "text"
      },
      "source": [
        "# Baixando as bibliotecas necessárias"
      ]
    },
    {
      "cell_type": "code",
      "metadata": {
        "id": "DftpArVvN9SK",
        "colab_type": "code",
        "colab": {
          "base_uri": "https://localhost:8080/",
          "height": 0
        },
        "outputId": "8fa0354a-e18e-4f2c-d2b1-4d56e3759524"
      },
      "source": [
        "!pip3 install tensorflow-gpu==1.13.1"
      ],
      "execution_count": 2,
      "outputs": [
        {
          "output_type": "stream",
          "text": [
            "Collecting tensorflow-gpu==1.13.1\n",
            "\u001b[?25l  Downloading https://files.pythonhosted.org/packages/7b/b1/0ad4ae02e17ddd62109cd54c291e311c4b5fd09b4d0678d3d6ce4159b0f0/tensorflow_gpu-1.13.1-cp36-cp36m-manylinux1_x86_64.whl (345.2MB)\n",
            "\u001b[K     |████████████████████████████████| 345.2MB 48kB/s \n",
            "\u001b[?25hRequirement already satisfied: astor>=0.6.0 in /usr/local/lib/python3.6/dist-packages (from tensorflow-gpu==1.13.1) (0.8.1)\n",
            "Collecting tensorflow-estimator<1.14.0rc0,>=1.13.0\n",
            "\u001b[?25l  Downloading https://files.pythonhosted.org/packages/bb/48/13f49fc3fa0fdf916aa1419013bb8f2ad09674c275b4046d5ee669a46873/tensorflow_estimator-1.13.0-py2.py3-none-any.whl (367kB)\n",
            "\u001b[K     |████████████████████████████████| 368kB 31.4MB/s \n",
            "\u001b[?25hRequirement already satisfied: absl-py>=0.1.6 in /usr/local/lib/python3.6/dist-packages (from tensorflow-gpu==1.13.1) (0.9.0)\n",
            "Requirement already satisfied: protobuf>=3.6.1 in /usr/local/lib/python3.6/dist-packages (from tensorflow-gpu==1.13.1) (3.10.0)\n",
            "Requirement already satisfied: numpy>=1.13.3 in /usr/local/lib/python3.6/dist-packages (from tensorflow-gpu==1.13.1) (1.18.2)\n",
            "Requirement already satisfied: six>=1.10.0 in /usr/local/lib/python3.6/dist-packages (from tensorflow-gpu==1.13.1) (1.12.0)\n",
            "Requirement already satisfied: wheel>=0.26 in /usr/local/lib/python3.6/dist-packages (from tensorflow-gpu==1.13.1) (0.34.2)\n",
            "Requirement already satisfied: keras-preprocessing>=1.0.5 in /usr/local/lib/python3.6/dist-packages (from tensorflow-gpu==1.13.1) (1.1.0)\n",
            "Requirement already satisfied: gast>=0.2.0 in /usr/local/lib/python3.6/dist-packages (from tensorflow-gpu==1.13.1) (0.3.3)\n",
            "Collecting tensorboard<1.14.0,>=1.13.0\n",
            "\u001b[?25l  Downloading https://files.pythonhosted.org/packages/0f/39/bdd75b08a6fba41f098b6cb091b9e8c7a80e1b4d679a581a0ccd17b10373/tensorboard-1.13.1-py3-none-any.whl (3.2MB)\n",
            "\u001b[K     |████████████████████████████████| 3.2MB 48.8MB/s \n",
            "\u001b[?25hRequirement already satisfied: keras-applications>=1.0.6 in /usr/local/lib/python3.6/dist-packages (from tensorflow-gpu==1.13.1) (1.0.8)\n",
            "Requirement already satisfied: termcolor>=1.1.0 in /usr/local/lib/python3.6/dist-packages (from tensorflow-gpu==1.13.1) (1.1.0)\n",
            "Requirement already satisfied: grpcio>=1.8.6 in /usr/local/lib/python3.6/dist-packages (from tensorflow-gpu==1.13.1) (1.27.2)\n",
            "Collecting mock>=2.0.0\n",
            "  Downloading https://files.pythonhosted.org/packages/cd/74/d72daf8dff5b6566db857cfd088907bb0355f5dd2914c4b3ef065c790735/mock-4.0.2-py3-none-any.whl\n",
            "Requirement already satisfied: setuptools in /usr/local/lib/python3.6/dist-packages (from protobuf>=3.6.1->tensorflow-gpu==1.13.1) (46.1.3)\n",
            "Requirement already satisfied: werkzeug>=0.11.15 in /usr/local/lib/python3.6/dist-packages (from tensorboard<1.14.0,>=1.13.0->tensorflow-gpu==1.13.1) (1.0.1)\n",
            "Requirement already satisfied: markdown>=2.6.8 in /usr/local/lib/python3.6/dist-packages (from tensorboard<1.14.0,>=1.13.0->tensorflow-gpu==1.13.1) (3.2.1)\n",
            "Requirement already satisfied: h5py in /usr/local/lib/python3.6/dist-packages (from keras-applications>=1.0.6->tensorflow-gpu==1.13.1) (2.10.0)\n",
            "\u001b[31mERROR: tensorflow 2.2.0rc2 has requirement tensorboard<2.3.0,>=2.2.0, but you'll have tensorboard 1.13.1 which is incompatible.\u001b[0m\n",
            "\u001b[31mERROR: tensorflow 2.2.0rc2 has requirement tensorflow-estimator<2.3.0,>=2.2.0rc0, but you'll have tensorflow-estimator 1.13.0 which is incompatible.\u001b[0m\n",
            "Installing collected packages: mock, tensorflow-estimator, tensorboard, tensorflow-gpu\n",
            "  Found existing installation: tensorflow-estimator 2.2.0rc0\n",
            "    Uninstalling tensorflow-estimator-2.2.0rc0:\n",
            "      Successfully uninstalled tensorflow-estimator-2.2.0rc0\n",
            "  Found existing installation: tensorboard 2.2.0\n",
            "    Uninstalling tensorboard-2.2.0:\n",
            "      Successfully uninstalled tensorboard-2.2.0\n",
            "Successfully installed mock-4.0.2 tensorboard-1.13.1 tensorflow-estimator-1.13.0 tensorflow-gpu-1.13.1\n"
          ],
          "name": "stdout"
        }
      ]
    },
    {
      "cell_type": "code",
      "metadata": {
        "id": "GMwYHpumOky6",
        "colab_type": "code",
        "colab": {
          "base_uri": "https://localhost:8080/",
          "height": 0
        },
        "outputId": "a7451aed-cfbc-4047-d7e7-7e6d586e3e96"
      },
      "source": [
        "!pip3 install imageai --upgrade"
      ],
      "execution_count": 3,
      "outputs": [
        {
          "output_type": "stream",
          "text": [
            "Collecting imageai\n",
            "\u001b[?25l  Downloading https://files.pythonhosted.org/packages/09/99/4023e191a343fb23f01ae02ac57a5ca58037c310e8d8c62f87638a3bafc7/imageai-2.1.5-py3-none-any.whl (180kB)\n",
            "\r\u001b[K     |█▉                              | 10kB 21.8MB/s eta 0:00:01\r\u001b[K     |███▋                            | 20kB 25.3MB/s eta 0:00:01\r\u001b[K     |█████▍                          | 30kB 28.8MB/s eta 0:00:01\r\u001b[K     |███████▎                        | 40kB 32.3MB/s eta 0:00:01\r\u001b[K     |█████████                       | 51kB 34.2MB/s eta 0:00:01\r\u001b[K     |██████████▉                     | 61kB 36.1MB/s eta 0:00:01\r\u001b[K     |████████████▊                   | 71kB 36.4MB/s eta 0:00:01\r\u001b[K     |██████████████▌                 | 81kB 37.3MB/s eta 0:00:01\r\u001b[K     |████████████████▎               | 92kB 38.8MB/s eta 0:00:01\r\u001b[K     |██████████████████▏             | 102kB 39.8MB/s eta 0:00:01\r\u001b[K     |████████████████████            | 112kB 39.8MB/s eta 0:00:01\r\u001b[K     |█████████████████████▊          | 122kB 39.8MB/s eta 0:00:01\r\u001b[K     |███████████████████████▋        | 133kB 39.8MB/s eta 0:00:01\r\u001b[K     |█████████████████████████▍      | 143kB 39.8MB/s eta 0:00:01\r\u001b[K     |███████████████████████████▏    | 153kB 39.8MB/s eta 0:00:01\r\u001b[K     |█████████████████████████████   | 163kB 39.8MB/s eta 0:00:01\r\u001b[K     |██████████████████████████████▉ | 174kB 39.8MB/s eta 0:00:01\r\u001b[K     |████████████████████████████████| 184kB 39.8MB/s \n",
            "\u001b[?25hRequirement already satisfied, skipping upgrade: pillow in /usr/local/lib/python3.6/dist-packages (from imageai) (7.0.0)\n",
            "Requirement already satisfied, skipping upgrade: h5py in /usr/local/lib/python3.6/dist-packages (from imageai) (2.10.0)\n",
            "Requirement already satisfied, skipping upgrade: numpy in /usr/local/lib/python3.6/dist-packages (from imageai) (1.18.2)\n",
            "Requirement already satisfied, skipping upgrade: scipy in /usr/local/lib/python3.6/dist-packages (from imageai) (1.4.1)\n",
            "Requirement already satisfied, skipping upgrade: matplotlib in /usr/local/lib/python3.6/dist-packages (from imageai) (3.2.1)\n",
            "Requirement already satisfied, skipping upgrade: six in /usr/local/lib/python3.6/dist-packages (from h5py->imageai) (1.12.0)\n",
            "Requirement already satisfied, skipping upgrade: pyparsing!=2.0.4,!=2.1.2,!=2.1.6,>=2.0.1 in /usr/local/lib/python3.6/dist-packages (from matplotlib->imageai) (2.4.6)\n",
            "Requirement already satisfied, skipping upgrade: cycler>=0.10 in /usr/local/lib/python3.6/dist-packages (from matplotlib->imageai) (0.10.0)\n",
            "Requirement already satisfied, skipping upgrade: kiwisolver>=1.0.1 in /usr/local/lib/python3.6/dist-packages (from matplotlib->imageai) (1.2.0)\n",
            "Requirement already satisfied, skipping upgrade: python-dateutil>=2.1 in /usr/local/lib/python3.6/dist-packages (from matplotlib->imageai) (2.8.1)\n",
            "Installing collected packages: imageai\n",
            "Successfully installed imageai-2.1.5\n"
          ],
          "name": "stdout"
        }
      ]
    },
    {
      "cell_type": "markdown",
      "metadata": {
        "id": "Ed6srdT6aj-D",
        "colab_type": "text"
      },
      "source": [
        "# Treinar novo Modelo !"
      ]
    },
    {
      "cell_type": "markdown",
      "metadata": {
        "id": "uykpeCPPO7Qy",
        "colab_type": "text"
      },
      "source": [
        "## 1. Baixando a CNN pré-treinada ##\n"
      ]
    },
    {
      "cell_type": "code",
      "metadata": {
        "id": "IaUgVcHEOvK4",
        "colab_type": "code",
        "colab": {}
      },
      "source": [
        "!wget https://github.com/OlafenwaMoses/ImageAI/releases/download/essential-v4/pretrained-yolov3.h5"
      ],
      "execution_count": 0,
      "outputs": []
    },
    {
      "cell_type": "markdown",
      "metadata": {
        "colab_type": "text",
        "id": "YSHLvTmscjE_"
      },
      "source": [
        "## 2. Carregando os arquivos do drive no colab ##"
      ]
    },
    {
      "cell_type": "code",
      "metadata": {
        "colab_type": "code",
        "id": "erqyxh9rcoYO",
        "colab": {}
      },
      "source": [
        "!unzip \"/content/drive/My Drive/Colab/datasets/barcode4.zip\" "
      ],
      "execution_count": 0,
      "outputs": []
    },
    {
      "cell_type": "markdown",
      "metadata": {
        "id": "LexuMVp5Pb1v",
        "colab_type": "text"
      },
      "source": [
        "## 3. Treinando o modelo ##"
      ]
    },
    {
      "cell_type": "code",
      "metadata": {
        "id": "iqWiwq90OxJ2",
        "colab_type": "code",
        "colab": {}
      },
      "source": [
        "from imageai.Detection.Custom import DetectionModelTrainer\n",
        "\n",
        "trainer = DetectionModelTrainer()\n",
        "trainer.setModelTypeAsYOLOv3()\n",
        "trainer.setDataDirectory(data_directory=\"barcode\")\n",
        "trainer.setTrainConfig(object_names_array=[\"barcode\"], batch_size=4, num_experiments=11, train_from_pretrained_model=\"pretrained-yolov3.h5\")\n",
        "trainer.trainModel()"
      ],
      "execution_count": 0,
      "outputs": []
    },
    {
      "cell_type": "markdown",
      "metadata": {
        "id": "msd0qj_DPh3P",
        "colab_type": "text"
      },
      "source": [
        "## 4. Avaliando os modelos gerados ##"
      ]
    },
    {
      "cell_type": "code",
      "metadata": {
        "id": "1RlpUESXSnfP",
        "colab_type": "code",
        "colab": {}
      },
      "source": [
        "metrics = trainer.evaluateModel(model_path=\"barcode/models\", json_path=\"barcode/json/detection_config.json\", iou_threshold=0.5, object_threshold=0.3, nms_threshold=0.5)"
      ],
      "execution_count": 0,
      "outputs": []
    },
    {
      "cell_type": "markdown",
      "metadata": {
        "colab_type": "text",
        "id": "vrORS3j1LJ5m"
      },
      "source": [
        "# Utilizar modelo já treinado."
      ]
    },
    {
      "cell_type": "markdown",
      "metadata": {
        "id": "_rlvhItUdl5r",
        "colab_type": "text"
      },
      "source": [
        "## 1. Criando as pastas ##"
      ]
    },
    {
      "cell_type": "code",
      "metadata": {
        "id": "Dj95LnTcyrHl",
        "colab_type": "code",
        "colab": {
          "base_uri": "https://localhost:8080/",
          "height": 242
        },
        "outputId": "12ef52d0-d481-4c83-b1e5-cbf25587c266"
      },
      "source": [
        "import os\n",
        "\n",
        "path, dirs, files = next(os.walk(\"/content/drive/My Drive/Colab/Corridas\"))\n",
        "file_count_corridas = len(dirs)\n",
        "print(\"Número de corridas na pasta: \", file_count_corridas - 1)\n",
        "\n",
        "\n",
        "newFolderCorrida = str(file_count_corridas)\n",
        "folderCorrida = \"/content/drive/My\\ Drive/Colab/Corridas/Corrida_\" + newFolderCorrida\n",
        "!mkdir $folderCorrida\n",
        "print(\"..\")\n",
        "print(\"..\")\n",
        "print(\"..\")\n",
        "print(\"Criando pastas Corrida_\"+newFolderCorrida)\n",
        "\n",
        "folderTagsJson = \"/content/drive/My\\ Drive/Colab/Corridas/Corrida_\" + newFolderCorrida + \"/tags_json\"\n",
        "!mkdir $folderTagsJson\n",
        "print(\"..\")\n",
        "print(\"..\")\n",
        "print(\"..\")\n",
        "print(\"Criando pastas /tags_json\")\n",
        "\n",
        "folderTagsDetected = \"/content/drive/My\\ Drive/Colab/Corridas/Corrida_\" + newFolderCorrida + \"/tags_detected\"\n",
        "!mkdir $folderTagsDetected\n",
        "print(\"..\")\n",
        "print(\"..\")\n",
        "print(\"..\")\n",
        "print(\"Criando pastas /tags_detected\")"
      ],
      "execution_count": 4,
      "outputs": [
        {
          "output_type": "stream",
          "text": [
            "Número de corridas na pasta:  4\n",
            "..\n",
            "..\n",
            "..\n",
            "Criando pastas Corrida_5\n",
            "..\n",
            "..\n",
            "..\n",
            "Criando pastas /tags_json\n",
            "..\n",
            "..\n",
            "..\n",
            "Criando pastas /tags_detected\n"
          ],
          "name": "stdout"
        }
      ]
    },
    {
      "cell_type": "markdown",
      "metadata": {
        "colab_type": "text",
        "id": "SGJR89WNLLyl"
      },
      "source": [
        "## 2. Setando as variaveis ##\n"
      ]
    },
    {
      "cell_type": "code",
      "metadata": {
        "id": "Ehjz_R1Ixj7a",
        "colab_type": "code",
        "colab": {}
      },
      "source": [
        "modelPath = \"/content/drive/My Drive/Colab/models/barcode/detection_model-ex-007--loss-0003.066.h5\"\n",
        "JsonPath = \"drive/My Drive/Colab/json/detection_config_barcode.json\"\n",
        "InputImage = \"drive/My Drive/Colab/Imagens_Originais/img1.jpg\""
      ],
      "execution_count": 0,
      "outputs": []
    },
    {
      "cell_type": "markdown",
      "metadata": {
        "id": "y_gJfJgSyLGi",
        "colab_type": "text"
      },
      "source": [
        "## 3. Treinando modelo e recortando os codigos de barras da imagem original ##\n"
      ]
    },
    {
      "cell_type": "code",
      "metadata": {
        "id": "VpWqhmsuw7DR",
        "colab_type": "code",
        "colab": {
          "base_uri": "https://localhost:8080/",
          "height": 1000
        },
        "outputId": "c7c4dff8-7d12-4972-9e9e-7bf1885d3aab"
      },
      "source": [
        "from imageai.Detection.Custom import CustomObjectDetection\n",
        "\n",
        "detector = CustomObjectDetection()\n",
        "detector.setModelTypeAsYOLOv3()\n",
        "detector.setModelPath(modelPath)\n",
        "detector.setJsonPath(JsonPath)\n",
        "detector.loadModel()\n",
        "\n",
        "detections, extracted_objects_array = detector.detectObjectsFromImage(input_image = InputImage, \n",
        "                                                                      output_image_path=\"barcode-detected.jpg\",\n",
        "                                                                      minimum_percentage_probability=30,\n",
        "                                                                      extract_detected_objects=True)\n",
        "\n",
        "print(\"Número       \" , \": \", \"Porcentagem \", \"      :    \", \"box_points\")\n",
        "print(\"----------------------------------------------------------------\")\n",
        "\n",
        "print(\"\")\n",
        "\n",
        "for detection, object_path in zip(detections, extracted_objects_array):\n",
        "    print(detection[\"name\"], \"      : \", detection[\"percentage_probability\"], \" : \", detection[\"box_points\"])\n",
        "\n",
        "\n",
        "print(\"----------------------------------------------------------------\")\n",
        "print(\"Quantidade de código de barras detectados na imagem: \", len(detections))"
      ],
      "execution_count": 6,
      "outputs": [
        {
          "output_type": "stream",
          "text": [
            "Using TensorFlow backend.\n",
            "/usr/local/lib/python3.6/dist-packages/tensorflow/python/framework/dtypes.py:526: FutureWarning: Passing (type, 1) or '1type' as a synonym of type is deprecated; in a future version of numpy, it will be understood as (type, (1,)) / '(1,)type'.\n",
            "  _np_qint8 = np.dtype([(\"qint8\", np.int8, 1)])\n",
            "/usr/local/lib/python3.6/dist-packages/tensorflow/python/framework/dtypes.py:527: FutureWarning: Passing (type, 1) or '1type' as a synonym of type is deprecated; in a future version of numpy, it will be understood as (type, (1,)) / '(1,)type'.\n",
            "  _np_quint8 = np.dtype([(\"quint8\", np.uint8, 1)])\n",
            "/usr/local/lib/python3.6/dist-packages/tensorflow/python/framework/dtypes.py:528: FutureWarning: Passing (type, 1) or '1type' as a synonym of type is deprecated; in a future version of numpy, it will be understood as (type, (1,)) / '(1,)type'.\n",
            "  _np_qint16 = np.dtype([(\"qint16\", np.int16, 1)])\n",
            "/usr/local/lib/python3.6/dist-packages/tensorflow/python/framework/dtypes.py:529: FutureWarning: Passing (type, 1) or '1type' as a synonym of type is deprecated; in a future version of numpy, it will be understood as (type, (1,)) / '(1,)type'.\n",
            "  _np_quint16 = np.dtype([(\"quint16\", np.uint16, 1)])\n",
            "/usr/local/lib/python3.6/dist-packages/tensorflow/python/framework/dtypes.py:530: FutureWarning: Passing (type, 1) or '1type' as a synonym of type is deprecated; in a future version of numpy, it will be understood as (type, (1,)) / '(1,)type'.\n",
            "  _np_qint32 = np.dtype([(\"qint32\", np.int32, 1)])\n",
            "/usr/local/lib/python3.6/dist-packages/tensorflow/python/framework/dtypes.py:535: FutureWarning: Passing (type, 1) or '1type' as a synonym of type is deprecated; in a future version of numpy, it will be understood as (type, (1,)) / '(1,)type'.\n",
            "  np_resource = np.dtype([(\"resource\", np.ubyte, 1)])\n"
          ],
          "name": "stderr"
        },
        {
          "output_type": "display_data",
          "data": {
            "text/html": [
              "<p style=\"color: red;\">\n",
              "The default version of TensorFlow in Colab will switch to TensorFlow 2.x on the 27th of March, 2020.<br>\n",
              "We recommend you <a href=\"https://www.tensorflow.org/guide/migrate\" target=\"_blank\">upgrade</a> now\n",
              "or ensure your notebook will continue to use TensorFlow 1.x via the <code>%tensorflow_version 1.x</code> magic:\n",
              "<a href=\"https://colab.research.google.com/notebooks/tensorflow_version.ipynb\" target=\"_blank\">more info</a>.</p>\n"
            ],
            "text/plain": [
              "<IPython.core.display.HTML object>"
            ]
          },
          "metadata": {
            "tags": []
          }
        },
        {
          "output_type": "stream",
          "text": [
            "WARNING:tensorflow:From /usr/local/lib/python3.6/dist-packages/tensorflow/python/framework/op_def_library.py:263: colocate_with (from tensorflow.python.framework.ops) is deprecated and will be removed in a future version.\n",
            "Instructions for updating:\n",
            "Colocations handled automatically by placer.\n",
            "Número        :  Porcentagem        :     box_points\n",
            "----------------------------------------------------------------\n",
            "\n",
            "barcode       :  57.23978877067566  :  [3378, 633, 3605, 770]\n",
            "barcode       :  34.14755165576935  :  [2218, 1108, 2474, 1205]\n",
            "barcode       :  31.595543026924133  :  [2172, 996, 2480, 1276]\n",
            "barcode       :  45.35054564476013  :  [2629, 1005, 2882, 1228]\n",
            "barcode       :  31.375962495803833  :  [3389, 1010, 3637, 1204]\n",
            "barcode       :  56.83613419532776  :  [984, 1414, 1274, 1632]\n",
            "barcode       :  49.271160364151  :  [1435, 1395, 1706, 1647]\n",
            "barcode       :  41.60623550415039  :  [2618, 1383, 2881, 1604]\n",
            "barcode       :  30.831488966941833  :  [2934, 1403, 3197, 1629]\n",
            "barcode       :  46.148401498794556  :  [3417, 1445, 3628, 1551]\n",
            "barcode       :  52.50357389450073  :  [3389, 1370, 3639, 1614]\n",
            "barcode       :  37.52295672893524  :  [122, 1567, 339, 1720]\n",
            "barcode       :  40.25477468967438  :  [261, 1798, 510, 2024]\n",
            "barcode       :  40.55114686489105  :  [2175, 1784, 2464, 2025]\n",
            "barcode       :  32.51529335975647  :  [2600, 1847, 2860, 1934]\n",
            "barcode       :  41.88946485519409  :  [2980, 1843, 3169, 1952]\n",
            "barcode       :  42.86460876464844  :  [2941, 1778, 3180, 2007]\n",
            "barcode       :  34.52337682247162  :  [3362, 1847, 3601, 1952]\n",
            "barcode       :  45.45605182647705  :  [3365, 1787, 3647, 2007]\n",
            "barcode       :  31.692978739738464  :  [681, 2184, 942, 2430]\n",
            "barcode       :  50.660908222198486  :  [1009, 2186, 1242, 2412]\n",
            "barcode       :  35.636451840400696  :  [1755, 2187, 1987, 2417]\n",
            "barcode       :  50.96086859703064  :  [2504, 2190, 2737, 2408]\n",
            "barcode       :  56.6206157207489  :  [3276, 2209, 3474, 2359]\n",
            "barcode       :  40.63551127910614  :  [2794, 2563, 3031, 2795]\n",
            "barcode       :  35.58168411254883  :  [3081, 2752, 3342, 3018]\n",
            "barcode       :  30.62179386615753  :  [3142, 3427, 3292, 3551]\n",
            "barcode       :  34.74249243736267  :  [3354, 713, 3574, 793]\n",
            "barcode       :  41.4524108171463  :  [2592, 1130, 2845, 1232]\n",
            "barcode       :  38.4555846452713  :  [2643, 1095, 2808, 1193]\n",
            "barcode       :  30.011728405952454  :  [374, 1210, 550, 1325]\n",
            "barcode       :  32.84485638141632  :  [751, 1179, 914, 1327]\n",
            "barcode       :  58.12302827835083  :  [1487, 1184, 1730, 1288]\n",
            "barcode       :  50.84943175315857  :  [1835, 1207, 2095, 1302]\n",
            "barcode       :  42.425066232681274  :  [3070, 1166, 3234, 1271]\n",
            "barcode       :  43.83792281150818  :  [3398, 1176, 3535, 1287]\n",
            "barcode       :  39.746177196502686  :  [1048, 1510, 1223, 1608]\n",
            "barcode       :  36.9271844625473  :  [1499, 1502, 1665, 1604]\n",
            "barcode       :  31.540265679359436  :  [1756, 1546, 2047, 1604]\n",
            "barcode       :  47.75591790676117  :  [1843, 1485, 1988, 1603]\n",
            "barcode       :  50.42446255683899  :  [2626, 1470, 2792, 1603]\n",
            "barcode       :  31.180188059806824  :  [3002, 1505, 3147, 1610]\n",
            "barcode       :  35.6224000453949  :  [599, 1573, 777, 1705]\n",
            "barcode       :  42.709580063819885  :  [1077, 1558, 1207, 1661]\n",
            "barcode       :  40.77636003494263  :  [1505, 1558, 1669, 1659]\n",
            "barcode       :  43.13142001628876  :  [2249, 1572, 2411, 1680]\n",
            "barcode       :  42.103877663612366  :  [290, 1928, 510, 2031]\n",
            "barcode       :  31.376582384109497  :  [334, 1899, 471, 2000]\n",
            "barcode       :  46.458590030670166  :  [1890, 1899, 2036, 2008]\n",
            "barcode       :  50.08540749549866  :  [2261, 1858, 2416, 2026]\n",
            "barcode       :  51.661163568496704  :  [2583, 1887, 2855, 1990]\n",
            "barcode       :  46.20870351791382  :  [3345, 1892, 3570, 2004]\n",
            "barcode       :  37.456709146499634  :  [768, 1974, 904, 2064]\n",
            "barcode       :  54.220980405807495  :  [1147, 1954, 1292, 2075]\n",
            "barcode       :  53.35361957550049  :  [1531, 1954, 1668, 2075]\n",
            "barcode       :  41.77857041358948  :  [1898, 1953, 2041, 2072]\n",
            "barcode       :  49.484625458717346  :  [2899, 2210, 3102, 2324]\n",
            "barcode       :  58.34335684776306  :  [659, 2324, 916, 2414]\n",
            "barcode       :  51.61886811256409  :  [711, 2276, 855, 2388]\n",
            "barcode       :  37.33203113079071  :  [988, 2314, 1285, 2406]\n",
            "barcode       :  42.00618863105774  :  [1064, 2268, 1216, 2400]\n",
            "barcode       :  46.78230583667755  :  [1395, 2320, 1625, 2408]\n",
            "barcode       :  53.53946089744568  :  [1790, 2299, 2001, 2408]\n",
            "barcode       :  47.92894721031189  :  [2144, 2272, 2269, 2382]\n",
            "barcode       :  46.19600474834442  :  [2563, 2270, 2719, 2366]\n",
            "barcode       :  32.30385184288025  :  [227, 2370, 447, 2475]\n",
            "barcode       :  51.42579674720764  :  [1386, 2593, 1527, 2705]\n",
            "barcode       :  54.68250513076782  :  [1782, 2607, 1977, 2722]\n",
            "barcode       :  57.99083113670349  :  [2133, 2577, 2268, 2692]\n",
            "barcode       :  44.00556981563568  :  [2445, 2611, 2656, 2703]\n",
            "barcode       :  53.047341108322144  :  [2835, 2600, 3053, 2711]\n",
            "barcode       :  39.11610245704651  :  [2889, 2580, 3003, 2689]\n",
            "barcode       :  43.42350661754608  :  [3256, 2577, 3377, 2707]\n",
            "barcode       :  43.11880171298981  :  [202, 2696, 486, 2790]\n",
            "barcode       :  44.75901126861572  :  [284, 2665, 397, 2780]\n",
            "barcode       :  48.12661409378052  :  [620, 2701, 827, 2796]\n",
            "barcode       :  46.870213747024536  :  [1068, 2670, 1214, 2785]\n",
            "barcode       :  57.544100284576416  :  [2455, 2912, 2662, 3018]\n",
            "barcode       :  49.40848648548126  :  [3174, 2882, 3300, 2999]\n",
            "barcode       :  55.93251585960388  :  [240, 3019, 456, 3115]\n",
            "barcode       :  40.56309461593628  :  [289, 2986, 388, 3088]\n",
            "barcode       :  49.629685282707214  :  [655, 3002, 874, 3102]\n",
            "barcode       :  59.08088684082031  :  [919, 2987, 1251, 3071]\n",
            "barcode       :  57.92933106422424  :  [1013, 2960, 1154, 3077]\n",
            "barcode       :  50.99213719367981  :  [1384, 2975, 1518, 3086]\n",
            "barcode       :  56.91195726394653  :  [1750, 2986, 1915, 3081]\n",
            "barcode       :  50.5987823009491  :  [2075, 2989, 2284, 3088]\n",
            "barcode       :  31.18450939655304  :  [2820, 2946, 2949, 3105]\n",
            "barcode       :  62.51338720321655  :  [2739, 2978, 3001, 3080]\n",
            "barcode       :  48.037853837013245  :  [1285, 3318, 1508, 3402]\n",
            "barcode       :  33.900946378707886  :  [1375, 3286, 1495, 3390]\n",
            "barcode       :  50.78164339065552  :  [1711, 3290, 1920, 3385]\n",
            "barcode       :  52.5437593460083  :  [2041, 3306, 2240, 3398]\n",
            "barcode       :  53.2260537147522  :  [2797, 3279, 2938, 3397]\n",
            "barcode       :  46.70417308807373  :  [189, 3366, 334, 3480]\n",
            "barcode       :  54.286372661590576  :  [591, 3386, 810, 3485]\n",
            "barcode       :  56.934696435928345  :  [914, 3376, 1126, 3483]\n",
            "barcode       :  58.94482731819153  :  [2372, 3382, 2605, 3493]\n",
            "barcode       :  53.67456078529358  :  [3124, 3378, 3347, 3481]\n",
            "barcode       :  43.756768107414246  :  [2725, 3590, 2856, 3700]\n",
            "barcode       :  51.6854465007782  :  [172, 3714, 373, 3810]\n",
            "barcode       :  48.086532950401306  :  [568, 3688, 809, 3774]\n",
            "barcode       :  42.17405617237091  :  [965, 3655, 1072, 3793]\n",
            "barcode       :  52.45721936225891  :  [892, 3682, 1125, 3776]\n",
            "barcode       :  43.96753907203674  :  [1256, 3710, 1464, 3805]\n",
            "barcode       :  49.107950925827026  :  [1647, 3694, 1837, 3800]\n",
            "barcode       :  48.891809582710266  :  [1955, 3710, 2173, 3804]\n",
            "barcode       :  35.65715849399567  :  [2319, 3708, 2558, 3791]\n",
            "barcode       :  39.2950177192688  :  [2382, 3687, 2492, 3787]\n",
            "barcode       :  34.58085358142853  :  [2423, 3676, 2545, 3822]\n",
            "barcode       :  36.10672950744629  :  [3105, 3637, 3233, 3811]\n",
            "barcode       :  50.086939334869385  :  [3032, 3685, 3272, 3764]\n",
            "barcode       :  45.80190181732178  :  [553, 3983, 700, 4100]\n",
            "barcode       :  54.10025715827942  :  [912, 3989, 1095, 4083]\n",
            "barcode       :  49.289971590042114  :  [1301, 3987, 1442, 4094]\n",
            "barcode       :  46.36227786540985  :  [1657, 4003, 1825, 4093]\n",
            "barcode       :  47.946563363075256  :  [1943, 3990, 2139, 4084]\n",
            "barcode       :  48.729345202445984  :  [2342, 3969, 2490, 4076]\n",
            "barcode       :  55.348408222198486  :  [2698, 4005, 2911, 4103]\n",
            "barcode       :  38.73995542526245  :  [2754, 3976, 2848, 4098]\n",
            "barcode       :  59.82477068901062  :  [3002, 3968, 3192, 4089]\n",
            "barcode       :  35.53217947483063  :  [204, 4028, 336, 4207]\n",
            "barcode       :  51.30473971366882  :  [139, 4074, 372, 4166]\n",
            "barcode       :  33.68062674999237  :  [475, 4335, 668, 4417]\n",
            "barcode       :  46.14847004413605  :  [956, 4292, 1053, 4403]\n",
            "barcode       :  42.71425902843475  :  [1234, 4299, 1366, 4404]\n",
            "barcode       :  44.83370780944824  :  [1630, 4305, 1751, 4422]\n",
            "barcode       :  42.636945843696594  :  [1979, 4294, 2087, 4421]\n",
            "barcode       :  59.69969630241394  :  [2247, 4264, 2456, 4379]\n",
            "barcode       :  39.83186185359955  :  [2544, 4284, 2777, 4392]\n",
            "barcode       :  51.816534996032715  :  [163, 4367, 391, 4484]\n",
            "barcode       :  43.2563453912735  :  [3051, 4476, 3261, 4591]\n",
            "----------------------------------------------------------------\n",
            "Quantidade de código de barras detectados na imagem:  132\n"
          ],
          "name": "stdout"
        }
      ]
    },
    {
      "cell_type": "markdown",
      "metadata": {
        "id": "UBueY6086TP4",
        "colab_type": "text"
      },
      "source": [
        "## 4. Movendo as pastas para o diretório correto. ##\n"
      ]
    },
    {
      "cell_type": "code",
      "metadata": {
        "id": "H_Q4bIO56SVM",
        "colab_type": "code",
        "colab": {}
      },
      "source": [
        "!mv /content/barcode-detected.jpg $folderCorrida\n",
        "!mv /content/barcode-detected-objects $folderCorrida\n",
        "\n",
        "barcode = \"/content/drive/My\\ Drive/Colab/Corridas/Corrida_\" + newFolderCorrida + \"/barcode-detected-objects\"\n",
        "images = \"/content/drive/My\\ Drive/Colab/Corridas/Corrida_\" + newFolderCorrida + \"/tags_images\"\n",
        "!mv  $barcode $images"
      ],
      "execution_count": 0,
      "outputs": []
    }
  ]
}